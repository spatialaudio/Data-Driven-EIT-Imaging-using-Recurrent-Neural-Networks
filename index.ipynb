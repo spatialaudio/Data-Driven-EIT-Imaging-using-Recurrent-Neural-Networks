{
 "cells": [
  {
   "cell_type": "markdown",
   "id": "fc810cab-5cdd-40cd-a0de-4ede1d3b5b4b",
   "metadata": {},
   "source": [
    "# EIT Trajectory Prediction VAE-LSTM\n",
    "\n",
    "## Circular Shape\n",
    "\n",
    "- [Preprocessing](codes/preprocessing.ipynb)\n",
    "- [Reconstruction](codes/reconstruction.ipynb)\n",
    "- [VAE](codes/VAE.ipynb)\n",
    "- [lstm example](codes/lstm_example.ipynb)\n",
    "- [LSTM](codes/LSTM.ipynb)\n",
    "- [VAE & LSTM V1](codes/VAE_LSTM_V1.ipynb)\n",
    "- [VAE & LSTM V2](codes/VAE_LSTM_V2.ipynb)\n",
    "- [VAE & LSTM V3](codes/VAE_LSTM_V3.ipynb)\n",
    "- [LSTM only](codes/LSTM_only.ipynb)\n",
    "\n",
    "## Thorax Shape\n",
    "\n",
    "- [generate data](codes/gen_thorax_data.ipynb)\n",
    "- [preprocessing thorax](codes/preprocessing-thorax.ipynb)"
   ]
  },
  {
   "cell_type": "code",
   "execution_count": null,
   "id": "fbd708fe-1d04-4c86-914f-0dad8448117a",
   "metadata": {},
   "outputs": [],
   "source": []
  }
 ],
 "metadata": {
  "kernelspec": {
   "display_name": "Python 3 (ipykernel)",
   "language": "python",
   "name": "python3"
  },
  "language_info": {
   "codemirror_mode": {
    "name": "ipython",
    "version": 3
   },
   "file_extension": ".py",
   "mimetype": "text/x-python",
   "name": "python",
   "nbconvert_exporter": "python",
   "pygments_lexer": "ipython3",
   "version": "3.9.10"
  }
 },
 "nbformat": 4,
 "nbformat_minor": 5
}
