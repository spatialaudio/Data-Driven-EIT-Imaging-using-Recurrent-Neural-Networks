{
 "cells": [
  {
   "cell_type": "markdown",
   "id": "fc810cab-5cdd-40cd-a0de-4ede1d3b5b4b",
   "metadata": {},
   "source": [
    "# EIT Reconstruction Optimazazion using a VAE- Mapper-LSTM Approach\n",
    "\n",
    "- [Reconstruction](codes/reconstruction.ipynb)\n",
    "\n",
    "## Circular Shape\n",
    "\n",
    "- [predict circle LSTM-Mapper & VAE](codes/pred_circle_LSTM_M_VAE.ipynb)\n",
    "\n",
    "## Thorax Shape\n",
    "\n",
    "- [predict thorax LSTM-Mapper & VAE](codes/pred_thorax_LSTM_M_VAE.ipynb)\n",
    "\n",
    "## Archive\n",
    "\n",
    "\n",
    "\n",
    "- [Preprocessing](codes/archive/preprocessing.ipynb)\n",
    "- [VAE](codes/archive/VAE.ipynb)\n",
    "- [lstm example](codes/archive/lstm_example.ipynb)\n",
    "- [LSTM](codes/archive/LSTM.ipynb)\n",
    "- [VAE & LSTM V1](codes/archive/VAE_LSTM_V1.ipynb)\n",
    "- [VAE & LSTM V2](codes/archive/VAE_LSTM_V2.ipynb)\n",
    "- [VAE & LSTM V3](codes/archive/VAE_LSTM_V3.ipynb)\n",
    "- [LSTM only](codes/archive/LSTM_only.ipynb)\n",
    "\n",
    "- [generate data](codes/gen_thorax_data.ipynb)\n",
    "- [preprocessing thorax](codes/archive/preprocessing-thorax.ipynb)\n",
    "- [predict thorax V1](codes/archive/pred_thorax_V1.ipynb)\n",
    "- [predict thorax V2](codes/archive/pred_thorax_V2.ipynb)\n"
   ]
  }
 ],
 "metadata": {
  "kernelspec": {
   "display_name": "Python 3 (ipykernel)",
   "language": "python",
   "name": "python3"
  },
  "language_info": {
   "codemirror_mode": {
    "name": "ipython",
    "version": 3
   },
   "file_extension": ".py",
   "mimetype": "text/x-python",
   "name": "python",
   "nbconvert_exporter": "python",
   "pygments_lexer": "ipython3",
   "version": "3.9.10"
  }
 },
 "nbformat": 4,
 "nbformat_minor": 5
}
