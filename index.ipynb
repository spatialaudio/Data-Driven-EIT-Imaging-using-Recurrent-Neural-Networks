{
 "cells": [
  {
   "cell_type": "markdown",
   "id": "fc810cab-5cdd-40cd-a0de-4ede1d3b5b4b",
   "metadata": {},
   "source": [
    "# Absolute EIT Reconstruction using a VAE-LSTM Model Approach\n",
    "\n",
    "\n",
    "\n",
    "- [Predict Thorax](codes/pred_thorax_LSTM_M_VAE.ipynb)\n",
    "\n",
    "\n",
    "<!---\n",
    "## Archive\n",
    "- [Reconstruction](codes/reconstruction.ipynb)\n",
    "- [Run Thorax Model](codes/run_thorax_model.ipynb)\n",
    "\n",
    "- [Preprocessing](codes/archive/preprocessing.ipynb)\n",
    "- [VAE](codes/archive/VAE.ipynb)\n",
    "- [lstm example](codes/archive/lstm_example.ipynb)\n",
    "- [LSTM](codes/archive/LSTM.ipynb)\n",
    "- [VAE & LSTM V1](codes/archive/VAE_LSTM_V1.ipynb)\n",
    "- [VAE & LSTM V2](codes/archive/VAE_LSTM_V2.ipynb)\n",
    "- [VAE & LSTM V3](codes/archive/VAE_LSTM_V3.ipynb)\n",
    "- [LSTM only](codes/archive/LSTM_only.ipynb)\n",
    "\n",
    "- [generate data](codes/gen_thorax_data.ipynb)\n",
    "- [preprocessing thorax](codes/archive/preprocessing-thorax.ipynb)\n",
    "- [predict thorax V1](codes/archive/pred_thorax_V1.ipynb)\n",
    "- [predict thorax V2](codes/archive/pred_thorax_V2.ipynb)\n",
    "-->"
   ]
  },
  {
   "cell_type": "markdown",
   "id": "e4743d9e-8d0e-4d1c-b49b-409f9209382c",
   "metadata": {},
   "source": [
    "_Contact:_ `jacob.thoenes@uni-rostock.de`"
   ]
  }
 ],
 "metadata": {
  "kernelspec": {
   "display_name": "Python 3 (ipykernel)",
   "language": "python",
   "name": "python3"
  },
  "language_info": {
   "codemirror_mode": {
    "name": "ipython",
    "version": 3
   },
   "file_extension": ".py",
   "mimetype": "text/x-python",
   "name": "python",
   "nbconvert_exporter": "python",
   "pygments_lexer": "ipython3",
   "version": "3.9.10"
  }
 },
 "nbformat": 4,
 "nbformat_minor": 5
}
