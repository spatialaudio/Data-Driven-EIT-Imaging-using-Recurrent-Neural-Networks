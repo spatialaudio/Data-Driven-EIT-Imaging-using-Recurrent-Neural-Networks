{
 "cells": [
  {
   "cell_type": "markdown",
   "id": "fc810cab-5cdd-40cd-a0de-4ede1d3b5b4b",
   "metadata": {},
   "source": [
    "# EIT Trajectory Prediction VAE-LSTM\n",
    "\n",
    "## Circular Shape\n",
    "\n",
    "- [preprocessing](codes/preprocessing.ipynb)\n",
    "- [Reconstruction](codes/reconstruction.ipynb)\n",
    "- [VAE](codes/VAE.ipynb)\n",
    "- [lstm example](codes/lstm_example.ipynb)\n",
    "- [LSTM](codes/LSTM.ipynb)\n",
    "- [VAE & LSTM](codes/VAE_LSTM.ipynb)\n",
    "\n",
    "## Thorax Shape\n",
    "\n",
    "- [generate data](codes/gen_thorax_data.ipynb)"
   ]
  },
  {
   "cell_type": "code",
   "execution_count": null,
   "id": "38846980-de79-4b5b-881d-c59a8da37d7d",
   "metadata": {},
   "outputs": [],
   "source": []
  }
 ],
 "metadata": {
  "kernelspec": {
   "display_name": "Python 3 (ipykernel)",
   "language": "python",
   "name": "python3"
  },
  "language_info": {
   "codemirror_mode": {
    "name": "ipython",
    "version": 3
   },
   "file_extension": ".py",
   "mimetype": "text/x-python",
   "name": "python",
   "nbconvert_exporter": "python",
   "pygments_lexer": "ipython3",
   "version": "3.10.12"
  }
 },
 "nbformat": 4,
 "nbformat_minor": 5
}
