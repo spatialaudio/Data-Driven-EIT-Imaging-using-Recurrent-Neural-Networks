{
 "cells": [
  {
   "cell_type": "code",
   "execution_count": 1,
   "id": "4339fe0b-1330-4c3c-8e98-59b75b9ff446",
   "metadata": {
    "tags": []
   },
   "outputs": [
    {
     "name": "stderr",
     "output_type": "stream",
     "text": [
      "2023-10-09 10:11:28.949708: I tensorflow/tsl/cuda/cudart_stub.cc:28] Could not find cuda drivers on your machine, GPU will not be used.\n",
      "2023-10-09 10:11:28.978565: I tensorflow/tsl/cuda/cudart_stub.cc:28] Could not find cuda drivers on your machine, GPU will not be used.\n",
      "2023-10-09 10:11:28.979474: I tensorflow/core/platform/cpu_feature_guard.cc:182] This TensorFlow binary is optimized to use available CPU instructions in performance-critical operations.\n",
      "To enable the following instructions: AVX2 FMA, in other operations, rebuild TensorFlow with the appropriate compiler flags.\n",
      "2023-10-09 10:11:29.574931: W tensorflow/compiler/tf2tensorrt/utils/py_utils.cc:38] TF-TRT Warning: Could not find TensorRT\n"
     ]
    }
   ],
   "source": [
    "import os\n",
    "\n",
    "import matplotlib.pyplot as plt\n",
    "import numpy as np\n",
    "import tensorflow as tf\n",
    "from sklearn.model_selection import train_test_split\n",
    "from tensorflow import keras\n",
    "from tensorflow.keras import layers, models\n",
    "from tensorflow.keras.losses import mse"
   ]
  },
  {
   "cell_type": "code",
   "execution_count": 2,
   "id": "da1294ea-d3d9-4312-8a45-c24bd4b3ae08",
   "metadata": {
    "tags": []
   },
   "outputs": [
    {
     "name": "stdout",
     "output_type": "stream",
     "text": [
      "This directory exists...continue\n"
     ]
    }
   ],
   "source": [
    "n_el = 16\n",
    "r_obj = 0.4\n",
    "dist_exc = 8\n",
    "step_meas = 4\n",
    "\n",
    "load_path = f\"data/{n_el=}_{r_obj=}_{dist_exc=}_{step_meas=}/\"\n",
    "\n",
    "if os.path.isdir(load_path):\n",
    "    print(\"This directory exists...continue\")\n",
    "else:\n",
    "    print(\"You have to generate the data...\")"
   ]
  },
  {
   "cell_type": "code",
   "execution_count": 3,
   "id": "120e26c9-1272-4997-a7f6-f076bf71275a",
   "metadata": {
    "tags": []
   },
   "outputs": [],
   "source": [
    "V = np.load(\"saves/\" + load_path.split(\"/\")[1] + \"_v_data.npy\", allow_pickle=True)"
   ]
  },
  {
   "cell_type": "code",
   "execution_count": 4,
   "id": "58cab95e-4545-4b15-8a8a-fcdb6d270165",
   "metadata": {
    "tags": []
   },
   "outputs": [
    {
     "data": {
      "text/plain": [
       "(249, 192)"
      ]
     },
     "execution_count": 4,
     "metadata": {},
     "output_type": "execute_result"
    }
   ],
   "source": [
    "V.shape"
   ]
  },
  {
   "cell_type": "code",
   "execution_count": 5,
   "id": "f34a8309-96bd-41bc-9043-b14eb17969ce",
   "metadata": {
    "tags": []
   },
   "outputs": [],
   "source": [
    "def sampling(args):\n",
    "    z_mean, z_log_var = args\n",
    "    epsilon = keras.backend.random_normal(\n",
    "        shape=(keras.backend.shape(z_mean)[0], latent_dim)\n",
    "    )\n",
    "    return z_mean + keras.backend.exp(0.5 * z_log_var) * epsilon"
   ]
  },
  {
   "cell_type": "code",
   "execution_count": 6,
   "id": "d04f6da4-1417-4bcf-a2ba-828f33379ec3",
   "metadata": {
    "tags": []
   },
   "outputs": [
    {
     "name": "stdout",
     "output_type": "stream",
     "text": [
      "Model: \"encoder\"\n",
      "__________________________________________________________________________________________________\n",
      " Layer (type)                Output Shape                 Param #   Connected to                  \n",
      "==================================================================================================\n",
      " input_1 (InputLayer)        [(None, 192)]                0         []                            \n",
      "                                                                                                  \n",
      " dense (Dense)               (None, 64)                   12352     ['input_1[0][0]']             \n",
      "                                                                                                  \n",
      " dense_1 (Dense)             (None, 32)                   2080      ['dense[0][0]']               \n",
      "                                                                                                  \n",
      " flatten (Flatten)           (None, 32)                   0         ['dense_1[0][0]']             \n",
      "                                                                                                  \n",
      " dense_2 (Dense)             (None, 16)                   528       ['flatten[0][0]']             \n",
      "                                                                                                  \n",
      " z_mean (Dense)              (None, 4)                    68        ['dense_2[0][0]']             \n",
      "                                                                                                  \n",
      " z_log_var (Dense)           (None, 4)                    68        ['dense_2[0][0]']             \n",
      "                                                                                                  \n",
      " z (Lambda)                  (None, 4)                    0         ['z_mean[0][0]',              \n",
      "                                                                     'z_log_var[0][0]']           \n",
      "                                                                                                  \n",
      "==================================================================================================\n",
      "Total params: 15096 (58.97 KB)\n",
      "Trainable params: 15096 (58.97 KB)\n",
      "Non-trainable params: 0 (0.00 Byte)\n",
      "__________________________________________________________________________________________________\n"
     ]
    },
    {
     "name": "stderr",
     "output_type": "stream",
     "text": [
      "2023-10-09 10:11:30.678407: E tensorflow/compiler/xla/stream_executor/cuda/cuda_driver.cc:268] failed call to cuInit: CUDA_ERROR_NO_DEVICE: no CUDA-capable device is detected\n"
     ]
    }
   ],
   "source": [
    "latent_dim = 4\n",
    "\n",
    "encoder_inputs = keras.Input(shape=(192,))\n",
    "\n",
    "x = layers.Dense(64, activation=\"relu\")(encoder_inputs)\n",
    "x = layers.Dense(32, activation=\"relu\")(x)\n",
    "x = layers.Flatten()(x)\n",
    "x = layers.Dense(16, activation=\"relu\")(x)\n",
    "\n",
    "z_mean = layers.Dense(latent_dim, name=\"z_mean\")(x)\n",
    "z_log_var = layers.Dense(latent_dim, name=\"z_log_var\")(x)\n",
    "\n",
    "\n",
    "z = layers.Lambda(sampling, output_shape=(latent_dim,), name=\"z\")([z_mean, z_log_var])\n",
    "\n",
    "encoder = keras.Model(encoder_inputs, [z_mean, z_log_var, z], name=\"encoder\")\n",
    "encoder.summary()"
   ]
  },
  {
   "cell_type": "code",
   "execution_count": 7,
   "id": "4a8ee74d-3421-4565-9d98-4ac187632b9b",
   "metadata": {
    "tags": []
   },
   "outputs": [
    {
     "name": "stdout",
     "output_type": "stream",
     "text": [
      "Model: \"decoder\"\n",
      "_________________________________________________________________\n",
      " Layer (type)                Output Shape              Param #   \n",
      "=================================================================\n",
      " z_sampling (InputLayer)     [(None, 4)]               0         \n",
      "                                                                 \n",
      " dense_3 (Dense)             (None, 16)                80        \n",
      "                                                                 \n",
      " dense_4 (Dense)             (None, 32)                544       \n",
      "                                                                 \n",
      " dense_5 (Dense)             (None, 64)                2112      \n",
      "                                                                 \n",
      " dense_6 (Dense)             (None, 192)               12480     \n",
      "                                                                 \n",
      " flatten_1 (Flatten)         (None, 192)               0         \n",
      "                                                                 \n",
      "=================================================================\n",
      "Total params: 15216 (59.44 KB)\n",
      "Trainable params: 15216 (59.44 KB)\n",
      "Non-trainable params: 0 (0.00 Byte)\n",
      "_________________________________________________________________\n"
     ]
    }
   ],
   "source": [
    "# Definiere den Decoder\n",
    "latent_inputs = keras.Input(shape=(latent_dim,), name=\"z_sampling\")\n",
    "x = layers.Dense(16, activation=\"relu\")(latent_inputs)\n",
    "x = layers.Dense(32, activation=\"relu\")(x)\n",
    "x = layers.Dense(64, activation=\"relu\")(x)\n",
    "x = layers.Dense(192, activation=\"relu\")(x)\n",
    "decoder_outputs = layers.Flatten()(x)\n",
    "\n",
    "decoder = keras.Model(latent_inputs, decoder_outputs, name=\"decoder\")\n",
    "decoder.summary()"
   ]
  },
  {
   "cell_type": "code",
   "execution_count": 8,
   "id": "950a3173-bf2f-4251-9c22-6513c4bc9376",
   "metadata": {
    "tags": []
   },
   "outputs": [],
   "source": [
    "class VAE(keras.Model):\n",
    "    def __init__(self, encoder, decoder, **kwargs):\n",
    "        super().__init__(**kwargs)\n",
    "        self.encoder = encoder\n",
    "        self.decoder = decoder\n",
    "        self.total_loss_tracker = keras.metrics.Mean(name=\"total_loss\")\n",
    "        self.reconstruction_loss_tracker = keras.metrics.Mean(\n",
    "            name=\"reconstruction_loss\"\n",
    "        )\n",
    "        self.kl_loss_tracker = keras.metrics.Mean(name=\"kl_loss\")\n",
    "\n",
    "    @property\n",
    "    def metrics(self):\n",
    "        return [\n",
    "            self.total_loss_tracker,\n",
    "            self.reconstruction_loss_tracker,\n",
    "            self.kl_loss_tracker,\n",
    "        ]\n",
    "\n",
    "    def train_step(self, data):\n",
    "        with tf.GradientTape() as tape:\n",
    "            z_mean, z_log_var, z = self.encoder(data)\n",
    "            reconstruction = self.decoder(z)\n",
    "\n",
    "            mse_loss = tf.keras.losses.mean_squared_error(data, reconstruction)\n",
    "            reconstruction_loss = tf.reduce_mean(mse_loss)\n",
    "\n",
    "            kl_loss = -0.5 * (1 + z_log_var - tf.square(z_mean) - tf.exp(z_log_var))\n",
    "            kl_loss = tf.reduce_mean(tf.reduce_sum(kl_loss, axis=1))\n",
    "            total_loss = reconstruction_loss + kl_loss\n",
    "        grads = tape.gradient(total_loss, self.trainable_weights)\n",
    "        self.optimizer.apply_gradients(zip(grads, self.trainable_weights))\n",
    "        self.total_loss_tracker.update_state(total_loss)\n",
    "        self.reconstruction_loss_tracker.update_state(reconstruction_loss)\n",
    "        self.kl_loss_tracker.update_state(kl_loss)\n",
    "        return {\n",
    "            \"loss\": self.total_loss_tracker.result(),\n",
    "            \"reconstruction_loss\": self.reconstruction_loss_tracker.result(),\n",
    "            \"kl_loss\": self.kl_loss_tracker.result(),\n",
    "        }"
   ]
  },
  {
   "cell_type": "code",
   "execution_count": 9,
   "id": "9d6e0f15-9276-4bc9-813a-7595ed039856",
   "metadata": {
    "tags": []
   },
   "outputs": [],
   "source": [
    "vae = VAE(encoder, decoder)\n",
    "vae.compile(optimizer=keras.optimizers.Adam())"
   ]
  },
  {
   "cell_type": "code",
   "execution_count": 10,
   "id": "616c200f-1a83-4327-b37f-b4c8f9cab1c6",
   "metadata": {
    "tags": []
   },
   "outputs": [
    {
     "data": {
      "text/plain": [
       "(249, 192)"
      ]
     },
     "execution_count": 10,
     "metadata": {},
     "output_type": "execute_result"
    }
   ],
   "source": [
    "V.shape"
   ]
  },
  {
   "cell_type": "code",
   "execution_count": 11,
   "id": "a5414fcb-99c0-4db3-9c69-f122695bb8d9",
   "metadata": {
    "tags": []
   },
   "outputs": [
    {
     "name": "stdout",
     "output_type": "stream",
     "text": [
      "Epoch 1/30\n",
      "2/2 [==============================] - 1s 8ms/step - loss: 0.4601 - reconstruction_loss: 0.3015 - kl_loss: 0.1465\n",
      "Epoch 2/30\n",
      "2/2 [==============================] - 0s 5ms/step - loss: 0.3422 - reconstruction_loss: 0.2958 - kl_loss: 0.0391\n",
      "Epoch 3/30\n",
      "2/2 [==============================] - 0s 5ms/step - loss: 0.2920 - reconstruction_loss: 0.2831 - kl_loss: 0.0068\n",
      "Epoch 4/30\n",
      "2/2 [==============================] - 0s 5ms/step - loss: 0.2745 - reconstruction_loss: 0.2709 - kl_loss: 0.0015\n",
      "Epoch 5/30\n",
      "2/2 [==============================] - 0s 6ms/step - loss: 0.2599 - reconstruction_loss: 0.2572 - kl_loss: 5.2358e-04\n",
      "Epoch 6/30\n",
      "2/2 [==============================] - 0s 6ms/step - loss: 0.2429 - reconstruction_loss: 0.2422 - kl_loss: 1.7161e-04\n",
      "Epoch 7/30\n",
      "2/2 [==============================] - 0s 5ms/step - loss: 0.2326 - reconstruction_loss: 0.2313 - kl_loss: 1.5996e-04\n",
      "Epoch 8/30\n",
      "2/2 [==============================] - 0s 6ms/step - loss: 0.2182 - reconstruction_loss: 0.2173 - kl_loss: 1.9282e-04\n",
      "Epoch 9/30\n",
      "2/2 [==============================] - 0s 6ms/step - loss: 0.2008 - reconstruction_loss: 0.1991 - kl_loss: 2.1739e-04\n",
      "Epoch 10/30\n",
      "2/2 [==============================] - 0s 5ms/step - loss: 0.1841 - reconstruction_loss: 0.1836 - kl_loss: 2.3876e-04\n",
      "Epoch 11/30\n",
      "2/2 [==============================] - 0s 6ms/step - loss: 0.1591 - reconstruction_loss: 0.1587 - kl_loss: 2.5676e-04\n",
      "Epoch 12/30\n",
      "2/2 [==============================] - 0s 7ms/step - loss: 0.1539 - reconstruction_loss: 0.1518 - kl_loss: 2.7120e-04\n",
      "Epoch 13/30\n",
      "2/2 [==============================] - 0s 7ms/step - loss: 0.1411 - reconstruction_loss: 0.1410 - kl_loss: 2.8120e-04\n",
      "Epoch 14/30\n",
      "2/2 [==============================] - 0s 5ms/step - loss: 0.1285 - reconstruction_loss: 0.1271 - kl_loss: 2.8701e-04\n",
      "Epoch 15/30\n",
      "2/2 [==============================] - 0s 6ms/step - loss: 0.1154 - reconstruction_loss: 0.1147 - kl_loss: 2.8975e-04\n",
      "Epoch 16/30\n",
      "2/2 [==============================] - 0s 5ms/step - loss: 0.0993 - reconstruction_loss: 0.0995 - kl_loss: 2.8710e-04\n",
      "Epoch 17/30\n",
      "2/2 [==============================] - 0s 5ms/step - loss: 0.1016 - reconstruction_loss: 0.1002 - kl_loss: 2.7862e-04\n",
      "Epoch 18/30\n",
      "2/2 [==============================] - 0s 5ms/step - loss: 0.0942 - reconstruction_loss: 0.0937 - kl_loss: 2.6411e-04\n",
      "Epoch 19/30\n",
      "2/2 [==============================] - 0s 6ms/step - loss: 0.0857 - reconstruction_loss: 0.0850 - kl_loss: 2.4417e-04\n",
      "Epoch 20/30\n",
      "2/2 [==============================] - 0s 7ms/step - loss: 0.0810 - reconstruction_loss: 0.0802 - kl_loss: 2.2088e-04\n",
      "Epoch 21/30\n",
      "2/2 [==============================] - 0s 5ms/step - loss: 0.0792 - reconstruction_loss: 0.0789 - kl_loss: 1.9702e-04\n",
      "Epoch 22/30\n",
      "2/2 [==============================] - 0s 6ms/step - loss: 0.0726 - reconstruction_loss: 0.0723 - kl_loss: 1.7326e-04\n",
      "Epoch 23/30\n",
      "2/2 [==============================] - 0s 5ms/step - loss: 0.0705 - reconstruction_loss: 0.0692 - kl_loss: 1.5098e-04\n",
      "Epoch 24/30\n",
      "2/2 [==============================] - 0s 5ms/step - loss: 0.0689 - reconstruction_loss: 0.0693 - kl_loss: 1.3050e-04\n",
      "Epoch 25/30\n",
      "2/2 [==============================] - 0s 5ms/step - loss: 0.0650 - reconstruction_loss: 0.0643 - kl_loss: 1.1182e-04\n",
      "Epoch 26/30\n",
      "2/2 [==============================] - 0s 5ms/step - loss: 0.0677 - reconstruction_loss: 0.0668 - kl_loss: 9.5233e-05\n",
      "Epoch 27/30\n",
      "2/2 [==============================] - 0s 4ms/step - loss: 0.0613 - reconstruction_loss: 0.0606 - kl_loss: 8.1271e-05\n",
      "Epoch 28/30\n",
      "2/2 [==============================] - 0s 4ms/step - loss: 0.0596 - reconstruction_loss: 0.0602 - kl_loss: 6.9886e-05\n",
      "Epoch 29/30\n",
      "2/2 [==============================] - 0s 4ms/step - loss: 0.0628 - reconstruction_loss: 0.0620 - kl_loss: 6.0588e-05\n",
      "Epoch 30/30\n",
      "2/2 [==============================] - 0s 5ms/step - loss: 0.0555 - reconstruction_loss: 0.0566 - kl_loss: 5.3003e-05\n"
     ]
    }
   ],
   "source": [
    "history = vae.fit(V, epochs=30, batch_size=128)"
   ]
  },
  {
   "cell_type": "code",
   "execution_count": 12,
   "id": "e5a19699-9ada-4377-95cb-8a436a7c527a",
   "metadata": {
    "tags": []
   },
   "outputs": [
    {
     "data": {
      "image/png": "[encoded data removed]",
      "text/plain": [
       "<Figure size 640x480 with 1 Axes>"
      ]
     },
     "metadata": {},
     "output_type": "display_data"
    }
   ],
   "source": [
    "plt.plot(history.history[\"loss\"], label=\"loss\")\n",
    "plt.plot(history.history[\"reconstruction_loss\"], label=\"reconstruction_loss\")\n",
    "plt.xlabel(\"Epochs\")\n",
    "plt.ylabel(\"Loss\")\n",
    "plt.legend()\n",
    "plt.show()"
   ]
  },
  {
   "cell_type": "code",
   "execution_count": 13,
   "id": "6f7ac2ef-0b34-454b-a0fd-4a7a35e87e6e",
   "metadata": {
    "tags": []
   },
   "outputs": [],
   "source": [
    "num_samples = 1\n",
    "random_latent_points = np.random.normal(size=(num_samples, latent_dim))"
   ]
  },
  {
   "cell_type": "code",
   "execution_count": 14,
   "id": "83fd6012-0b9c-4598-9b5b-2c04704d42b5",
   "metadata": {},
   "outputs": [
    {
     "name": "stdout",
     "output_type": "stream",
     "text": [
      "1/1 [==============================] - 0s 68ms/step\n"
     ]
    }
   ],
   "source": [
    "generated_data = vae.decoder.predict(random_latent_points)"
   ]
  },
  {
   "cell_type": "code",
   "execution_count": 16,
   "id": "ac5d5cca-d709-4a8f-b184-88a8af956223",
   "metadata": {
    "tags": []
   },
   "outputs": [
    {
     "data": {
      "text/plain": [
       "<StemContainer object of 3 artists>"
      ]
     },
     "execution_count": 16,
     "metadata": {},
     "output_type": "execute_result"
    },
    {
     "data": {
      "image/png": "[encoded data removed]",
      "text/plain": [
       "<Figure size 640x480 with 1 Axes>"
      ]
     },
     "metadata": {},
     "output_type": "display_data"
    }
   ],
   "source": [
    "plt.stem(np.concatenate(generated_data))"
   ]
  }
 ],
 "metadata": {
  "kernelspec": {
   "display_name": "Python 3 (ipykernel)",
   "language": "python",
   "name": "python3"
  },
  "language_info": {
   "codemirror_mode": {
    "name": "ipython",
    "version": 3
   },
   "file_extension": ".py",
   "mimetype": "text/x-python",
   "name": "python",
   "nbconvert_exporter": "python",
   "pygments_lexer": "ipython3",
   "version": "3.10.12"
  }
 },
 "nbformat": 4,
 "nbformat_minor": 5
}
