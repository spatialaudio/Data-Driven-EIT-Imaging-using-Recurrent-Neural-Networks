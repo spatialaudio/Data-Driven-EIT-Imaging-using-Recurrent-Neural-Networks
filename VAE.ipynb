{
 "cells": [
  {
   "cell_type": "code",
   "execution_count": 1,
   "id": "4339fe0b-1330-4c3c-8e98-59b75b9ff446",
   "metadata": {
    "tags": []
   },
   "outputs": [
    {
     "name": "stderr",
     "output_type": "stream",
     "text": [
      "2023-10-09 10:58:53.323393: I tensorflow/tsl/cuda/cudart_stub.cc:28] Could not find cuda drivers on your machine, GPU will not be used.\n",
      "2023-10-09 10:58:53.351295: I tensorflow/tsl/cuda/cudart_stub.cc:28] Could not find cuda drivers on your machine, GPU will not be used.\n",
      "2023-10-09 10:58:53.352220: I tensorflow/core/platform/cpu_feature_guard.cc:182] This TensorFlow binary is optimized to use available CPU instructions in performance-critical operations.\n",
      "To enable the following instructions: AVX2 FMA, in other operations, rebuild TensorFlow with the appropriate compiler flags.\n",
      "2023-10-09 10:58:53.984119: W tensorflow/compiler/tf2tensorrt/utils/py_utils.cc:38] TF-TRT Warning: Could not find TensorRT\n"
     ]
    }
   ],
   "source": [
    "import os\n",
    "\n",
    "import matplotlib.pyplot as plt\n",
    "import numpy as np\n",
    "import tensorflow as tf\n",
    "from sklearn.model_selection import train_test_split\n",
    "from tensorflow import keras\n",
    "from tensorflow.keras import layers, models\n",
    "from tensorflow.keras.losses import mse"
   ]
  },
  {
   "cell_type": "code",
   "execution_count": 2,
   "id": "da1294ea-d3d9-4312-8a45-c24bd4b3ae08",
   "metadata": {
    "tags": []
   },
   "outputs": [
    {
     "name": "stdout",
     "output_type": "stream",
     "text": [
      "This directory exists...continue\n"
     ]
    }
   ],
   "source": [
    "n_el = 16\n",
    "r_obj = 0.4\n",
    "dist_exc = 8\n",
    "step_meas = 4\n",
    "\n",
    "load_path = f\"data/{n_el=}_{r_obj=}_{dist_exc=}_{step_meas=}/\"\n",
    "\n",
    "if os.path.isdir(load_path):\n",
    "    print(\"This directory exists...continue\")\n",
    "else:\n",
    "    print(\"You have to generate the data...\")"
   ]
  },
  {
   "cell_type": "code",
   "execution_count": 3,
   "id": "120e26c9-1272-4997-a7f6-f076bf71275a",
   "metadata": {
    "tags": []
   },
   "outputs": [],
   "source": [
    "V = np.load(\"saves/\" + load_path.split(\"/\")[1] + \"_v_data.npy\", allow_pickle=True)"
   ]
  },
  {
   "cell_type": "code",
   "execution_count": 4,
   "id": "58cab95e-4545-4b15-8a8a-fcdb6d270165",
   "metadata": {
    "tags": []
   },
   "outputs": [
    {
     "data": {
      "text/plain": [
       "(249, 192)"
      ]
     },
     "execution_count": 4,
     "metadata": {},
     "output_type": "execute_result"
    }
   ],
   "source": [
    "V.shape"
   ]
  },
  {
   "cell_type": "code",
   "execution_count": 5,
   "id": "f34a8309-96bd-41bc-9043-b14eb17969ce",
   "metadata": {
    "tags": []
   },
   "outputs": [],
   "source": [
    "def sampling(args):\n",
    "    z_mean, z_log_var = args\n",
    "    epsilon = keras.backend.random_normal(\n",
    "        shape=(keras.backend.shape(z_mean)[0], latent_dim)\n",
    "    )\n",
    "    return z_mean + keras.backend.exp(0.5 * z_log_var) * epsilon"
   ]
  },
  {
   "cell_type": "code",
   "execution_count": 6,
   "id": "d04f6da4-1417-4bcf-a2ba-828f33379ec3",
   "metadata": {
    "tags": []
   },
   "outputs": [
    {
     "name": "stdout",
     "output_type": "stream",
     "text": [
      "Model: \"encoder\"\n",
      "__________________________________________________________________________________________________\n",
      " Layer (type)                Output Shape                 Param #   Connected to                  \n",
      "==================================================================================================\n",
      " input_1 (InputLayer)        [(None, 192)]                0         []                            \n",
      "                                                                                                  \n",
      " dense (Dense)               (None, 64)                   12352     ['input_1[0][0]']             \n",
      "                                                                                                  \n",
      " dense_1 (Dense)             (None, 32)                   2080      ['dense[0][0]']               \n",
      "                                                                                                  \n",
      " flatten (Flatten)           (None, 32)                   0         ['dense_1[0][0]']             \n",
      "                                                                                                  \n",
      " dense_2 (Dense)             (None, 16)                   528       ['flatten[0][0]']             \n",
      "                                                                                                  \n",
      " z_mean (Dense)              (None, 4)                    68        ['dense_2[0][0]']             \n",
      "                                                                                                  \n",
      " z_log_var (Dense)           (None, 4)                    68        ['dense_2[0][0]']             \n",
      "                                                                                                  \n",
      " z (Lambda)                  (None, 4)                    0         ['z_mean[0][0]',              \n",
      "                                                                     'z_log_var[0][0]']           \n",
      "                                                                                                  \n",
      "==================================================================================================\n",
      "Total params: 15096 (58.97 KB)\n",
      "Trainable params: 15096 (58.97 KB)\n",
      "Non-trainable params: 0 (0.00 Byte)\n",
      "__________________________________________________________________________________________________\n"
     ]
    },
    {
     "name": "stderr",
     "output_type": "stream",
     "text": [
      "2023-10-09 10:58:55.086449: E tensorflow/compiler/xla/stream_executor/cuda/cuda_driver.cc:268] failed call to cuInit: CUDA_ERROR_NO_DEVICE: no CUDA-capable device is detected\n"
     ]
    }
   ],
   "source": [
    "latent_dim = 4\n",
    "\n",
    "encoder_inputs = keras.Input(shape=(192,))\n",
    "\n",
    "x = layers.Dense(64, activation=\"relu\")(encoder_inputs)\n",
    "x = layers.Dense(32, activation=\"relu\")(x)\n",
    "x = layers.Flatten()(x)\n",
    "x = layers.Dense(16, activation=\"relu\")(x)\n",
    "\n",
    "z_mean = layers.Dense(latent_dim, name=\"z_mean\")(x)\n",
    "z_log_var = layers.Dense(latent_dim, name=\"z_log_var\")(x)\n",
    "\n",
    "\n",
    "z = layers.Lambda(sampling, output_shape=(latent_dim,), name=\"z\")([z_mean, z_log_var])\n",
    "\n",
    "encoder = keras.Model(encoder_inputs, [z_mean, z_log_var, z], name=\"encoder\")\n",
    "encoder.summary()"
   ]
  },
  {
   "cell_type": "code",
   "execution_count": 7,
   "id": "4a8ee74d-3421-4565-9d98-4ac187632b9b",
   "metadata": {
    "tags": []
   },
   "outputs": [
    {
     "name": "stdout",
     "output_type": "stream",
     "text": [
      "Model: \"decoder\"\n",
      "_________________________________________________________________\n",
      " Layer (type)                Output Shape              Param #   \n",
      "=================================================================\n",
      " z_sampling (InputLayer)     [(None, 4)]               0         \n",
      "                                                                 \n",
      " dense_3 (Dense)             (None, 16)                80        \n",
      "                                                                 \n",
      " dense_4 (Dense)             (None, 32)                544       \n",
      "                                                                 \n",
      " dense_5 (Dense)             (None, 64)                2112      \n",
      "                                                                 \n",
      " dense_6 (Dense)             (None, 192)               12480     \n",
      "                                                                 \n",
      " flatten_1 (Flatten)         (None, 192)               0         \n",
      "                                                                 \n",
      "=================================================================\n",
      "Total params: 15216 (59.44 KB)\n",
      "Trainable params: 15216 (59.44 KB)\n",
      "Non-trainable params: 0 (0.00 Byte)\n",
      "_________________________________________________________________\n"
     ]
    }
   ],
   "source": [
    "# Definiere den Decoder\n",
    "latent_inputs = keras.Input(shape=(latent_dim,), name=\"z_sampling\")\n",
    "x = layers.Dense(16, activation=\"relu\")(latent_inputs)\n",
    "x = layers.Dense(32, activation=\"relu\")(x)\n",
    "x = layers.Dense(64, activation=\"relu\")(x)\n",
    "x = layers.Dense(192, activation=\"relu\")(x)\n",
    "decoder_outputs = layers.Flatten()(x)\n",
    "\n",
    "decoder = keras.Model(latent_inputs, decoder_outputs, name=\"decoder\")\n",
    "decoder.summary()"
   ]
  },
  {
   "cell_type": "code",
   "execution_count": 8,
   "id": "950a3173-bf2f-4251-9c22-6513c4bc9376",
   "metadata": {
    "tags": []
   },
   "outputs": [],
   "source": [
    "class VAE(keras.Model):\n",
    "    def __init__(self, encoder, decoder, **kwargs):\n",
    "        super().__init__(**kwargs)\n",
    "        self.encoder = encoder\n",
    "        self.decoder = decoder\n",
    "        self.total_loss_tracker = keras.metrics.Mean(name=\"total_loss\")\n",
    "        self.reconstruction_loss_tracker = keras.metrics.Mean(\n",
    "            name=\"reconstruction_loss\"\n",
    "        )\n",
    "        self.kl_loss_tracker = keras.metrics.Mean(name=\"kl_loss\")\n",
    "\n",
    "    @property\n",
    "    def metrics(self):\n",
    "        return [\n",
    "            self.total_loss_tracker,\n",
    "            self.reconstruction_loss_tracker,\n",
    "            self.kl_loss_tracker,\n",
    "        ]\n",
    "\n",
    "    def train_step(self, data):\n",
    "        with tf.GradientTape() as tape:\n",
    "            z_mean, z_log_var, z = self.encoder(data)\n",
    "            reconstruction = self.decoder(z)\n",
    "\n",
    "            mse_loss = tf.keras.losses.mean_squared_error(data, reconstruction)\n",
    "            reconstruction_loss = tf.reduce_mean(mse_loss)\n",
    "\n",
    "            kl_loss = -0.5 * (1 + z_log_var - tf.square(z_mean) - tf.exp(z_log_var))\n",
    "            kl_loss = tf.reduce_mean(tf.reduce_sum(kl_loss, axis=1))\n",
    "            total_loss = reconstruction_loss + kl_loss\n",
    "        grads = tape.gradient(total_loss, self.trainable_weights)\n",
    "        self.optimizer.apply_gradients(zip(grads, self.trainable_weights))\n",
    "        self.total_loss_tracker.update_state(total_loss)\n",
    "        self.reconstruction_loss_tracker.update_state(reconstruction_loss)\n",
    "        self.kl_loss_tracker.update_state(kl_loss)\n",
    "        return {\n",
    "            \"loss\": self.total_loss_tracker.result(),\n",
    "            \"reconstruction_loss\": self.reconstruction_loss_tracker.result(),\n",
    "            \"kl_loss\": self.kl_loss_tracker.result(),\n",
    "        }"
   ]
  },
  {
   "cell_type": "code",
   "execution_count": 9,
   "id": "9d6e0f15-9276-4bc9-813a-7595ed039856",
   "metadata": {
    "tags": []
   },
   "outputs": [],
   "source": [
    "vae = VAE(encoder, decoder)\n",
    "vae.compile(optimizer=keras.optimizers.Adam())"
   ]
  },
  {
   "cell_type": "code",
   "execution_count": 10,
   "id": "616c200f-1a83-4327-b37f-b4c8f9cab1c6",
   "metadata": {
    "tags": []
   },
   "outputs": [
    {
     "data": {
      "text/plain": [
       "(249, 192)"
      ]
     },
     "execution_count": 10,
     "metadata": {},
     "output_type": "execute_result"
    }
   ],
   "source": [
    "V.shape"
   ]
  },
  {
   "cell_type": "code",
   "execution_count": 11,
   "id": "a5414fcb-99c0-4db3-9c69-f122695bb8d9",
   "metadata": {
    "tags": []
   },
   "outputs": [
    {
     "name": "stdout",
     "output_type": "stream",
     "text": [
      "Epoch 1/30\n",
      "2/2 [==============================] - 1s 8ms/step - loss: 0.8592 - reconstruction_loss: 0.3071 - kl_loss: 0.4809\n",
      "Epoch 2/30\n",
      "2/2 [==============================] - 0s 6ms/step - loss: 0.3535 - reconstruction_loss: 0.3012 - kl_loss: 0.0446\n",
      "Epoch 3/30\n",
      "2/2 [==============================] - 0s 7ms/step - loss: 0.3187 - reconstruction_loss: 0.2926 - kl_loss: 0.0259\n",
      "Epoch 4/30\n",
      "2/2 [==============================] - 0s 6ms/step - loss: 0.3062 - reconstruction_loss: 0.2830 - kl_loss: 0.0216\n",
      "Epoch 5/30\n",
      "2/2 [==============================] - 0s 6ms/step - loss: 0.2934 - reconstruction_loss: 0.2730 - kl_loss: 0.0186\n",
      "Epoch 6/30\n",
      "2/2 [==============================] - 0s 5ms/step - loss: 0.2763 - reconstruction_loss: 0.2591 - kl_loss: 0.0152\n",
      "Epoch 7/30\n",
      "2/2 [==============================] - 0s 6ms/step - loss: 0.2575 - reconstruction_loss: 0.2476 - kl_loss: 0.0087\n",
      "Epoch 8/30\n",
      "2/2 [==============================] - 0s 6ms/step - loss: 0.2377 - reconstruction_loss: 0.2323 - kl_loss: 0.0041\n",
      "Epoch 9/30\n",
      "2/2 [==============================] - 0s 6ms/step - loss: 0.2194 - reconstruction_loss: 0.2148 - kl_loss: 0.0028\n",
      "Epoch 10/30\n",
      "2/2 [==============================] - 0s 6ms/step - loss: 0.1982 - reconstruction_loss: 0.1943 - kl_loss: 0.0027\n",
      "Epoch 11/30\n",
      "2/2 [==============================] - 0s 6ms/step - loss: 0.1849 - reconstruction_loss: 0.1813 - kl_loss: 0.0027\n",
      "Epoch 12/30\n",
      "2/2 [==============================] - 0s 6ms/step - loss: 0.1666 - reconstruction_loss: 0.1641 - kl_loss: 0.0023\n",
      "Epoch 13/30\n",
      "2/2 [==============================] - 0s 6ms/step - loss: 0.1486 - reconstruction_loss: 0.1441 - kl_loss: 0.0019\n",
      "Epoch 14/30\n",
      "2/2 [==============================] - 0s 6ms/step - loss: 0.1318 - reconstruction_loss: 0.1306 - kl_loss: 0.0016\n",
      "Epoch 15/30\n",
      "2/2 [==============================] - 0s 6ms/step - loss: 0.1161 - reconstruction_loss: 0.1140 - kl_loss: 0.0014\n",
      "Epoch 16/30\n",
      "2/2 [==============================] - 0s 6ms/step - loss: 0.1059 - reconstruction_loss: 0.1047 - kl_loss: 0.0010\n",
      "Epoch 17/30\n",
      "2/2 [==============================] - 0s 6ms/step - loss: 0.0987 - reconstruction_loss: 0.0968 - kl_loss: 7.5675e-04\n",
      "Epoch 18/30\n",
      "2/2 [==============================] - 0s 6ms/step - loss: 0.0865 - reconstruction_loss: 0.0868 - kl_loss: 6.4782e-04\n",
      "Epoch 19/30\n",
      "2/2 [==============================] - 0s 6ms/step - loss: 0.0837 - reconstruction_loss: 0.0857 - kl_loss: 5.7664e-04\n",
      "Epoch 20/30\n",
      "2/2 [==============================] - 0s 6ms/step - loss: 0.0756 - reconstruction_loss: 0.0752 - kl_loss: 4.9960e-04\n",
      "Epoch 21/30\n",
      "2/2 [==============================] - 0s 6ms/step - loss: 0.0707 - reconstruction_loss: 0.0708 - kl_loss: 4.6352e-04\n",
      "Epoch 22/30\n",
      "2/2 [==============================] - 0s 6ms/step - loss: 0.0674 - reconstruction_loss: 0.0675 - kl_loss: 4.4618e-04\n",
      "Epoch 23/30\n",
      "2/2 [==============================] - 0s 6ms/step - loss: 0.0645 - reconstruction_loss: 0.0630 - kl_loss: 4.5911e-04\n",
      "Epoch 24/30\n",
      "2/2 [==============================] - 0s 6ms/step - loss: 0.0614 - reconstruction_loss: 0.0601 - kl_loss: 4.0069e-04\n",
      "Epoch 25/30\n",
      "2/2 [==============================] - 0s 5ms/step - loss: 0.0577 - reconstruction_loss: 0.0571 - kl_loss: 3.4869e-04\n",
      "Epoch 26/30\n",
      "2/2 [==============================] - 0s 5ms/step - loss: 0.0565 - reconstruction_loss: 0.0549 - kl_loss: 3.3304e-04\n",
      "Epoch 27/30\n",
      "2/2 [==============================] - 0s 6ms/step - loss: 0.0565 - reconstruction_loss: 0.0552 - kl_loss: 3.1819e-04\n",
      "Epoch 28/30\n",
      "2/2 [==============================] - 0s 5ms/step - loss: 0.0527 - reconstruction_loss: 0.0523 - kl_loss: 2.7701e-04\n",
      "Epoch 29/30\n",
      "2/2 [==============================] - 0s 5ms/step - loss: 0.0491 - reconstruction_loss: 0.0493 - kl_loss: 2.3044e-04\n",
      "Epoch 30/30\n",
      "2/2 [==============================] - 0s 5ms/step - loss: 0.0512 - reconstruction_loss: 0.0509 - kl_loss: 2.3025e-04\n"
     ]
    }
   ],
   "source": [
    "history = vae.fit(V, epochs=30, batch_size=128)"
   ]
  },
  {
   "cell_type": "code",
   "execution_count": 12,
   "id": "e5a19699-9ada-4377-95cb-8a436a7c527a",
   "metadata": {
    "tags": []
   },
   "outputs": [
    {
     "data": {
      "image/png": "[encoded data removed]",
      "text/plain": [
       "<Figure size 640x480 with 1 Axes>"
      ]
     },
     "metadata": {},
     "output_type": "display_data"
    }
   ],
   "source": [
    "plt.plot(history.history[\"loss\"], label=\"loss\")\n",
    "plt.plot(history.history[\"reconstruction_loss\"], label=\"reconstruction_loss\")\n",
    "plt.xlabel(\"Epochs\")\n",
    "plt.ylabel(\"Loss\")\n",
    "plt.legend()\n",
    "plt.show()"
   ]
  },
  {
   "cell_type": "code",
   "execution_count": 19,
   "id": "6f7ac2ef-0b34-454b-a0fd-4a7a35e87e6e",
   "metadata": {
    "tags": []
   },
   "outputs": [],
   "source": [
    "num_samples = 5\n",
    "random_latent_points = np.random.normal(size=(num_samples, latent_dim))"
   ]
  },
  {
   "cell_type": "code",
   "execution_count": 14,
   "id": "a1b81723-1f04-4d6f-9c8b-63fedd5010e3",
   "metadata": {
    "tags": []
   },
   "outputs": [
    {
     "data": {
      "text/plain": [
       "(1, 4)"
      ]
     },
     "execution_count": 14,
     "metadata": {},
     "output_type": "execute_result"
    }
   ],
   "source": [
    "random_latent_points.shape"
   ]
  },
  {
   "cell_type": "code",
   "execution_count": 15,
   "id": "83fd6012-0b9c-4598-9b5b-2c04704d42b5",
   "metadata": {},
   "outputs": [
    {
     "name": "stdout",
     "output_type": "stream",
     "text": [
      "1/1 [==============================] - 0s 59ms/step\n"
     ]
    }
   ],
   "source": [
    "generated_data = vae.decoder.predict(random_latent_points)"
   ]
  },
  {
   "cell_type": "code",
   "execution_count": 17,
   "id": "a2e835be-e4a2-4079-acf0-4acf0df8167f",
   "metadata": {
    "tags": []
   },
   "outputs": [
    {
     "data": {
      "text/plain": [
       "array([[0.10904326, 0.14646553, 0.04498366, 0.18483306, 0.4302672 ,\n",
       "        0.7163099 , 0.85545665, 0.8352853 , 0.9065149 , 0.82396114,\n",
       "        0.4503038 , 0.25029093, 0.2294752 , 0.12088369, 0.18400791,\n",
       "        0.14501882, 0.27032205, 0.4977671 , 0.6935309 , 0.80532956,\n",
       "        0.9347562 , 0.9293588 , 0.7715911 , 0.39727253, 0.47822547,\n",
       "        0.        , 0.11103931, 0.11835171, 0.09554756, 0.2664052 ,\n",
       "        0.3855888 , 0.66677123, 0.777081  , 0.8806374 , 0.7554293 ,\n",
       "        0.817624  , 0.5784342 , 0.        , 0.2944268 , 0.12261877,\n",
       "        0.20750238, 0.12625267, 0.2962797 , 0.4935878 , 0.6597497 ,\n",
       "        0.96127665, 0.8246591 , 0.9277496 , 0.60900396, 0.5486557 ,\n",
       "        0.29562578, 0.09328589, 0.20584083, 0.10344647, 0.10388216,\n",
       "        0.4011773 , 0.66422623, 0.82649195, 0.85365117, 0.8477576 ,\n",
       "        0.68457305, 0.66374856, 0.44919068, 0.31307834, 0.        ,\n",
       "        0.13702324, 0.03808212, 0.24876946, 0.41356158, 0.73720205,\n",
       "        0.8514857 , 0.6316732 , 0.8544044 , 0.91136986, 0.72065425,\n",
       "        0.49704987, 0.28536862, 0.15830721, 0.15605247, 0.09825681,\n",
       "        0.20011583, 0.38356218, 0.5737128 , 0.76829964, 0.        ,\n",
       "        0.83548754, 0.94271684, 0.78362954, 0.4466361 , 0.25019756,\n",
       "        0.08314149, 0.16500619, 0.09279644, 0.19323085, 0.49604198,\n",
       "        0.72321767, 0.7063182 , 0.8474553 , 0.86946225, 0.7571099 ,\n",
       "        0.46350035, 0.22436726, 0.08066603, 0.16377088, 0.14115068,\n",
       "        0.3754505 , 0.5517339 , 0.83570814, 0.78189635, 0.85454905,\n",
       "        0.80711615, 0.        , 0.62102646, 0.40156066, 0.32427695,\n",
       "        0.10398729, 0.17128883, 0.10518401, 0.22533923, 0.45171934,\n",
       "        0.40436167, 0.60291886, 0.64868605, 0.76621014, 0.7391313 ,\n",
       "        0.6662308 , 0.5487822 , 0.2872865 , 0.        , 0.18709682,\n",
       "        0.10769106, 0.25036427, 0.35893732, 0.41119623, 0.70208204,\n",
       "        0.7026266 , 0.7349278 , 0.9700726 , 0.70402706, 0.48165804,\n",
       "        0.25230217, 0.11985404, 0.11263637, 0.03347857, 0.1808037 ,\n",
       "        0.42561388, 0.7749743 , 0.83713186, 0.72918355, 0.8326188 ,\n",
       "        0.78021455, 0.33286557, 0.22536314, 0.15720503, 0.2228285 ,\n",
       "        0.05984018, 0.09912918, 0.2511485 , 0.48266894, 0.7721364 ,\n",
       "        0.        , 0.        , 0.7578738 , 0.75782156, 0.40686274,\n",
       "        0.3205256 , 0.08005239, 0.18605238, 0.13494109, 0.08446404,\n",
       "        0.2867381 , 0.49489605, 0.7969276 , 0.7897073 , 0.83817434,\n",
       "        0.8008856 , 0.80896604, 0.4226809 , 0.16122015, 0.19074199,\n",
       "        0.17227685, 0.17999206, 0.09052113, 0.26821116, 0.433919  ,\n",
       "        0.67051077, 0.88802785, 0.6743204 , 0.92797595, 0.5015642 ,\n",
       "        0.49837595, 0.30887717]], dtype=float32)"
      ]
     },
     "execution_count": 17,
     "metadata": {},
     "output_type": "execute_result"
    }
   ],
   "source": [
    "generated_data"
   ]
  },
  {
   "cell_type": "code",
   "execution_count": 18,
   "id": "ac5d5cca-d709-4a8f-b184-88a8af956223",
   "metadata": {
    "tags": []
   },
   "outputs": [
    {
     "data": {
      "text/plain": [
       "<StemContainer object of 3 artists>"
      ]
     },
     "execution_count": 18,
     "metadata": {},
     "output_type": "execute_result"
    },
    {
     "data": {
      "image/png": "[encoded data removed]",
      "text/plain": [
       "<Figure size 640x480 with 1 Axes>"
      ]
     },
     "metadata": {},
     "output_type": "display_data"
    }
   ],
   "source": [
    "plt.stem(np.concatenate(generated_data))"
   ]
  },
  {
   "cell_type": "code",
   "execution_count": null,
   "id": "e7addf94-c492-4bed-a7e7-ad848f721e19",
   "metadata": {},
   "outputs": [],
   "source": []
  }
 ],
 "metadata": {
  "kernelspec": {
   "display_name": "Python 3 (ipykernel)",
   "language": "python",
   "name": "python3"
  },
  "language_info": {
   "codemirror_mode": {
    "name": "ipython",
    "version": 3
   },
   "file_extension": ".py",
   "mimetype": "text/x-python",
   "name": "python",
   "nbconvert_exporter": "python",
   "pygments_lexer": "ipython3",
   "version": "3.10.12"
  }
 },
 "nbformat": 4,
 "nbformat_minor": 5
}
