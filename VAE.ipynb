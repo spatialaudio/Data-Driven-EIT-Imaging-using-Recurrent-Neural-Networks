{
 "cells": [
  {
   "cell_type": "code",
   "execution_count": 1,
   "id": "4339fe0b-1330-4c3c-8e98-59b75b9ff446",
   "metadata": {
    "tags": []
   },
   "outputs": [
    {
     "name": "stderr",
     "output_type": "stream",
     "text": [
      "2023-10-06 15:49:59.488753: I tensorflow/tsl/cuda/cudart_stub.cc:28] Could not find cuda drivers on your machine, GPU will not be used.\n",
      "2023-10-06 15:49:59.516918: I tensorflow/tsl/cuda/cudart_stub.cc:28] Could not find cuda drivers on your machine, GPU will not be used.\n",
      "2023-10-06 15:49:59.517745: I tensorflow/core/platform/cpu_feature_guard.cc:182] This TensorFlow binary is optimized to use available CPU instructions in performance-critical operations.\n",
      "To enable the following instructions: AVX2 FMA, in other operations, rebuild TensorFlow with the appropriate compiler flags.\n",
      "2023-10-06 15:50:00.116629: W tensorflow/compiler/tf2tensorrt/utils/py_utils.cc:38] TF-TRT Warning: Could not find TensorRT\n"
     ]
    }
   ],
   "source": [
    "import os\n",
    "\n",
    "import matplotlib.pyplot as plt\n",
    "import numpy as np\n",
    "import tensorflow as tf\n",
    "from sklearn.model_selection import train_test_split\n",
    "from tensorflow.keras import layers, models\n",
    "from tensorflow.keras.losses import mse"
   ]
  },
  {
   "cell_type": "code",
   "execution_count": 2,
   "id": "da1294ea-d3d9-4312-8a45-c24bd4b3ae08",
   "metadata": {
    "tags": []
   },
   "outputs": [
    {
     "name": "stdout",
     "output_type": "stream",
     "text": [
      "This directory exists...continue\n"
     ]
    }
   ],
   "source": [
    "n_el = 16\n",
    "r_obj = 0.4\n",
    "dist_exc = 8\n",
    "step_meas = 4\n",
    "\n",
    "load_path = f\"data/{n_el=}_{r_obj=}_{dist_exc=}_{step_meas=}/\"\n",
    "\n",
    "if os.path.isdir(load_path):\n",
    "    print(\"This directory exists...continue\")\n",
    "else:\n",
    "    print(\"You have to generate the data...\")"
   ]
  },
  {
   "cell_type": "code",
   "execution_count": 3,
   "id": "120e26c9-1272-4997-a7f6-f076bf71275a",
   "metadata": {
    "tags": []
   },
   "outputs": [],
   "source": [
    "V = np.load(\"saves/\" + load_path.split(\"/\")[1] + \"_v_data.npy\", allow_pickle=True)"
   ]
  },
  {
   "cell_type": "code",
   "execution_count": 4,
   "id": "be518543-6102-4b2d-8c33-195b9a83818b",
   "metadata": {
    "tags": []
   },
   "outputs": [],
   "source": [
    "# creates overlapping segments with a length of nseg\n",
    "nseg = 2\n",
    "X0 = [V[n : n + nseg, :] for n in range(V.shape[0] - nseg + 1)]  # is this nseg+1 right?\n",
    "X0 = np.array(X0)\n",
    "\n",
    "Y0 = np.array(V[nseg - 1 :])  # is this -1 right?"
   ]
  },
  {
   "cell_type": "code",
   "execution_count": 5,
   "id": "d0e54fdb-74e8-46d7-9a86-6bd8b10cb806",
   "metadata": {
    "tags": []
   },
   "outputs": [
    {
     "name": "stdout",
     "output_type": "stream",
     "text": [
      "True\n",
      "True\n"
     ]
    }
   ],
   "source": [
    "# proof that the shift is right\n",
    "print(np.allclose(X0[0], V[0:nseg, :]))\n",
    "print(np.allclose(X0[244], V[244 : 244 + nseg, :]))"
   ]
  },
  {
   "cell_type": "code",
   "execution_count": 6,
   "id": "75ed57a3-38d8-422d-9a3c-ca8d2194b611",
   "metadata": {
    "tags": []
   },
   "outputs": [],
   "source": [
    "x_train, y_train = train_test_split(X0, test_size=0.1, shuffle=False)\n",
    "x_val, y_val = train_test_split(Y0, test_size=0.1, shuffle=False)"
   ]
  },
  {
   "cell_type": "code",
   "execution_count": 7,
   "id": "75e51bc9-b3a0-46b0-893b-8b1769e9fda6",
   "metadata": {
    "tags": []
   },
   "outputs": [
    {
     "data": {
      "text/plain": [
       "(25, 192)"
      ]
     },
     "execution_count": 7,
     "metadata": {},
     "output_type": "execute_result"
    }
   ],
   "source": [
    "y_val.shape"
   ]
  },
  {
   "cell_type": "code",
   "execution_count": 8,
   "id": "b6140aaf-84d8-4633-8d80-11fc7d1b71a4",
   "metadata": {
    "tags": []
   },
   "outputs": [
    {
     "name": "stdout",
     "output_type": "stream",
     "text": [
      "(223, 2, 192) (223, 192)\n",
      "(25, 2, 192) (25, 192)\n"
     ]
    }
   ],
   "source": [
    "print(x_train.shape, x_val.shape)\n",
    "print(y_train.shape, y_val.shape)"
   ]
  },
  {
   "cell_type": "code",
   "execution_count": 9,
   "id": "33305fca-a476-49c2-828b-e4a57958fb08",
   "metadata": {
    "tags": []
   },
   "outputs": [
    {
     "name": "stdout",
     "output_type": "stream",
     "text": [
      "Model: \"vae\"\n",
      "__________________________________________________________________________________________________\n",
      " Layer (type)                Output Shape                 Param #   Connected to                  \n",
      "==================================================================================================\n",
      " input_1 (InputLayer)        [(None, 192)]                0         []                            \n",
      "                                                                                                  \n",
      " encoder (Functional)        [(None, 2),                  25220     ['input_1[0][0]']             \n",
      "                              (None, 2),                                                          \n",
      "                              (None, 2)]                                                          \n",
      "                                                                                                  \n",
      " decoder (Functional)        (None, 192)                  25152     ['encoder[0][2]']             \n",
      "                                                                                                  \n",
      " dense (Dense)               (None, 128)                  24704     ['input_1[0][0]']             \n",
      "                                                                                                  \n",
      " dense_2 (Dense)             (None, 2)                    258       ['dense[0][0]']               \n",
      "                                                                                                  \n",
      " tf.__operators__.add (TFOp  (None, 2)                    0         ['dense_2[0][0]']             \n",
      " Lambda)                                                                                          \n",
      "                                                                                                  \n",
      " tf.math.exp (TFOpLambda)    (None, 2)                    0         ['dense_2[0][0]']             \n",
      "                                                                                                  \n",
      " dense_1 (Dense)             (None, 2)                    258       ['dense[0][0]']               \n",
      "                                                                                                  \n",
      " tf.math.subtract (TFOpLamb  (None, 2)                    0         ['tf.__operators__.add[0][0]',\n",
      " da)                                                                 'tf.math.exp[0][0]']         \n",
      "                                                                                                  \n",
      " tf.math.square (TFOpLambda  (None, 2)                    0         ['dense_1[0][0]']             \n",
      " )                                                                                                \n",
      "                                                                                                  \n",
      " tf.convert_to_tensor (TFOp  (None, 192)                  0         ['decoder[0][0]']             \n",
      " Lambda)                                                                                          \n",
      "                                                                                                  \n",
      " tf.cast (TFOpLambda)        (None, 192)                  0         ['input_1[0][0]']             \n",
      "                                                                                                  \n",
      " tf.math.subtract_1 (TFOpLa  (None, 2)                    0         ['tf.math.subtract[0][0]',    \n",
      " mbda)                                                               'tf.math.square[0][0]']      \n",
      "                                                                                                  \n",
      " tf.math.squared_difference  (None, 192)                  0         ['tf.convert_to_tensor[0][0]',\n",
      "  (TFOpLambda)                                                       'tf.cast[0][0]']             \n",
      "                                                                                                  \n",
      " tf.math.reduce_sum (TFOpLa  (None,)                      0         ['tf.math.subtract_1[0][0]']  \n",
      " mbda)                                                                                            \n",
      "                                                                                                  \n",
      " tf.math.reduce_mean (TFOpL  (None,)                      0         ['tf.math.squared_difference[0\n",
      " ambda)                                                             ][0]']                        \n",
      "                                                                                                  \n",
      " tf.math.multiply (TFOpLamb  (None,)                      0         ['tf.math.reduce_sum[0][0]']  \n",
      " da)                                                                                              \n",
      "                                                                                                  \n",
      " tf.__operators__.add_1 (TF  (None,)                      0         ['tf.math.reduce_mean[0][0]', \n",
      " OpLambda)                                                           'tf.math.multiply[0][0]']    \n",
      "                                                                                                  \n",
      " tf.math.reduce_mean_1 (TFO  ()                           0         ['tf.__operators__.add_1[0][0]\n",
      " pLambda)                                                           ']                            \n",
      "                                                                                                  \n",
      " add_loss (AddLoss)          ()                           0         ['tf.math.reduce_mean_1[0][0]'\n",
      "                                                                    ]                             \n",
      "                                                                                                  \n",
      "==================================================================================================\n",
      "Total params: 50372 (196.77 KB)\n",
      "Trainable params: 50372 (196.77 KB)\n",
      "Non-trainable params: 0 (0.00 Byte)\n",
      "__________________________________________________________________________________________________\n"
     ]
    },
    {
     "name": "stderr",
     "output_type": "stream",
     "text": [
      "2023-10-06 15:50:01.270747: E tensorflow/compiler/xla/stream_executor/cuda/cuda_driver.cc:268] failed call to cuInit: CUDA_ERROR_NO_DEVICE: no CUDA-capable device is detected\n"
     ]
    }
   ],
   "source": [
    "# Define the dimensionality of the input data\n",
    "input_dim = 192\n",
    "\n",
    "# Define the latent space dimension\n",
    "latent_dim = 2\n",
    "\n",
    "# Encoder Network\n",
    "encoder_inputs = tf.keras.Input(shape=(input_dim,))\n",
    "x = layers.Dense(128, activation=\"relu\")(encoder_inputs)\n",
    "z_mean = layers.Dense(latent_dim)(x)\n",
    "z_log_var = layers.Dense(latent_dim)(x)\n",
    "\n",
    "\n",
    "# Reparameterization Trick\n",
    "def sampling(args):\n",
    "    z_mean, z_log_var = args\n",
    "    epsilon = tf.keras.backend.random_normal(\n",
    "        shape=(tf.keras.backend.shape(z_mean)[0], latent_dim), mean=0.0, stddev=1.0\n",
    "    )\n",
    "    return z_mean + tf.keras.backend.exp(0.5 * z_log_var) * epsilon\n",
    "\n",
    "\n",
    "z = layers.Lambda(sampling)([z_mean, z_log_var])\n",
    "\n",
    "encoder = models.Model(encoder_inputs, [z_mean, z_log_var, z], name=\"encoder\")\n",
    "# Decoder Network\n",
    "decoder_inputs = tf.keras.Input(shape=(latent_dim,))\n",
    "x = layers.Dense(128, activation=\"relu\")(decoder_inputs)\n",
    "outputs = layers.Dense(input_dim, activation=\"sigmoid\")(x)\n",
    "decoder = models.Model(decoder_inputs, outputs, name=\"decoder\")\n",
    "\n",
    "# VAE Model\n",
    "outputs = decoder(encoder(encoder_inputs)[2])\n",
    "vae = models.Model(encoder_inputs, outputs, name=\"vae\")\n",
    "\n",
    "# Loss function: combination of reconstruction loss and KL divergence\n",
    "reconstruction_loss = mse(encoder_inputs, outputs)\n",
    "kl_loss = -0.5 * tf.keras.backend.sum(\n",
    "    1 + z_log_var - tf.keras.backend.exp(z_log_var) - tf.keras.backend.square(z_mean),\n",
    "    axis=-1,\n",
    ")\n",
    "vae_loss = tf.keras.backend.mean(reconstruction_loss + kl_loss)\n",
    "\n",
    "vae.add_loss(vae_loss)\n",
    "# Compile the VAE model\n",
    "vae.compile(optimizer=\"adam\")\n",
    "# Display model summary\n",
    "vae.summary()"
   ]
  },
  {
   "cell_type": "code",
   "execution_count": 10,
   "id": "e6c97e35-5790-4dbb-b48b-1e532a36cf6f",
   "metadata": {
    "tags": []
   },
   "outputs": [
    {
     "name": "stdout",
     "output_type": "stream",
     "text": [
      "Epoch 1/100\n",
      "7/7 [==============================] - 1s 2ms/step - loss: 0.2142\n",
      "Epoch 2/100\n",
      "7/7 [==============================] - 0s 2ms/step - loss: 0.1077\n",
      "Epoch 3/100\n",
      "7/7 [==============================] - 0s 2ms/step - loss: 0.0894\n",
      "Epoch 4/100\n",
      "7/7 [==============================] - 0s 2ms/step - loss: 0.0690\n",
      "Epoch 5/100\n",
      "7/7 [==============================] - 0s 2ms/step - loss: 0.0563\n",
      "Epoch 6/100\n",
      "7/7 [==============================] - 0s 2ms/step - loss: 0.0458\n",
      "Epoch 7/100\n",
      "7/7 [==============================] - 0s 2ms/step - loss: 0.0386\n",
      "Epoch 8/100\n",
      "7/7 [==============================] - 0s 3ms/step - loss: 0.0313\n",
      "Epoch 9/100\n",
      "7/7 [==============================] - 0s 3ms/step - loss: 0.0250\n",
      "Epoch 10/100\n",
      "7/7 [==============================] - 0s 3ms/step - loss: 0.0205\n",
      "Epoch 11/100\n",
      "7/7 [==============================] - 0s 3ms/step - loss: 0.0168\n",
      "Epoch 12/100\n",
      "7/7 [==============================] - 0s 3ms/step - loss: 0.0150\n",
      "Epoch 13/100\n",
      "7/7 [==============================] - 0s 3ms/step - loss: 0.0135\n",
      "Epoch 14/100\n",
      "7/7 [==============================] - 0s 2ms/step - loss: 0.0124\n",
      "Epoch 15/100\n",
      "7/7 [==============================] - 0s 2ms/step - loss: 0.0118\n",
      "Epoch 16/100\n",
      "7/7 [==============================] - 0s 2ms/step - loss: 0.0108\n",
      "Epoch 17/100\n",
      "7/7 [==============================] - 0s 2ms/step - loss: 0.0112\n",
      "Epoch 18/100\n",
      "7/7 [==============================] - 0s 2ms/step - loss: 0.0106\n",
      "Epoch 19/100\n",
      "7/7 [==============================] - 0s 2ms/step - loss: 0.0102\n",
      "Epoch 20/100\n",
      "7/7 [==============================] - 0s 2ms/step - loss: 0.0100\n",
      "Epoch 21/100\n",
      "7/7 [==============================] - 0s 2ms/step - loss: 0.0098\n",
      "Epoch 22/100\n",
      "7/7 [==============================] - 0s 2ms/step - loss: 0.0096\n",
      "Epoch 23/100\n",
      "7/7 [==============================] - 0s 2ms/step - loss: 0.0097\n",
      "Epoch 24/100\n",
      "7/7 [==============================] - 0s 2ms/step - loss: 0.0096\n",
      "Epoch 25/100\n",
      "7/7 [==============================] - 0s 2ms/step - loss: 0.0096\n",
      "Epoch 26/100\n",
      "7/7 [==============================] - 0s 2ms/step - loss: 0.0095\n",
      "Epoch 27/100\n",
      "7/7 [==============================] - 0s 2ms/step - loss: 0.0091\n",
      "Epoch 28/100\n",
      "7/7 [==============================] - 0s 2ms/step - loss: 0.0092\n",
      "Epoch 29/100\n",
      "7/7 [==============================] - 0s 2ms/step - loss: 0.0092\n",
      "Epoch 30/100\n",
      "7/7 [==============================] - 0s 2ms/step - loss: 0.0093\n",
      "Epoch 31/100\n",
      "7/7 [==============================] - 0s 2ms/step - loss: 0.0092\n",
      "Epoch 32/100\n",
      "7/7 [==============================] - 0s 2ms/step - loss: 0.0089\n",
      "Epoch 33/100\n",
      "7/7 [==============================] - 0s 2ms/step - loss: 0.0090\n",
      "Epoch 34/100\n",
      "7/7 [==============================] - 0s 2ms/step - loss: 0.0089\n",
      "Epoch 35/100\n",
      "7/7 [==============================] - 0s 2ms/step - loss: 0.0088\n",
      "Epoch 36/100\n",
      "7/7 [==============================] - 0s 2ms/step - loss: 0.0086\n",
      "Epoch 37/100\n",
      "7/7 [==============================] - 0s 2ms/step - loss: 0.0086\n",
      "Epoch 38/100\n",
      "7/7 [==============================] - 0s 2ms/step - loss: 0.0086\n",
      "Epoch 39/100\n",
      "7/7 [==============================] - 0s 2ms/step - loss: 0.0086\n",
      "Epoch 40/100\n",
      "7/7 [==============================] - 0s 2ms/step - loss: 0.0087\n",
      "Epoch 41/100\n",
      "7/7 [==============================] - 0s 2ms/step - loss: 0.0085\n",
      "Epoch 42/100\n",
      "7/7 [==============================] - 0s 2ms/step - loss: 0.0085\n",
      "Epoch 43/100\n",
      "7/7 [==============================] - 0s 2ms/step - loss: 0.0086\n",
      "Epoch 44/100\n",
      "7/7 [==============================] - 0s 2ms/step - loss: 0.0084\n",
      "Epoch 45/100\n",
      "7/7 [==============================] - 0s 2ms/step - loss: 0.0084\n",
      "Epoch 46/100\n",
      "7/7 [==============================] - 0s 2ms/step - loss: 0.0084\n",
      "Epoch 47/100\n",
      "7/7 [==============================] - 0s 2ms/step - loss: 0.0084\n",
      "Epoch 48/100\n",
      "7/7 [==============================] - 0s 2ms/step - loss: 0.0082\n",
      "Epoch 49/100\n",
      "7/7 [==============================] - 0s 2ms/step - loss: 0.0082\n",
      "Epoch 50/100\n",
      "7/7 [==============================] - 0s 2ms/step - loss: 0.0084\n",
      "Epoch 51/100\n",
      "7/7 [==============================] - 0s 2ms/step - loss: 0.0083\n",
      "Epoch 52/100\n",
      "7/7 [==============================] - 0s 2ms/step - loss: 0.0082\n",
      "Epoch 53/100\n",
      "7/7 [==============================] - 0s 2ms/step - loss: 0.0082\n",
      "Epoch 54/100\n",
      "7/7 [==============================] - 0s 2ms/step - loss: 0.0082\n",
      "Epoch 55/100\n",
      "7/7 [==============================] - 0s 2ms/step - loss: 0.0081\n",
      "Epoch 56/100\n",
      "7/7 [==============================] - 0s 2ms/step - loss: 0.0081\n",
      "Epoch 57/100\n",
      "7/7 [==============================] - 0s 2ms/step - loss: 0.0081\n",
      "Epoch 58/100\n",
      "7/7 [==============================] - 0s 2ms/step - loss: 0.0080\n",
      "Epoch 59/100\n",
      "7/7 [==============================] - 0s 2ms/step - loss: 0.0080\n",
      "Epoch 60/100\n",
      "7/7 [==============================] - 0s 2ms/step - loss: 0.0080\n",
      "Epoch 61/100\n",
      "7/7 [==============================] - 0s 2ms/step - loss: 0.0080\n",
      "Epoch 62/100\n",
      "7/7 [==============================] - 0s 2ms/step - loss: 0.0080\n",
      "Epoch 63/100\n",
      "7/7 [==============================] - 0s 2ms/step - loss: 0.0080\n",
      "Epoch 64/100\n",
      "7/7 [==============================] - 0s 2ms/step - loss: 0.0080\n",
      "Epoch 65/100\n",
      "7/7 [==============================] - 0s 2ms/step - loss: 0.0080\n",
      "Epoch 66/100\n",
      "7/7 [==============================] - 0s 2ms/step - loss: 0.0080\n",
      "Epoch 67/100\n",
      "7/7 [==============================] - 0s 2ms/step - loss: 0.0080\n",
      "Epoch 68/100\n",
      "7/7 [==============================] - 0s 2ms/step - loss: 0.0079\n",
      "Epoch 69/100\n",
      "7/7 [==============================] - 0s 2ms/step - loss: 0.0079\n",
      "Epoch 70/100\n",
      "7/7 [==============================] - 0s 2ms/step - loss: 0.0080\n",
      "Epoch 71/100\n",
      "7/7 [==============================] - 0s 2ms/step - loss: 0.0079\n",
      "Epoch 72/100\n",
      "7/7 [==============================] - 0s 2ms/step - loss: 0.0078\n",
      "Epoch 73/100\n",
      "7/7 [==============================] - 0s 2ms/step - loss: 0.0079\n",
      "Epoch 74/100\n",
      "7/7 [==============================] - 0s 2ms/step - loss: 0.0078\n",
      "Epoch 75/100\n",
      "7/7 [==============================] - 0s 2ms/step - loss: 0.0078\n",
      "Epoch 76/100\n",
      "7/7 [==============================] - 0s 2ms/step - loss: 0.0078\n",
      "Epoch 77/100\n",
      "7/7 [==============================] - 0s 2ms/step - loss: 0.0079\n",
      "Epoch 78/100\n",
      "7/7 [==============================] - 0s 2ms/step - loss: 0.0078\n",
      "Epoch 79/100\n",
      "7/7 [==============================] - 0s 2ms/step - loss: 0.0079\n",
      "Epoch 80/100\n",
      "7/7 [==============================] - 0s 2ms/step - loss: 0.0078\n",
      "Epoch 81/100\n",
      "7/7 [==============================] - 0s 2ms/step - loss: 0.0078\n",
      "Epoch 82/100\n",
      "7/7 [==============================] - 0s 2ms/step - loss: 0.0078\n",
      "Epoch 83/100\n",
      "7/7 [==============================] - 0s 2ms/step - loss: 0.0078\n",
      "Epoch 84/100\n",
      "7/7 [==============================] - 0s 2ms/step - loss: 0.0078\n",
      "Epoch 85/100\n",
      "7/7 [==============================] - 0s 2ms/step - loss: 0.0077\n",
      "Epoch 86/100\n",
      "7/7 [==============================] - 0s 2ms/step - loss: 0.0078\n",
      "Epoch 87/100\n",
      "7/7 [==============================] - 0s 2ms/step - loss: 0.0078\n",
      "Epoch 88/100\n",
      "7/7 [==============================] - 0s 2ms/step - loss: 0.0078\n",
      "Epoch 89/100\n",
      "7/7 [==============================] - 0s 2ms/step - loss: 0.0078\n",
      "Epoch 90/100\n",
      "7/7 [==============================] - 0s 2ms/step - loss: 0.0077\n",
      "Epoch 91/100\n",
      "7/7 [==============================] - 0s 2ms/step - loss: 0.0077\n",
      "Epoch 92/100\n",
      "7/7 [==============================] - 0s 2ms/step - loss: 0.0077\n",
      "Epoch 93/100\n",
      "7/7 [==============================] - 0s 2ms/step - loss: 0.0077\n",
      "Epoch 94/100\n",
      "7/7 [==============================] - 0s 2ms/step - loss: 0.0077\n",
      "Epoch 95/100\n",
      "7/7 [==============================] - 0s 2ms/step - loss: 0.0077\n",
      "Epoch 96/100\n",
      "7/7 [==============================] - 0s 2ms/step - loss: 0.0077\n",
      "Epoch 97/100\n",
      "7/7 [==============================] - 0s 2ms/step - loss: 0.0078\n",
      "Epoch 98/100\n",
      "7/7 [==============================] - 0s 2ms/step - loss: 0.0077\n",
      "Epoch 99/100\n",
      "7/7 [==============================] - 0s 2ms/step - loss: 0.0077\n",
      "Epoch 100/100\n",
      "7/7 [==============================] - 0s 2ms/step - loss: 0.0077\n"
     ]
    },
    {
     "data": {
      "text/plain": [
       "<keras.src.callbacks.History at 0x7fded04b9540>"
      ]
     },
     "execution_count": 10,
     "metadata": {},
     "output_type": "execute_result"
    }
   ],
   "source": [
    "vae.fit(x_val, epochs=100, batch_size=32)"
   ]
  },
  {
   "cell_type": "code",
   "execution_count": 23,
   "id": "3c832a4b-6881-4634-bf5b-589867b6ee3f",
   "metadata": {
    "tags": []
   },
   "outputs": [
    {
     "name": "stdout",
     "output_type": "stream",
     "text": [
      "1/1 [==============================] - 0s 13ms/step\n"
     ]
    },
    {
     "data": {
      "image/png": "[encoded data removed]",
      "text/plain": [
       "<Figure size 640x480 with 1 Axes>"
      ]
     },
     "metadata": {},
     "output_type": "display_data"
    }
   ],
   "source": [
    "num_samples_to_visualize = 100\n",
    "latent_vectors = encoder.predict(y_val[:5])[0]\n",
    "\n",
    "# Plotte die Verteilung im latenten Raum\n",
    "plt.scatter(latent_vectors[:,0], latent_vectors[:,1])\n",
    "plt.xlabel('t-SNE Dimension 1')\n",
    "plt.ylabel('t-SNE Dimension 2')\n",
    "plt.title('Verteilung im latenten Raum')\n",
    "plt.show()\n"
   ]
  },
  {
   "cell_type": "code",
   "execution_count": 17,
   "id": "b7542f94-fa01-4dfd-8995-1825156a5163",
   "metadata": {
    "tags": []
   },
   "outputs": [
    {
     "data": {
      "text/plain": [
       "array([ 0.00380286, -0.00317447], dtype=float32)"
      ]
     },
     "execution_count": 17,
     "metadata": {},
     "output_type": "execute_result"
    }
   ],
   "source": [
    "np.array(latent_vectors[0])"
   ]
  },
  {
   "cell_type": "code",
   "execution_count": 26,
   "id": "3ca95513-a4f9-4486-ba21-d2fac3f0467f",
   "metadata": {
    "tags": []
   },
   "outputs": [
    {
     "name": "stdout",
     "output_type": "stream",
     "text": [
      "1/1 [==============================] - 0s 13ms/step\n"
     ]
    },
    {
     "data": {
      "text/plain": [
       "<StemContainer object of 3 artists>"
      ]
     },
     "execution_count": 26,
     "metadata": {},
     "output_type": "execute_result"
    },
    {
     "data": {
      "image/png": "[encoded data removed]",
      "text/plain": [
       "<Figure size 640x480 with 1 Axes>"
      ]
     },
     "metadata": {},
     "output_type": "display_data"
    }
   ],
   "source": [
    "plt.stem(decoder.predict(latent_vectors)[1])"
   ]
  },
  {
   "cell_type": "code",
   "execution_count": 27,
   "id": "c29e6129-08ce-4866-b24f-62321bd867bd",
   "metadata": {
    "tags": []
   },
   "outputs": [
    {
     "data": {
      "text/plain": [
       "<StemContainer object of 3 artists>"
      ]
     },
     "execution_count": 27,
     "metadata": {},
     "output_type": "execute_result"
    },
    {
     "data": {
      "image/png": "[encoded data removed]",
      "text/plain": [
       "<Figure size 640x480 with 1 Axes>"
      ]
     },
     "metadata": {},
     "output_type": "display_data"
    }
   ],
   "source": [
    "plt.stem(y_val[1])"
   ]
  },
  {
   "cell_type": "code",
   "execution_count": null,
   "id": "83fd6012-0b9c-4598-9b5b-2c04704d42b5",
   "metadata": {},
   "outputs": [],
   "source": []
  }
 ],
 "metadata": {
  "kernelspec": {
   "display_name": "Python 3 (ipykernel)",
   "language": "python",
   "name": "python3"
  },
  "language_info": {
   "codemirror_mode": {
    "name": "ipython",
    "version": 3
   },
   "file_extension": ".py",
   "mimetype": "text/x-python",
   "name": "python",
   "nbconvert_exporter": "python",
   "pygments_lexer": "ipython3",
   "version": "3.10.12"
  }
 },
 "nbformat": 4,
 "nbformat_minor": 5
}
