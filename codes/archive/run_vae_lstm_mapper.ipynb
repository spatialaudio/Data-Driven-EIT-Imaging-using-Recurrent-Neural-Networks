{
 "cells": [
  {
   "cell_type": "code",
   "execution_count": null,
   "id": "f2871399-b7b4-46dc-8b46-07a22aed9e90",
   "metadata": {},
   "outputs": [],
   "source": [
    "import datetime\n",
    "import os\n",
    "\n",
    "import matplotlib.pyplot as plt\n",
    "import numpy as np\n",
    "import pyeit.mesh as mesh\n",
    "import tensorflow as tf\n",
    "from PIL import Image\n",
    "from pyeit.mesh.shape import thorax\n",
    "from sciopy import norm_data, plot_mesh\n",
    "from sklearn.manifold import TSNE\n",
    "from sklearn.model_selection import train_test_split\n",
    "from sklearn.preprocessing import MinMaxScaler\n",
    "from support import GREIT_sample, show_mesh\n",
    "from tensorflow import GradientTape, exp, keras, reduce_mean, reduce_sum, shape, square\n",
    "from tensorflow.keras import layers, models, regularizers\n",
    "from tensorflow.keras.losses import Huber, binary_crossentropy, mse\n",
    "from tensorflow.keras.metrics import Mean\n",
    "from tensorflow.keras.models import Model\n",
    "from tensorflow.keras.optimizers import Adam\n",
    "from tqdm import tqdm"
   ]
  },
  {
   "cell_type": "code",
   "execution_count": null,
   "id": "8778cd5c-2102-48d8-8247-4895e2031347",
   "metadata": {},
   "outputs": [],
   "source": [
    "l_path = \"../data_thorax/h0=0.05_n_el=16_r_min=0.1_r_max=0.4_dist_exc=8_step_meas=4noise=Truendiv=2/\"\n",
    "perms = list()\n",
    "\n",
    "for ele in tqdm(np.sort(os.listdir(l_path))):\n",
    "    tmp_l = np.load(l_path + ele, allow_pickle=True)\n",
    "    perms.append(tmp_l[\"perm_array\"])\n",
    "\n",
    "perms = np.array(perms) #/ 25  # DIVIDED BY 15 FOR VAE RANGE"
   ]
  },
  {
   "cell_type": "code",
   "execution_count": null,
   "id": "b572550f-d126-4f29-a991-ea5e5011b386",
   "metadata": {},
   "outputs": [],
   "source": [
    "from VAE import vae"
   ]
  },
  {
   "cell_type": "code",
   "execution_count": null,
   "id": "d98fac5d-556b-4437-8d2b-ced398d0bd06",
   "metadata": {},
   "outputs": [],
   "source": [
    "vae.decoder = keras.models.load_model(\"../data_thorax/vae_saves/decoder/\")\n",
    "vae.encoder = keras.models.load_model(\"../data_thorax/vae_saves/encoder/\")"
   ]
  },
  {
   "cell_type": "code",
   "execution_count": null,
   "id": "18afad56-cdf7-4226-9927-592a86fd96b2",
   "metadata": {},
   "outputs": [],
   "source": [
    "vae.compile(Adam())"
   ]
  },
  {
   "cell_type": "code",
   "execution_count": null,
   "id": "ba0a4372-3bd0-4f30-a905-45ab60a3be2f",
   "metadata": {},
   "outputs": [],
   "source": [
    "_, _, Y = vae.encoder.predict(perms)"
   ]
  },
  {
   "cell_type": "code",
   "execution_count": null,
   "id": "cfa34de6-a518-4d50-98c7-bd9d3ba637b5",
   "metadata": {},
   "outputs": [],
   "source": []
  }
 ],
 "metadata": {
  "kernelspec": {
   "display_name": "ml-TF_2_12",
   "language": "python",
   "name": "ml-tf_2_12"
  },
  "language_info": {
   "codemirror_mode": {
    "name": "ipython",
    "version": 3
   },
   "file_extension": ".py",
   "mimetype": "text/x-python",
   "name": "python",
   "nbconvert_exporter": "python",
   "pygments_lexer": "ipython3",
   "version": "3.11.2"
  }
 },
 "nbformat": 4,
 "nbformat_minor": 5
}
