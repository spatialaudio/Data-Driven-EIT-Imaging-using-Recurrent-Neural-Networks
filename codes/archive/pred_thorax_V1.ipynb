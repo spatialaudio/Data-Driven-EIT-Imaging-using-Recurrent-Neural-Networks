{
 "cells": [
  {
   "cell_type": "code",
   "execution_count": 1,
   "id": "63eb812d-89f7-4358-a482-e43b5263e54f",
   "metadata": {},
   "outputs": [
    {
     "name": "stderr",
     "output_type": "stream",
     "text": [
      "2023-11-02 09:48:16.257040: I tensorflow/core/platform/cpu_feature_guard.cc:182] This TensorFlow binary is optimized to use available CPU instructions in performance-critical operations.\n",
      "To enable the following instructions: AVX2 FMA, in other operations, rebuild TensorFlow with the appropriate compiler flags.\n"
     ]
    }
   ],
   "source": [
    "import datetime\n",
    "import os\n",
    "\n",
    "import matplotlib.pyplot as plt\n",
    "import numpy as np\n",
    "import pyeit.mesh as mesh\n",
    "import tensorflow as tf\n",
    "from PIL import Image\n",
    "from pyeit.mesh.shape import thorax\n",
    "from sciopy import norm_data, plot_mesh\n",
    "from sklearn.manifold import TSNE\n",
    "from sklearn.model_selection import train_test_split\n",
    "from sklearn.preprocessing import MinMaxScaler\n",
    "from support import GREIT_sample, show_mesh\n",
    "from tensorflow import GradientTape, keras, shape\n",
    "from tensorflow.keras import layers, models\n",
    "from tensorflow.keras.metrics import Mean\n",
    "from tensorflow.keras.models import Model\n",
    "from tqdm import tqdm"
   ]
  },
  {
   "cell_type": "markdown",
   "id": "f4c14852-8e3a-4f10-9390-2535bf095bbe",
   "metadata": {},
   "source": [
    "## Predict Breathing\n",
    "\n",
    "- Optimize the current reconstruction using some past information and shared wheights.\n",
    "\n",
    "![SegmentLocal](breathing.gif \"segment\")"
   ]
  },
  {
   "cell_type": "code",
   "execution_count": 2,
   "id": "b47aed77-48e9-4959-8d9a-ccd9c0dad62c",
   "metadata": {},
   "outputs": [],
   "source": [
    "load_mesh_raw = False\n",
    "tmp = np.load(\n",
    "    \"../data_thorax/h0=0.025_n_el=16_r_min=0.1_r_max=0.4_dist_exc=8_step_meas=4noise=True/sample_000000.npz\",\n",
    "    allow_pickle=True,\n",
    ")\n",
    "tmp.files\n",
    "\n",
    "if load_mesh_raw:\n",
    "    # create empty mesh:\n",
    "    mesh_obj = mesh.create(tmp[\"n_el\"], h0=tmp[\"h0\"], fd=thorax)\n",
    "    \n",
    "    mesh_obj.perm = tmp[\"perm_array\"]\n",
    "    plot_mesh(mesh_obj)"
   ]
  },
  {
   "cell_type": "code",
   "execution_count": 29,
   "id": "0b31f31c-37d7-46f5-9d72-a36d89325809",
   "metadata": {},
   "outputs": [
    {
     "name": "stderr",
     "output_type": "stream",
     "text": [
      "100%|██████████| 10000/10000 [00:23<00:00, 418.14it/s]\n"
     ]
    }
   ],
   "source": [
    "l_path = \"../data_thorax/h0=0.025_n_el=16_r_min=0.1_r_max=0.4_dist_exc=8_step_meas=4noise=True/\"\n",
    "V = list()\n",
    "radii = list()\n",
    "\n",
    "for ele in tqdm(np.sort(os.listdir(l_path))):\n",
    "    tmp_l = np.load(l_path + ele, allow_pickle=True)\n",
    "    V.append(tmp_l[\"v_obj\"])\n",
    "    radii.append(tmp_l[\"anomaly\"][0].r)\n",
    "\n",
    "V = np.array(V)\n",
    "radii = np.array(radii)"
   ]
  },
  {
   "cell_type": "code",
   "execution_count": 30,
   "id": "e5976b7a-a484-4271-8e59-502c805beb0e",
   "metadata": {},
   "outputs": [
    {
     "data": {
      "text/plain": [
       "<StemContainer object of 3 artists>"
      ]
     },
     "execution_count": 30,
     "metadata": {},
     "output_type": "execute_result"
    },
    {
     "data": {
      "image/png": "[encoded data removed]",
      "text/plain": [
       "<Figure size 640x480 with 1 Axes>"
      ]
     },
     "metadata": {},
     "output_type": "display_data"
    }
   ],
   "source": [
    "plt.stem(V[0,:])"
   ]
  },
  {
   "cell_type": "markdown",
   "id": "e24fe92d-df30-48f7-8e9f-abd2ec19683a",
   "metadata": {},
   "source": [
    "### Model"
   ]
  },
  {
   "cell_type": "code",
   "execution_count": 43,
   "id": "72e7e434-0229-4a50-a3ca-3225534831a6",
   "metadata": {},
   "outputs": [],
   "source": [
    "latent_dim = 4\n",
    "nseg = 6\n",
    "\n",
    "kernel_size = 4\n",
    "\n",
    "\n",
    "def encoder_model(latent_dim=latent_dim, nseg=nseg, kernel_size=4):\n",
    "    def sampling(args):\n",
    "        z_mean, z_log_var = args\n",
    "        epsilon = keras.backend.random_normal(\n",
    "            shape=(keras.backend.shape(z_mean)[0], latent_dim)\n",
    "        )\n",
    "        return z_mean + keras.backend.exp(0.5 * z_log_var) * epsilon\n",
    "\n",
    "    def slice_enconder(s):\n",
    "        def func(x):\n",
    "            return x[:, s, :, :]\n",
    "\n",
    "        return func\n",
    "\n",
    "    def slice_lstm(s):\n",
    "        def func(x):\n",
    "            return x[:, s, :]\n",
    "\n",
    "        return func\n",
    "\n",
    "    # start encoder model\n",
    "    encoder_inputs = keras.Input(shape=(nseg, 192, 1))\n",
    "    # inputs = tf.keras.layers.ZeroPadding2D(padding=((0, 4)))(encoder_inputs)\n",
    "    inputs = encoder_inputs\n",
    "\n",
    "    # Build conv layers for wheight sharing\n",
    "    conv1d_l1 = layers.Conv1D(\n",
    "        64, activation=\"relu\", kernel_size=3, strides=2, padding=\"same\"\n",
    "    )\n",
    "    conv1d_l2 = layers.Conv1D(\n",
    "        32, activation=\"relu\", kernel_size=3, strides=2, padding=\"same\"\n",
    "    )\n",
    "    conv1d_l3 = layers.Conv1D(\n",
    "        16, activation=\"relu\", kernel_size=3, strides=2, padding=\"same\"\n",
    "    )\n",
    "    conv1d_l4 = layers.Conv1D(\n",
    "        8, activation=\"relu\", kernel_size=3, strides=2, padding=\"same\"\n",
    "    )\n",
    "    flatten_1 = layers.Flatten()\n",
    "    dense_1 = layers.Dense(16, activation=\"relu\")\n",
    "\n",
    "    z_mean_list = list()\n",
    "    z_var_list = list()\n",
    "\n",
    "    for s in range(nseg):\n",
    "        x = layers.Lambda(slice_enconder(s))(inputs)\n",
    "        x = conv1d_l1(x)\n",
    "        x = conv1d_l2(x)\n",
    "        x = conv1d_l3(x)\n",
    "        x = conv1d_l4(x)\n",
    "        x = flatten_1(x)\n",
    "        x = dense_1(x)\n",
    "        \n",
    "        z_mean = layers.Dense(latent_dim, name=f\"z_mean_{s}\")(x)\n",
    "        z_log_var = layers.Dense(latent_dim, name=f\"z_log_var_{s}\")(x)\n",
    "\n",
    "        z_mean_list.append(z_mean)\n",
    "        z_var_list.append(z_log_var)\n",
    "\n",
    "    z_mean = layers.Concatenate(axis=1)(z_mean_list)\n",
    "    z_mean = layers.Reshape((nseg, int(z_mean.shape[1] / nseg)))(z_mean)\n",
    "\n",
    "    z_var = layers.Concatenate(axis=1)(z_var_list)\n",
    "    z_var = layers.Reshape((nseg, int(z_var.shape[1] / nseg)))(z_var)\n",
    "\n",
    "    # hier LSTMs\n",
    "    ### mean block\n",
    "    lstm_list_mean = list()\n",
    "    for s in range(nseg):\n",
    "        lstm_mean = layers.Lambda(slice_lstm(s))(z_mean)\n",
    "        lstm_mean = layers.Dense(latent_dim, activation=\"relu\")(lstm_mean)\n",
    "        lstm_list_mean.append(lstm_mean)\n",
    "    # concat and reshape for LSTM\n",
    "    lstm_mean = layers.Concatenate(axis=1)(lstm_list_mean)\n",
    "    lstm_mean = layers.Reshape((nseg, int(lstm_mean.shape[1] / nseg)))(lstm_mean)\n",
    "    lstm_mean = layers.LSTM(latent_dim)(lstm_mean)\n",
    "    lstm_mean = layers.Activation(\"softmax\")(lstm_mean)\n",
    "    ### mean block\n",
    "\n",
    "    ### var block\n",
    "    lstm_list_var = list()\n",
    "    for s in range(nseg):\n",
    "        lstm_var = layers.Lambda(slice_lstm(s))(z_var)\n",
    "        lstm_var = layers.Dense(latent_dim, activation=\"relu\")(lstm_var)\n",
    "        lstm_list_var.append(lstm_var)\n",
    "    # concat and reshape for LSTM\n",
    "    lstm_var = layers.Concatenate(axis=1)(lstm_list_var)\n",
    "    lstm_var = layers.Reshape((nseg, int(lstm_var.shape[1] / nseg)))(lstm_var)\n",
    "    lstm_var = layers.LSTM(latent_dim)(lstm_var)\n",
    "    lstm_var = layers.Activation(\"softmax\")(lstm_var)\n",
    "    ### var block\n",
    "    # end LSTM\n",
    "\n",
    "    z = layers.Lambda(sampling, output_shape=(latent_dim,), name=\"z\")(\n",
    "        [lstm_mean, lstm_var]\n",
    "    )\n",
    "\n",
    "    return encoder_inputs, lstm_mean, lstm_var, z\n",
    "\n",
    "\n",
    "# encoder = keras.Model(encoder_inputs, [z_mean, z_log_var, z], name=\"encoder\")\n",
    "# encoder.summary()"
   ]
  },
  {
   "cell_type": "code",
   "execution_count": 44,
   "id": "c755407a-0bee-4e82-9281-6a273a4aa595",
   "metadata": {},
   "outputs": [],
   "source": [
    "def decoder_model(latent_dim=latent_dim):\n",
    "    latent_inputs = keras.Input(shape=(latent_dim,), name=\"z_sampling\")\n",
    "    x = layers.Dense(16, activation=\"relu\")(latent_inputs)\n",
    "    x = layers.Dense(96, activation=\"relu\")(x)\n",
    "    x = layers.Reshape((12, 8))(x)\n",
    "    x = layers.Conv1DTranspose(\n",
    "        16, activation=\"relu\", kernel_size=3, strides=2, padding=\"same\"\n",
    "    )(x)\n",
    "    x = layers.Conv1DTranspose(\n",
    "        32, activation=\"relu\", kernel_size=3, strides=2, padding=\"same\"\n",
    "    )(x)\n",
    "    x = layers.Conv1DTranspose(\n",
    "        64, activation=\"relu\", kernel_size=3, strides=2, padding=\"same\"\n",
    "    )(x)\n",
    "    x = layers.Conv1DTranspose(\n",
    "        128, activation=\"relu\", kernel_size=3, strides=2, padding=\"same\"\n",
    "    )(x)\n",
    "    x = layers.Conv1DTranspose(\n",
    "        1, activation=\"relu\", kernel_size=1, strides=1, padding=\"same\"\n",
    "    )(x)\n",
    "\n",
    "    decoder_outputs = layers.Flatten()(x)\n",
    "    return latent_inputs, decoder_outputs"
   ]
  },
  {
   "cell_type": "code",
   "execution_count": 45,
   "id": "d0352b63-0d42-432c-94c2-34a8ae9ecf9a",
   "metadata": {},
   "outputs": [],
   "source": [
    "def vae_model():\n",
    "    encoder_inputs, z_mean, z_log_var, z = encoder_model()\n",
    "    encoder = Model(encoder_inputs, (z_mean, z_log_var, z), name=\"VAE_encoder\")\n",
    "    encoder.summary()\n",
    "\n",
    "    decoder_inputs, decoder_outputs = decoder_model()\n",
    "    decoder = Model(decoder_inputs, decoder_outputs, name=\"VAE_decoder\")\n",
    "    decoder.summary()\n",
    "\n",
    "    return VAE(encoder, decoder)"
   ]
  },
  {
   "cell_type": "code",
   "execution_count": 46,
   "id": "2eb01e8b-5962-47a2-980f-dbab622d1480",
   "metadata": {},
   "outputs": [],
   "source": [
    "class VAE(Model):\n",
    "    def __init__(self, encoder, decoder, **kwargs):\n",
    "        super(VAE, self).__init__(**kwargs)\n",
    "        self.encoder = encoder\n",
    "        self.decoder = decoder\n",
    "        self.total_loss_tracker = Mean(name=\"total_loss\")\n",
    "        self.reconstruction_loss_tracker = Mean(name=\"reconstruction_loss\")\n",
    "        self.kl_loss_tracker = Mean(name=\"kl_loss\")\n",
    "\n",
    "    @property\n",
    "    def metrics(self):\n",
    "        return [\n",
    "            self.total_loss_tracker,\n",
    "            self.reconstruction_loss_tracker,\n",
    "            self.kl_loss_tracker,\n",
    "        ]\n",
    "\n",
    "    def train_step(self, data):\n",
    "        with GradientTape() as tape:\n",
    "            z_mean, z_log_var, z = self.encoder(data)\n",
    "            reconstruction = self.decoder(z)[0]\n",
    "            reconstruction_loss = tf.reduce_mean(\n",
    "                tf.reduce_sum(tf.losses.mean_squared_error(data[0, 0, :], reconstruction))#, axis=1\n",
    "            )\n",
    "            kl_loss = -0.5 * (1 + z_log_var - tf.square(z_mean) - tf.exp(z_log_var))\n",
    "            kl_loss = tf.reduce_mean(tf.reduce_sum(kl_loss, axis=1))\n",
    "            total_loss = reconstruction_loss + kl_loss\n",
    "        grads = tape.gradient(total_loss, self.trainable_weights)\n",
    "        \n",
    "        self.optimizer.apply_gradients(zip(grads, self.trainable_weights))\n",
    "        self.total_loss_tracker.update_state(total_loss)\n",
    "        self.reconstruction_loss_tracker.update_state(reconstruction_loss)\n",
    "        self.kl_loss_tracker.update_state(kl_loss)\n",
    "        return {\n",
    "            \"loss\": self.total_loss_tracker.result(),\n",
    "            \"reconstruction_loss\": self.reconstruction_loss_tracker.result(),\n",
    "            \"kl_loss\": self.kl_loss_tracker.result(),\n",
    "        }"
   ]
  },
  {
   "cell_type": "code",
   "execution_count": 47,
   "id": "719fa42d-72cd-4689-8574-54fce34b8a2b",
   "metadata": {},
   "outputs": [
    {
     "name": "stderr",
     "output_type": "stream",
     "text": [
      "2023-11-02 09:57:57.548513: I tensorflow/core/common_runtime/executor.cc:1197] [/device:CPU:0] (DEBUG INFO) Executor start aborting (this does not indicate an error and you can ignore this message): INVALID_ARGUMENT: You must feed a value for placeholder tensor 'gradients/split_2_grad/concat/split_2/split_dim' with dtype int32\n",
      "\t [[{{node gradients/split_2_grad/concat/split_2/split_dim}}]]\n",
      "2023-11-02 09:57:57.549674: I tensorflow/core/common_runtime/executor.cc:1197] [/device:CPU:0] (DEBUG INFO) Executor start aborting (this does not indicate an error and you can ignore this message): INVALID_ARGUMENT: You must feed a value for placeholder tensor 'gradients/split_grad/concat/split/split_dim' with dtype int32\n",
      "\t [[{{node gradients/split_grad/concat/split/split_dim}}]]\n",
      "2023-11-02 09:57:57.550482: I tensorflow/core/common_runtime/executor.cc:1197] [/device:CPU:0] (DEBUG INFO) Executor start aborting (this does not indicate an error and you can ignore this message): INVALID_ARGUMENT: You must feed a value for placeholder tensor 'gradients/split_1_grad/concat/split_1/split_dim' with dtype int32\n",
      "\t [[{{node gradients/split_1_grad/concat/split_1/split_dim}}]]\n",
      "2023-11-02 09:57:57.745767: I tensorflow/core/common_runtime/executor.cc:1197] [/device:CPU:0] (DEBUG INFO) Executor start aborting (this does not indicate an error and you can ignore this message): INVALID_ARGUMENT: You must feed a value for placeholder tensor 'gradients/split_2_grad/concat/split_2/split_dim' with dtype int32\n",
      "\t [[{{node gradients/split_2_grad/concat/split_2/split_dim}}]]\n",
      "2023-11-02 09:57:57.746731: I tensorflow/core/common_runtime/executor.cc:1197] [/device:CPU:0] (DEBUG INFO) Executor start aborting (this does not indicate an error and you can ignore this message): INVALID_ARGUMENT: You must feed a value for placeholder tensor 'gradients/split_grad/concat/split/split_dim' with dtype int32\n",
      "\t [[{{node gradients/split_grad/concat/split/split_dim}}]]\n",
      "2023-11-02 09:57:57.747663: I tensorflow/core/common_runtime/executor.cc:1197] [/device:CPU:0] (DEBUG INFO) Executor start aborting (this does not indicate an error and you can ignore this message): INVALID_ARGUMENT: You must feed a value for placeholder tensor 'gradients/split_1_grad/concat/split_1/split_dim' with dtype int32\n",
      "\t [[{{node gradients/split_1_grad/concat/split_1/split_dim}}]]\n"
     ]
    },
    {
     "name": "stdout",
     "output_type": "stream",
     "text": [
      "Model: \"VAE_encoder\"\n",
      "__________________________________________________________________________________________________\n",
      " Layer (type)                   Output Shape         Param #     Connected to                     \n",
      "==================================================================================================\n",
      " input_4 (InputLayer)           [(None, 6, 192, 1)]  0           []                               \n",
      "                                                                                                  \n",
      " lambda_36 (Lambda)             (None, 192, 1)       0           ['input_4[0][0]']                \n",
      "                                                                                                  \n",
      " lambda_37 (Lambda)             (None, 192, 1)       0           ['input_4[0][0]']                \n",
      "                                                                                                  \n",
      " lambda_38 (Lambda)             (None, 192, 1)       0           ['input_4[0][0]']                \n",
      "                                                                                                  \n",
      " lambda_39 (Lambda)             (None, 192, 1)       0           ['input_4[0][0]']                \n",
      "                                                                                                  \n",
      " lambda_40 (Lambda)             (None, 192, 1)       0           ['input_4[0][0]']                \n",
      "                                                                                                  \n",
      " lambda_41 (Lambda)             (None, 192, 1)       0           ['input_4[0][0]']                \n",
      "                                                                                                  \n",
      " conv1d_12 (Conv1D)             (None, 96, 64)       256         ['lambda_36[0][0]',              \n",
      "                                                                  'lambda_37[0][0]',              \n",
      "                                                                  'lambda_38[0][0]',              \n",
      "                                                                  'lambda_39[0][0]',              \n",
      "                                                                  'lambda_40[0][0]',              \n",
      "                                                                  'lambda_41[0][0]']              \n",
      "                                                                                                  \n",
      " conv1d_13 (Conv1D)             (None, 48, 32)       6176        ['conv1d_12[0][0]',              \n",
      "                                                                  'conv1d_12[1][0]',              \n",
      "                                                                  'conv1d_12[2][0]',              \n",
      "                                                                  'conv1d_12[3][0]',              \n",
      "                                                                  'conv1d_12[4][0]',              \n",
      "                                                                  'conv1d_12[5][0]']              \n",
      "                                                                                                  \n",
      " conv1d_14 (Conv1D)             (None, 24, 16)       1552        ['conv1d_13[0][0]',              \n",
      "                                                                  'conv1d_13[1][0]',              \n",
      "                                                                  'conv1d_13[2][0]',              \n",
      "                                                                  'conv1d_13[3][0]',              \n",
      "                                                                  'conv1d_13[4][0]',              \n",
      "                                                                  'conv1d_13[5][0]']              \n",
      "                                                                                                  \n",
      " conv1d_15 (Conv1D)             (None, 12, 8)        392         ['conv1d_14[0][0]',              \n",
      "                                                                  'conv1d_14[1][0]',              \n",
      "                                                                  'conv1d_14[2][0]',              \n",
      "                                                                  'conv1d_14[3][0]',              \n",
      "                                                                  'conv1d_14[4][0]',              \n",
      "                                                                  'conv1d_14[5][0]']              \n",
      "                                                                                                  \n",
      " flatten_6 (Flatten)            (None, 96)           0           ['conv1d_15[0][0]',              \n",
      "                                                                  'conv1d_15[1][0]',              \n",
      "                                                                  'conv1d_15[2][0]',              \n",
      "                                                                  'conv1d_15[3][0]',              \n",
      "                                                                  'conv1d_15[4][0]',              \n",
      "                                                                  'conv1d_15[5][0]']              \n",
      "                                                                                                  \n",
      " dense_33 (Dense)               (None, 16)           1552        ['flatten_6[0][0]',              \n",
      "                                                                  'flatten_6[1][0]',              \n",
      "                                                                  'flatten_6[2][0]',              \n",
      "                                                                  'flatten_6[3][0]',              \n",
      "                                                                  'flatten_6[4][0]',              \n",
      "                                                                  'flatten_6[5][0]']              \n",
      "                                                                                                  \n",
      " z_mean_0 (Dense)               (None, 4)            68          ['dense_33[0][0]']               \n",
      "                                                                                                  \n",
      " z_mean_1 (Dense)               (None, 4)            68          ['dense_33[1][0]']               \n",
      "                                                                                                  \n",
      " z_mean_2 (Dense)               (None, 4)            68          ['dense_33[2][0]']               \n",
      "                                                                                                  \n",
      " z_mean_3 (Dense)               (None, 4)            68          ['dense_33[3][0]']               \n",
      "                                                                                                  \n",
      " z_mean_4 (Dense)               (None, 4)            68          ['dense_33[4][0]']               \n",
      "                                                                                                  \n",
      " z_mean_5 (Dense)               (None, 4)            68          ['dense_33[5][0]']               \n",
      "                                                                                                  \n",
      " z_log_var_0 (Dense)            (None, 4)            68          ['dense_33[0][0]']               \n",
      "                                                                                                  \n",
      " z_log_var_1 (Dense)            (None, 4)            68          ['dense_33[1][0]']               \n",
      "                                                                                                  \n",
      " z_log_var_2 (Dense)            (None, 4)            68          ['dense_33[2][0]']               \n",
      "                                                                                                  \n",
      " z_log_var_3 (Dense)            (None, 4)            68          ['dense_33[3][0]']               \n",
      "                                                                                                  \n",
      " z_log_var_4 (Dense)            (None, 4)            68          ['dense_33[4][0]']               \n",
      "                                                                                                  \n",
      " z_log_var_5 (Dense)            (None, 4)            68          ['dense_33[5][0]']               \n",
      "                                                                                                  \n",
      " concatenate_12 (Concatenate)   (None, 24)           0           ['z_mean_0[0][0]',               \n",
      "                                                                  'z_mean_1[0][0]',               \n",
      "                                                                  'z_mean_2[0][0]',               \n",
      "                                                                  'z_mean_3[0][0]',               \n",
      "                                                                  'z_mean_4[0][0]',               \n",
      "                                                                  'z_mean_5[0][0]']               \n",
      "                                                                                                  \n",
      " concatenate_13 (Concatenate)   (None, 24)           0           ['z_log_var_0[0][0]',            \n",
      "                                                                  'z_log_var_1[0][0]',            \n",
      "                                                                  'z_log_var_2[0][0]',            \n",
      "                                                                  'z_log_var_3[0][0]',            \n",
      "                                                                  'z_log_var_4[0][0]',            \n",
      "                                                                  'z_log_var_5[0][0]']            \n",
      "                                                                                                  \n",
      " reshape_15 (Reshape)           (None, 6, 4)         0           ['concatenate_12[0][0]']         \n",
      "                                                                                                  \n",
      " reshape_16 (Reshape)           (None, 6, 4)         0           ['concatenate_13[0][0]']         \n",
      "                                                                                                  \n",
      " lambda_42 (Lambda)             (None, 4)            0           ['reshape_15[0][0]']             \n",
      "                                                                                                  \n",
      " lambda_43 (Lambda)             (None, 4)            0           ['reshape_15[0][0]']             \n",
      "                                                                                                  \n",
      " lambda_44 (Lambda)             (None, 4)            0           ['reshape_15[0][0]']             \n",
      "                                                                                                  \n",
      " lambda_45 (Lambda)             (None, 4)            0           ['reshape_15[0][0]']             \n",
      "                                                                                                  \n",
      " lambda_46 (Lambda)             (None, 4)            0           ['reshape_15[0][0]']             \n",
      "                                                                                                  \n",
      " lambda_47 (Lambda)             (None, 4)            0           ['reshape_15[0][0]']             \n",
      "                                                                                                  \n",
      " lambda_48 (Lambda)             (None, 4)            0           ['reshape_16[0][0]']             \n",
      "                                                                                                  \n",
      " lambda_49 (Lambda)             (None, 4)            0           ['reshape_16[0][0]']             \n",
      "                                                                                                  \n",
      " lambda_50 (Lambda)             (None, 4)            0           ['reshape_16[0][0]']             \n",
      "                                                                                                  \n",
      " lambda_51 (Lambda)             (None, 4)            0           ['reshape_16[0][0]']             \n",
      "                                                                                                  \n",
      " lambda_52 (Lambda)             (None, 4)            0           ['reshape_16[0][0]']             \n",
      "                                                                                                  \n",
      " lambda_53 (Lambda)             (None, 4)            0           ['reshape_16[0][0]']             \n",
      "                                                                                                  \n",
      " dense_34 (Dense)               (None, 4)            20          ['lambda_42[0][0]']              \n",
      "                                                                                                  \n",
      " dense_35 (Dense)               (None, 4)            20          ['lambda_43[0][0]']              \n",
      "                                                                                                  \n",
      " dense_36 (Dense)               (None, 4)            20          ['lambda_44[0][0]']              \n",
      "                                                                                                  \n",
      " dense_37 (Dense)               (None, 4)            20          ['lambda_45[0][0]']              \n",
      "                                                                                                  \n",
      " dense_38 (Dense)               (None, 4)            20          ['lambda_46[0][0]']              \n",
      "                                                                                                  \n",
      " dense_39 (Dense)               (None, 4)            20          ['lambda_47[0][0]']              \n",
      "                                                                                                  \n",
      " dense_40 (Dense)               (None, 4)            20          ['lambda_48[0][0]']              \n",
      "                                                                                                  \n",
      " dense_41 (Dense)               (None, 4)            20          ['lambda_49[0][0]']              \n",
      "                                                                                                  \n",
      " dense_42 (Dense)               (None, 4)            20          ['lambda_50[0][0]']              \n",
      "                                                                                                  \n",
      " dense_43 (Dense)               (None, 4)            20          ['lambda_51[0][0]']              \n",
      "                                                                                                  \n",
      " dense_44 (Dense)               (None, 4)            20          ['lambda_52[0][0]']              \n",
      "                                                                                                  \n",
      " dense_45 (Dense)               (None, 4)            20          ['lambda_53[0][0]']              \n",
      "                                                                                                  \n",
      " concatenate_14 (Concatenate)   (None, 24)           0           ['dense_34[0][0]',               \n",
      "                                                                  'dense_35[0][0]',               \n",
      "                                                                  'dense_36[0][0]',               \n",
      "                                                                  'dense_37[0][0]',               \n",
      "                                                                  'dense_38[0][0]',               \n",
      "                                                                  'dense_39[0][0]']               \n",
      "                                                                                                  \n",
      " concatenate_15 (Concatenate)   (None, 24)           0           ['dense_40[0][0]',               \n",
      "                                                                  'dense_41[0][0]',               \n",
      "                                                                  'dense_42[0][0]',               \n",
      "                                                                  'dense_43[0][0]',               \n",
      "                                                                  'dense_44[0][0]',               \n",
      "                                                                  'dense_45[0][0]']               \n",
      "                                                                                                  \n",
      " reshape_17 (Reshape)           (None, 6, 4)         0           ['concatenate_14[0][0]']         \n",
      "                                                                                                  \n",
      " reshape_18 (Reshape)           (None, 6, 4)         0           ['concatenate_15[0][0]']         \n",
      "                                                                                                  \n",
      " lstm_6 (LSTM)                  (None, 4)            144         ['reshape_17[0][0]']             \n",
      "                                                                                                  \n",
      " lstm_7 (LSTM)                  (None, 4)            144         ['reshape_18[0][0]']             \n",
      "                                                                                                  \n",
      " activation_6 (Activation)      (None, 4)            0           ['lstm_6[0][0]']                 \n",
      "                                                                                                  \n",
      " activation_7 (Activation)      (None, 4)            0           ['lstm_7[0][0]']                 \n",
      "                                                                                                  \n",
      " z (Lambda)                     (None, 4)            0           ['activation_6[0][0]',           \n",
      "                                                                  'activation_7[0][0]']           \n",
      "                                                                                                  \n",
      "==================================================================================================\n",
      "Total params: 11,272\n",
      "Trainable params: 11,272\n",
      "Non-trainable params: 0\n",
      "__________________________________________________________________________________________________\n",
      "Model: \"VAE_decoder\"\n",
      "_________________________________________________________________\n",
      " Layer (type)                Output Shape              Param #   \n",
      "=================================================================\n",
      " z_sampling (InputLayer)     [(None, 4)]               0         \n",
      "                                                                 \n",
      " dense_46 (Dense)            (None, 16)                80        \n",
      "                                                                 \n",
      " dense_47 (Dense)            (None, 96)                1632      \n",
      "                                                                 \n",
      " reshape_19 (Reshape)        (None, 12, 8)             0         \n",
      "                                                                 \n",
      " conv1d_transpose_15 (Conv1D  (None, 24, 16)           400       \n",
      " Transpose)                                                      \n",
      "                                                                 \n",
      " conv1d_transpose_16 (Conv1D  (None, 48, 32)           1568      \n",
      " Transpose)                                                      \n",
      "                                                                 \n",
      " conv1d_transpose_17 (Conv1D  (None, 96, 64)           6208      \n",
      " Transpose)                                                      \n",
      "                                                                 \n",
      " conv1d_transpose_18 (Conv1D  (None, 192, 128)         24704     \n",
      " Transpose)                                                      \n",
      "                                                                 \n",
      " conv1d_transpose_19 (Conv1D  (None, 192, 1)           129       \n",
      " Transpose)                                                      \n",
      "                                                                 \n",
      " flatten_7 (Flatten)         (None, 192)               0         \n",
      "                                                                 \n",
      "=================================================================\n",
      "Total params: 34,721\n",
      "Trainable params: 34,721\n",
      "Non-trainable params: 0\n",
      "_________________________________________________________________\n"
     ]
    }
   ],
   "source": [
    "vae = vae_model()"
   ]
  },
  {
   "cell_type": "code",
   "execution_count": 48,
   "id": "83aab228-808a-4baa-8d81-1e34343fa282",
   "metadata": {},
   "outputs": [],
   "source": [
    "vae.compile(optimizer=\"adam\")"
   ]
  },
  {
   "cell_type": "code",
   "execution_count": 49,
   "id": "8559ab21-2793-4f96-b0c4-15d3cd9685c5",
   "metadata": {},
   "outputs": [],
   "source": [
    "X = [V[n : n + nseg, :] for n in range(V.shape[0] - nseg + 1)]\n",
    "X = np.expand_dims(X,3)\n",
    "\n",
    "Y = np.array(V[nseg - 1 :])\n",
    "\n",
    "# X = | t0 | t1 | t2 | t3  \n",
    "# Y = | __ | __ | __ | t3  "
   ]
  },
  {
   "cell_type": "code",
   "execution_count": 50,
   "id": "96d724d8-43f1-4b46-9115-47ad105c5566",
   "metadata": {},
   "outputs": [],
   "source": [
    "X_train, X_test, Y_train, Y_test = train_test_split(\n",
    "    X, Y, test_size=0.1, shuffle=False, random_state=52\n",
    ")"
   ]
  },
  {
   "cell_type": "code",
   "execution_count": 51,
   "id": "3d3c18d2-ce66-49f3-b4bd-4bfcf0eb8836",
   "metadata": {},
   "outputs": [
    {
     "name": "stdout",
     "output_type": "stream",
     "text": [
      "(8995, 6, 192, 1) (8995, 6, 192, 1)\n"
     ]
    }
   ],
   "source": [
    "print(X_train.shape, X_train.shape)"
   ]
  },
  {
   "cell_type": "code",
   "execution_count": 52,
   "id": "1f19c333-5685-44b1-ba50-3b11ee5ee248",
   "metadata": {},
   "outputs": [
    {
     "data": {
      "text/plain": [
       "True"
      ]
     },
     "execution_count": 52,
     "metadata": {},
     "output_type": "execute_result"
    }
   ],
   "source": [
    "np.allclose(X_train[0, 5, :,0], Y_train[0, :])"
   ]
  },
  {
   "cell_type": "code",
   "execution_count": null,
   "id": "4bbc84e2-4aaf-4a54-86f4-c9da054ece9e",
   "metadata": {},
   "outputs": [
    {
     "name": "stdout",
     "output_type": "stream",
     "text": [
      "Epoch 1/50\n"
     ]
    },
    {
     "name": "stderr",
     "output_type": "stream",
     "text": [
      "2023-11-02 09:58:01.097151: I tensorflow/core/common_runtime/executor.cc:1197] [/device:CPU:0] (DEBUG INFO) Executor start aborting (this does not indicate an error and you can ignore this message): INVALID_ARGUMENT: You must feed a value for placeholder tensor 'gradients/split_2_grad/concat/split_2/split_dim' with dtype int32\n",
      "\t [[{{node gradients/split_2_grad/concat/split_2/split_dim}}]]\n",
      "2023-11-02 09:58:01.098507: I tensorflow/core/common_runtime/executor.cc:1197] [/device:CPU:0] (DEBUG INFO) Executor start aborting (this does not indicate an error and you can ignore this message): INVALID_ARGUMENT: You must feed a value for placeholder tensor 'gradients/split_grad/concat/split/split_dim' with dtype int32\n",
      "\t [[{{node gradients/split_grad/concat/split/split_dim}}]]\n",
      "2023-11-02 09:58:01.099568: I tensorflow/core/common_runtime/executor.cc:1197] [/device:CPU:0] (DEBUG INFO) Executor start aborting (this does not indicate an error and you can ignore this message): INVALID_ARGUMENT: You must feed a value for placeholder tensor 'gradients/split_1_grad/concat/split_1/split_dim' with dtype int32\n",
      "\t [[{{node gradients/split_1_grad/concat/split_1/split_dim}}]]\n",
      "2023-11-02 09:58:01.268108: I tensorflow/core/common_runtime/executor.cc:1197] [/device:CPU:0] (DEBUG INFO) Executor start aborting (this does not indicate an error and you can ignore this message): INVALID_ARGUMENT: You must feed a value for placeholder tensor 'gradients/split_2_grad/concat/split_2/split_dim' with dtype int32\n",
      "\t [[{{node gradients/split_2_grad/concat/split_2/split_dim}}]]\n",
      "2023-11-02 09:58:01.269232: I tensorflow/core/common_runtime/executor.cc:1197] [/device:CPU:0] (DEBUG INFO) Executor start aborting (this does not indicate an error and you can ignore this message): INVALID_ARGUMENT: You must feed a value for placeholder tensor 'gradients/split_grad/concat/split/split_dim' with dtype int32\n",
      "\t [[{{node gradients/split_grad/concat/split/split_dim}}]]\n",
      "2023-11-02 09:58:01.270315: I tensorflow/core/common_runtime/executor.cc:1197] [/device:CPU:0] (DEBUG INFO) Executor start aborting (this does not indicate an error and you can ignore this message): INVALID_ARGUMENT: You must feed a value for placeholder tensor 'gradients/split_1_grad/concat/split_1/split_dim' with dtype int32\n",
      "\t [[{{node gradients/split_1_grad/concat/split_1/split_dim}}]]\n",
      "2023-11-02 09:58:04.836343: I tensorflow/core/common_runtime/executor.cc:1197] [/device:CPU:0] (DEBUG INFO) Executor start aborting (this does not indicate an error and you can ignore this message): INVALID_ARGUMENT: You must feed a value for placeholder tensor 'gradients/split_2_grad/concat/split_2/split_dim' with dtype int32\n",
      "\t [[{{node gradients/split_2_grad/concat/split_2/split_dim}}]]\n",
      "2023-11-02 09:58:04.837775: I tensorflow/core/common_runtime/executor.cc:1197] [/device:CPU:0] (DEBUG INFO) Executor start aborting (this does not indicate an error and you can ignore this message): INVALID_ARGUMENT: You must feed a value for placeholder tensor 'gradients/split_grad/concat/split/split_dim' with dtype int32\n",
      "\t [[{{node gradients/split_grad/concat/split/split_dim}}]]\n",
      "2023-11-02 09:58:04.838815: I tensorflow/core/common_runtime/executor.cc:1197] [/device:CPU:0] (DEBUG INFO) Executor start aborting (this does not indicate an error and you can ignore this message): INVALID_ARGUMENT: You must feed a value for placeholder tensor 'gradients/split_1_grad/concat/split_1/split_dim' with dtype int32\n",
      "\t [[{{node gradients/split_1_grad/concat/split_1/split_dim}}]]\n",
      "2023-11-02 09:58:05.001405: I tensorflow/core/common_runtime/executor.cc:1197] [/device:CPU:0] (DEBUG INFO) Executor start aborting (this does not indicate an error and you can ignore this message): INVALID_ARGUMENT: You must feed a value for placeholder tensor 'gradients/split_2_grad/concat/split_2/split_dim' with dtype int32\n",
      "\t [[{{node gradients/split_2_grad/concat/split_2/split_dim}}]]\n",
      "2023-11-02 09:58:05.002546: I tensorflow/core/common_runtime/executor.cc:1197] [/device:CPU:0] (DEBUG INFO) Executor start aborting (this does not indicate an error and you can ignore this message): INVALID_ARGUMENT: You must feed a value for placeholder tensor 'gradients/split_grad/concat/split/split_dim' with dtype int32\n",
      "\t [[{{node gradients/split_grad/concat/split/split_dim}}]]\n",
      "2023-11-02 09:58:05.003603: I tensorflow/core/common_runtime/executor.cc:1197] [/device:CPU:0] (DEBUG INFO) Executor start aborting (this does not indicate an error and you can ignore this message): INVALID_ARGUMENT: You must feed a value for placeholder tensor 'gradients/split_1_grad/concat/split_1/split_dim' with dtype int32\n",
      "\t [[{{node gradients/split_1_grad/concat/split_1/split_dim}}]]\n",
      "2023-11-02 09:58:06.452609: W tensorflow/core/grappler/costs/op_level_cost_estimator.cc:690] Error in PredictCost() for the op: op: \"Softmax\" attr { key: \"T\" value { type: DT_FLOAT } } inputs { dtype: DT_FLOAT shape { unknown_rank: true } } device { type: \"GPU\" vendor: \"NVIDIA\" model: \"NVIDIA RTX A6000\" frequency: 1800 num_cores: 84 environment { key: \"architecture\" value: \"8.6\" } environment { key: \"cuda\" value: \"11080\" } environment { key: \"cudnn\" value: \"8600\" } num_registers: 65536 l1_cache_size: 24576 l2_cache_size: 6291456 shared_memory_size_per_multiprocessor: 102400 memory_size: 48939925504 bandwidth: 768096000 } outputs { dtype: DT_FLOAT shape { unknown_rank: true } }\n",
      "2023-11-02 09:58:06.452790: W tensorflow/core/grappler/costs/op_level_cost_estimator.cc:690] Error in PredictCost() for the op: op: \"Softmax\" attr { key: \"T\" value { type: DT_FLOAT } } inputs { dtype: DT_FLOAT shape { unknown_rank: true } } device { type: \"GPU\" vendor: \"NVIDIA\" model: \"NVIDIA RTX A6000\" frequency: 1800 num_cores: 84 environment { key: \"architecture\" value: \"8.6\" } environment { key: \"cuda\" value: \"11080\" } environment { key: \"cudnn\" value: \"8600\" } num_registers: 65536 l1_cache_size: 24576 l2_cache_size: 6291456 shared_memory_size_per_multiprocessor: 102400 memory_size: 48939925504 bandwidth: 768096000 } outputs { dtype: DT_FLOAT shape { unknown_rank: true } }\n"
     ]
    },
    {
     "name": "stdout",
     "output_type": "stream",
     "text": [
      "563/563 [==============================] - 24s 25ms/step - loss: 14.6045 - reconstruction_loss: 14.0937 - kl_loss: 0.1931\n",
      "Epoch 2/50\n",
      "563/563 [==============================] - 14s 25ms/step - loss: 13.9232 - reconstruction_loss: 13.9361 - kl_loss: 0.1931\n",
      "Epoch 3/50\n",
      "563/563 [==============================] - 14s 25ms/step - loss: 13.2075 - reconstruction_loss: 13.5305 - kl_loss: 0.1931\n",
      "Epoch 4/50\n",
      "563/563 [==============================] - 14s 25ms/step - loss: 14.4218 - reconstruction_loss: 14.2039 - kl_loss: 0.1931\n",
      "Epoch 5/50\n",
      "563/563 [==============================] - 13s 24ms/step - loss: 13.9931 - reconstruction_loss: 13.4994 - kl_loss: 0.1931\n",
      "Epoch 6/50\n",
      "563/563 [==============================] - 14s 24ms/step - loss: 14.5907 - reconstruction_loss: 14.1016 - kl_loss: 0.1931\n",
      "Epoch 7/50\n",
      "563/563 [==============================] - 13s 24ms/step - loss: 13.9647 - reconstruction_loss: 13.8026 - kl_loss: 0.1931\n",
      "Epoch 8/50\n",
      "563/563 [==============================] - 13s 24ms/step - loss: 14.4983 - reconstruction_loss: 13.8875 - kl_loss: 0.1931\n",
      "Epoch 9/50\n",
      "563/563 [==============================] - 14s 24ms/step - loss: 14.9319 - reconstruction_loss: 14.4663 - kl_loss: 0.1931\n",
      "Epoch 10/50\n",
      "563/563 [==============================] - 14s 25ms/step - loss: 14.4527 - reconstruction_loss: 14.0047 - kl_loss: 0.1931\n",
      "Epoch 11/50\n",
      "563/563 [==============================] - 14s 24ms/step - loss: 14.6908 - reconstruction_loss: 14.1724 - kl_loss: 0.1931\n",
      "Epoch 12/50\n",
      "563/563 [==============================] - 14s 25ms/step - loss: 14.5626 - reconstruction_loss: 14.0635 - kl_loss: 0.1931\n",
      "Epoch 13/50\n",
      "563/563 [==============================] - 14s 25ms/step - loss: 14.5103 - reconstruction_loss: 14.3462 - kl_loss: 0.1931\n",
      "Epoch 14/50\n",
      "563/563 [==============================] - 14s 25ms/step - loss: 14.0700 - reconstruction_loss: 13.9909 - kl_loss: 0.1931\n",
      "Epoch 15/50\n",
      "563/563 [==============================] - 14s 25ms/step - loss: 13.9631 - reconstruction_loss: 14.2010 - kl_loss: 0.1931\n",
      "Epoch 16/50\n",
      "563/563 [==============================] - 14s 25ms/step - loss: 14.2551 - reconstruction_loss: 14.3296 - kl_loss: 0.1931\n",
      "Epoch 17/50\n",
      "300/563 [==============>...............] - ETA: 6s - loss: 14.3768 - reconstruction_loss: 14.1705 - kl_loss: 0.1931"
     ]
    }
   ],
   "source": [
    "history = vae.fit(x=X_train, epochs=50, batch_size=16)"
   ]
  },
  {
   "cell_type": "code",
   "execution_count": 24,
   "id": "74491544-3386-4957-a617-56efba319904",
   "metadata": {},
   "outputs": [
    {
     "data": {
      "image/png": "[encoded data removed]",
      "text/plain": [
       "<Figure size 640x480 with 1 Axes>"
      ]
     },
     "metadata": {},
     "output_type": "display_data"
    }
   ],
   "source": [
    "plt.plot(history.history[\"loss\"], label=\"loss\")\n",
    "plt.plot(history.history[\"reconstruction_loss\"], label=\"reconstruction_loss\")\n",
    "plt.xlabel(\"Epochs\")\n",
    "plt.ylabel(\"Loss\")\n",
    "plt.legend()\n",
    "plt.show()"
   ]
  },
  {
   "cell_type": "code",
   "execution_count": 25,
   "id": "b7c7be2b-917d-46f7-9e77-75f5be424c54",
   "metadata": {},
   "outputs": [
    {
     "name": "stderr",
     "output_type": "stream",
     "text": [
      "2023-11-02 09:54:14.299859: I tensorflow/core/common_runtime/executor.cc:1197] [/device:CPU:0] (DEBUG INFO) Executor start aborting (this does not indicate an error and you can ignore this message): INVALID_ARGUMENT: You must feed a value for placeholder tensor 'gradients/split_2_grad/concat/split_2/split_dim' with dtype int32\n",
      "\t [[{{node gradients/split_2_grad/concat/split_2/split_dim}}]]\n",
      "2023-11-02 09:54:14.301205: I tensorflow/core/common_runtime/executor.cc:1197] [/device:CPU:0] (DEBUG INFO) Executor start aborting (this does not indicate an error and you can ignore this message): INVALID_ARGUMENT: You must feed a value for placeholder tensor 'gradients/split_grad/concat/split/split_dim' with dtype int32\n",
      "\t [[{{node gradients/split_grad/concat/split/split_dim}}]]\n",
      "2023-11-02 09:54:14.302205: I tensorflow/core/common_runtime/executor.cc:1197] [/device:CPU:0] (DEBUG INFO) Executor start aborting (this does not indicate an error and you can ignore this message): INVALID_ARGUMENT: You must feed a value for placeholder tensor 'gradients/split_1_grad/concat/split_1/split_dim' with dtype int32\n",
      "\t [[{{node gradients/split_1_grad/concat/split_1/split_dim}}]]\n",
      "2023-11-02 09:54:14.462345: I tensorflow/core/common_runtime/executor.cc:1197] [/device:CPU:0] (DEBUG INFO) Executor start aborting (this does not indicate an error and you can ignore this message): INVALID_ARGUMENT: You must feed a value for placeholder tensor 'gradients/split_2_grad/concat/split_2/split_dim' with dtype int32\n",
      "\t [[{{node gradients/split_2_grad/concat/split_2/split_dim}}]]\n",
      "2023-11-02 09:54:14.463411: I tensorflow/core/common_runtime/executor.cc:1197] [/device:CPU:0] (DEBUG INFO) Executor start aborting (this does not indicate an error and you can ignore this message): INVALID_ARGUMENT: You must feed a value for placeholder tensor 'gradients/split_grad/concat/split/split_dim' with dtype int32\n",
      "\t [[{{node gradients/split_grad/concat/split/split_dim}}]]\n",
      "2023-11-02 09:54:14.464456: I tensorflow/core/common_runtime/executor.cc:1197] [/device:CPU:0] (DEBUG INFO) Executor start aborting (this does not indicate an error and you can ignore this message): INVALID_ARGUMENT: You must feed a value for placeholder tensor 'gradients/split_1_grad/concat/split_1/split_dim' with dtype int32\n",
      "\t [[{{node gradients/split_1_grad/concat/split_1/split_dim}}]]\n",
      "2023-11-02 09:54:14.584065: W tensorflow/core/grappler/costs/op_level_cost_estimator.cc:690] Error in PredictCost() for the op: op: \"Softmax\" attr { key: \"T\" value { type: DT_FLOAT } } inputs { dtype: DT_FLOAT shape { unknown_rank: true } } device { type: \"GPU\" vendor: \"NVIDIA\" model: \"NVIDIA RTX A6000\" frequency: 1800 num_cores: 84 environment { key: \"architecture\" value: \"8.6\" } environment { key: \"cuda\" value: \"11080\" } environment { key: \"cudnn\" value: \"8600\" } num_registers: 65536 l1_cache_size: 24576 l2_cache_size: 6291456 shared_memory_size_per_multiprocessor: 102400 memory_size: 48939925504 bandwidth: 768096000 } outputs { dtype: DT_FLOAT shape { unknown_rank: true } }\n",
      "2023-11-02 09:54:14.584149: W tensorflow/core/grappler/costs/op_level_cost_estimator.cc:690] Error in PredictCost() for the op: op: \"Softmax\" attr { key: \"T\" value { type: DT_FLOAT } } attr { key: \"_has_manual_control_dependencies\" value { b: true } } inputs { dtype: DT_FLOAT shape { unknown_rank: true } } device { type: \"GPU\" vendor: \"NVIDIA\" model: \"NVIDIA RTX A6000\" frequency: 1800 num_cores: 84 environment { key: \"architecture\" value: \"8.6\" } environment { key: \"cuda\" value: \"11080\" } environment { key: \"cudnn\" value: \"8600\" } num_registers: 65536 l1_cache_size: 24576 l2_cache_size: 6291456 shared_memory_size_per_multiprocessor: 102400 memory_size: 48939925504 bandwidth: 768096000 } outputs { dtype: DT_FLOAT shape { unknown_rank: true } }\n"
     ]
    },
    {
     "name": "stdout",
     "output_type": "stream",
     "text": [
      "32/32 [==============================] - 2s 21ms/step\n"
     ]
    }
   ],
   "source": [
    "y_test = vae.encoder.predict(X_test)[0]"
   ]
  },
  {
   "cell_type": "code",
   "execution_count": 26,
   "id": "03b7379d-84d6-45c8-a288-2376ea22ff0c",
   "metadata": {},
   "outputs": [
    {
     "data": {
      "text/plain": [
       "array([[0.25000405, 0.25000522, 0.2499905 , 0.25000024],\n",
       "       [0.25000387, 0.2500052 , 0.24999058, 0.25000036],\n",
       "       [0.2500038 , 0.25000516, 0.24999069, 0.2500004 ],\n",
       "       ...,\n",
       "       [0.2500041 , 0.25000504, 0.24999085, 0.25000006],\n",
       "       [0.25000393, 0.25000504, 0.24999084, 0.25000018],\n",
       "       [0.2500038 , 0.25000516, 0.2499907 , 0.2500004 ]], dtype=float32)"
      ]
     },
     "execution_count": 26,
     "metadata": {},
     "output_type": "execute_result"
    }
   ],
   "source": [
    "y_test"
   ]
  },
  {
   "cell_type": "code",
   "execution_count": 27,
   "id": "2c60ebc7-af79-4aac-b77a-d100feda6577",
   "metadata": {},
   "outputs": [
    {
     "name": "stdout",
     "output_type": "stream",
     "text": [
      "32/32 [==============================] - 0s 5ms/step\n"
     ]
    },
    {
     "data": {
      "text/plain": [
       "array([[0.49993414, 0.5000558 , 0.5003055 , ..., 0.5002622 , 0.50032914,\n",
       "        0.50034785],\n",
       "       [0.49993414, 0.5000558 , 0.5003055 , ..., 0.5002622 , 0.50032914,\n",
       "        0.50034785],\n",
       "       [0.49993414, 0.5000558 , 0.5003055 , ..., 0.5002622 , 0.50032914,\n",
       "        0.50034785],\n",
       "       ...,\n",
       "       [0.49993712, 0.5000535 , 0.5002993 , ..., 0.5002679 , 0.50032496,\n",
       "        0.50035   ],\n",
       "       [0.49993712, 0.5000536 , 0.5002993 , ..., 0.5002679 , 0.500325  ,\n",
       "        0.50035   ],\n",
       "       [0.49993712, 0.5000535 , 0.5002992 , ..., 0.5002679 , 0.500325  ,\n",
       "        0.50035   ]], dtype=float32)"
      ]
     },
     "execution_count": 27,
     "metadata": {},
     "output_type": "execute_result"
    }
   ],
   "source": [
    "res = vae.decoder.predict(y_test)\n",
    "res"
   ]
  },
  {
   "cell_type": "code",
   "execution_count": 28,
   "id": "2388d455-bec9-4d33-9fa7-cc27765e717d",
   "metadata": {},
   "outputs": [
    {
     "data": {
      "text/plain": [
       "<StemContainer object of 3 artists>"
      ]
     },
     "execution_count": 28,
     "metadata": {},
     "output_type": "execute_result"
    },
    {
     "data": {
      "image/png": "[encoded data removed]",
      "text/plain": [
       "<Figure size 640x480 with 1 Axes>"
      ]
     },
     "metadata": {},
     "output_type": "display_data"
    }
   ],
   "source": [
    "plt.stem(res[10,:])"
   ]
  },
  {
   "cell_type": "code",
   "execution_count": null,
   "id": "77842921-74a5-45e0-b481-8dbac8aa58d8",
   "metadata": {},
   "outputs": [],
   "source": []
  }
 ],
 "metadata": {
  "kernelspec": {
   "display_name": "ml-TF_2_12",
   "language": "python",
   "name": "ml-tf_2_12"
  },
  "language_info": {
   "codemirror_mode": {
    "name": "ipython",
    "version": 3
   },
   "file_extension": ".py",
   "mimetype": "text/x-python",
   "name": "python",
   "nbconvert_exporter": "python",
   "pygments_lexer": "ipython3",
   "version": "3.11.2"
  }
 },
 "nbformat": 4,
 "nbformat_minor": 5
}
