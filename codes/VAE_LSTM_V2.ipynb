{
 "cells": [
  {
   "cell_type": "code",
   "execution_count": 1,
   "id": "e7d42e98-43fe-4d02-a0c0-2f2d6d00961e",
   "metadata": {
    "tags": []
   },
   "outputs": [
    {
     "name": "stderr",
     "output_type": "stream",
     "text": [
      "2023-10-16 10:28:52.761000: I tensorflow/core/platform/cpu_feature_guard.cc:182] This TensorFlow binary is optimized to use available CPU instructions in performance-critical operations.\n",
      "To enable the following instructions: AVX2 FMA, in other operations, rebuild TensorFlow with the appropriate compiler flags.\n"
     ]
    }
   ],
   "source": [
    "import os\n",
    "\n",
    "import matplotlib.pyplot as plt\n",
    "import numpy as np\n",
    "import tensorflow as tf\n",
    "from sklearn.model_selection import train_test_split\n",
    "from tensorflow import GradientTape, exp, keras, reduce_mean, reduce_sum, shape, square\n",
    "from tensorflow.keras import layers, models\n",
    "from tensorflow.keras.layers import (\n",
    "    LSTM,\n",
    "    Activation,\n",
    "    Add,\n",
    "    BatchNormalization,\n",
    "    Bidirectional,\n",
    "    Concatenate,\n",
    "    Conv1D,\n",
    "    Conv2D,\n",
    "    ConvLSTM1D,\n",
    "    Cropping1D,\n",
    "    Cropping2D,\n",
    "    Dense,\n",
    "    Dropout,\n",
    "    Flatten,\n",
    "    Input,\n",
    "    Lambda,\n",
    "    MaxPooling1D,\n",
    "    Normalization,\n",
    "    Reshape,\n",
    "    ZeroPadding1D,\n",
    ")\n",
    "from tensorflow.keras.losses import Huber, binary_crossentropy, mse\n",
    "from tensorflow.keras.metrics import Mean\n",
    "from tensorflow.keras.models import Model"
   ]
  },
  {
   "cell_type": "markdown",
   "id": "939c0434-9559-4107-9166-ccdac5d6b60f",
   "metadata": {
    "tags": []
   },
   "source": [
    "# VAE & LSTM V2"
   ]
  },
  {
   "cell_type": "code",
   "execution_count": 2,
   "id": "5ea1fe20-3700-4ce4-8c3a-367f7522f73b",
   "metadata": {
    "tags": []
   },
   "outputs": [
    {
     "name": "stdout",
     "output_type": "stream",
     "text": [
      "You have to generate the data...\n"
     ]
    }
   ],
   "source": [
    "n_el = 16\n",
    "r_obj = 0.3\n",
    "dist_exc = 8\n",
    "step_meas = 4\n",
    "\n",
    "load_path = f\"../data/{n_el=}_{r_obj=}_{dist_exc=}_{step_meas=}/\"\n",
    "\n",
    "if os.path.isdir(load_path):\n",
    "    print(\"This directory exists...continue\")\n",
    "else:\n",
    "    print(\"You have to generate the data...\")"
   ]
  },
  {
   "cell_type": "code",
   "execution_count": 3,
   "id": "0fad37a9-b596-4d8a-b67a-6c8b948964a6",
   "metadata": {
    "tags": []
   },
   "outputs": [],
   "source": [
    "V = np.load(\"../saves/\" + load_path.split(\"/\")[2] + \"_v_data.npy\", allow_pickle=True)"
   ]
  },
  {
   "cell_type": "code",
   "execution_count": 4,
   "id": "d9ea5ad5-a1fb-4d45-acb8-35ae73d06c3f",
   "metadata": {
    "tags": []
   },
   "outputs": [
    {
     "data": {
      "text/plain": [
       "(999, 192)"
      ]
     },
     "execution_count": 4,
     "metadata": {},
     "output_type": "execute_result"
    }
   ],
   "source": [
    "V.shape"
   ]
  },
  {
   "cell_type": "code",
   "execution_count": 5,
   "id": "f34a8309-96bd-41bc-9043-b14eb17969ce",
   "metadata": {
    "tags": []
   },
   "outputs": [],
   "source": [
    "def sampling(args):\n",
    "    z_mean, z_log_var = args\n",
    "    epsilon = keras.backend.random_normal(\n",
    "        shape=(keras.backend.shape(z_mean)[0], latent_dim)\n",
    "    )\n",
    "    return z_mean + keras.backend.exp(0.5 * z_log_var) * epsilon"
   ]
  },
  {
   "cell_type": "code",
   "execution_count": 6,
   "id": "d04f6da4-1417-4bcf-a2ba-828f33379ec3",
   "metadata": {
    "tags": []
   },
   "outputs": [
    {
     "name": "stdout",
     "output_type": "stream",
     "text": [
      "Model: \"encoder\"\n",
      "__________________________________________________________________________________________________\n",
      " Layer (type)                   Output Shape         Param #     Connected to                     \n",
      "==================================================================================================\n",
      " input_1 (InputLayer)           [(None, 192)]        0           []                               \n",
      "                                                                                                  \n",
      " dense (Dense)                  (None, 64)           12352       ['input_1[0][0]']                \n",
      "                                                                                                  \n",
      " dense_1 (Dense)                (None, 32)           2080        ['dense[0][0]']                  \n",
      "                                                                                                  \n",
      " flatten (Flatten)              (None, 32)           0           ['dense_1[0][0]']                \n",
      "                                                                                                  \n",
      " dense_2 (Dense)                (None, 16)           528         ['flatten[0][0]']                \n",
      "                                                                                                  \n",
      " z_mean (Dense)                 (None, 8)            136         ['dense_2[0][0]']                \n",
      "                                                                                                  \n",
      " z_log_var (Dense)              (None, 8)            136         ['dense_2[0][0]']                \n",
      "                                                                                                  \n",
      " z (Lambda)                     (None, 8)            0           ['z_mean[0][0]',                 \n",
      "                                                                  'z_log_var[0][0]']              \n",
      "                                                                                                  \n",
      "==================================================================================================\n",
      "Total params: 15,232\n",
      "Trainable params: 15,232\n",
      "Non-trainable params: 0\n",
      "__________________________________________________________________________________________________\n"
     ]
    },
    {
     "name": "stderr",
     "output_type": "stream",
     "text": [
      "2023-10-16 10:29:02.558442: I tensorflow/core/common_runtime/gpu/gpu_device.cc:1635] Created device /job:localhost/replica:0/task:0/device:GPU:0 with 46672 MB memory:  -> device: 0, name: NVIDIA RTX A6000, pci bus id: 0000:01:00.0, compute capability: 8.6\n",
      "2023-10-16 10:29:02.560260: I tensorflow/core/common_runtime/gpu/gpu_device.cc:1635] Created device /job:localhost/replica:0/task:0/device:GPU:1 with 46672 MB memory:  -> device: 1, name: NVIDIA RTX A6000, pci bus id: 0000:81:00.0, compute capability: 8.6\n"
     ]
    }
   ],
   "source": [
    "latent_dim = 8\n",
    "\n",
    "encoder_inputs = keras.Input(shape=(192,))\n",
    "\n",
    "x = layers.Dense(64, activation=\"relu\")(encoder_inputs)\n",
    "x = layers.Dense(32, activation=\"relu\")(x)\n",
    "x = layers.Flatten()(x)\n",
    "x = layers.Dense(16, activation=\"relu\")(x)\n",
    "\n",
    "z_mean = layers.Dense(latent_dim, name=\"z_mean\")(x)\n",
    "z_log_var = layers.Dense(latent_dim, name=\"z_log_var\")(x)\n",
    "\n",
    "\n",
    "z = layers.Lambda(sampling, output_shape=(latent_dim,), name=\"z\")([z_mean, z_log_var])\n",
    "\n",
    "encoder = keras.Model(encoder_inputs, [z_mean, z_log_var, z], name=\"encoder\")\n",
    "encoder.summary()"
   ]
  },
  {
   "cell_type": "code",
   "execution_count": 7,
   "id": "4a8ee74d-3421-4565-9d98-4ac187632b9b",
   "metadata": {
    "tags": []
   },
   "outputs": [
    {
     "name": "stdout",
     "output_type": "stream",
     "text": [
      "Model: \"decoder\"\n",
      "_________________________________________________________________\n",
      " Layer (type)                Output Shape              Param #   \n",
      "=================================================================\n",
      " z_sampling (InputLayer)     [(None, 8)]               0         \n",
      "                                                                 \n",
      " dense_3 (Dense)             (None, 16)                144       \n",
      "                                                                 \n",
      " dense_4 (Dense)             (None, 32)                544       \n",
      "                                                                 \n",
      " dense_5 (Dense)             (None, 64)                2112      \n",
      "                                                                 \n",
      " dense_6 (Dense)             (None, 192)               12480     \n",
      "                                                                 \n",
      " flatten_1 (Flatten)         (None, 192)               0         \n",
      "                                                                 \n",
      "=================================================================\n",
      "Total params: 15,280\n",
      "Trainable params: 15,280\n",
      "Non-trainable params: 0\n",
      "_________________________________________________________________\n"
     ]
    }
   ],
   "source": [
    "# Definiere den Decoder\n",
    "latent_inputs = keras.Input(shape=(latent_dim,), name=\"z_sampling\")\n",
    "x = layers.Dense(16, activation=\"relu\")(latent_inputs)\n",
    "x = layers.Dense(32, activation=\"relu\")(x)\n",
    "x = layers.Dense(64, activation=\"relu\")(x)\n",
    "x = layers.Dense(192, activation=\"relu\")(x)\n",
    "decoder_outputs = layers.Flatten()(x)\n",
    "\n",
    "decoder = keras.Model(latent_inputs, decoder_outputs, name=\"decoder\")\n",
    "decoder.summary()"
   ]
  },
  {
   "cell_type": "code",
   "execution_count": 8,
   "id": "950a3173-bf2f-4251-9c22-6513c4bc9376",
   "metadata": {
    "tags": []
   },
   "outputs": [],
   "source": [
    "class VAE(keras.Model):\n",
    "    def __init__(self, encoder, decoder, **kwargs):\n",
    "        super().__init__(**kwargs)\n",
    "        self.encoder = encoder\n",
    "        self.decoder = decoder\n",
    "        self.total_loss_tracker = keras.metrics.Mean(name=\"total_loss\")\n",
    "        self.reconstruction_loss_tracker = keras.metrics.Mean(\n",
    "            name=\"reconstruction_loss\"\n",
    "        )\n",
    "        self.kl_loss_tracker = keras.metrics.Mean(name=\"kl_loss\")\n",
    "\n",
    "    @property\n",
    "    def metrics(self):\n",
    "        return [\n",
    "            self.total_loss_tracker,\n",
    "            self.reconstruction_loss_tracker,\n",
    "            self.kl_loss_tracker,\n",
    "        ]\n",
    "\n",
    "    def train_step(self, data):\n",
    "        with tf.GradientTape() as tape:\n",
    "            z_mean, z_log_var, z = self.encoder(data)\n",
    "            reconstruction = self.decoder(z)\n",
    "\n",
    "            mse_loss = tf.keras.losses.mean_squared_error(data, reconstruction)\n",
    "            reconstruction_loss = tf.reduce_mean(mse_loss)\n",
    "\n",
    "            kl_loss = -0.5 * (1 + z_log_var - tf.square(z_mean) - tf.exp(z_log_var))\n",
    "            kl_loss = tf.reduce_mean(tf.reduce_sum(kl_loss, axis=1))\n",
    "            total_loss = reconstruction_loss + kl_loss\n",
    "        grads = tape.gradient(total_loss, self.trainable_weights)\n",
    "        self.optimizer.apply_gradients(zip(grads, self.trainable_weights))\n",
    "        self.total_loss_tracker.update_state(total_loss)\n",
    "        self.reconstruction_loss_tracker.update_state(reconstruction_loss)\n",
    "        self.kl_loss_tracker.update_state(kl_loss)\n",
    "        return {\n",
    "            \"loss\": self.total_loss_tracker.result(),\n",
    "            \"reconstruction_loss\": self.reconstruction_loss_tracker.result(),\n",
    "            \"kl_loss\": self.kl_loss_tracker.result(),\n",
    "        }"
   ]
  },
  {
   "cell_type": "code",
   "execution_count": 9,
   "id": "9d6e0f15-9276-4bc9-813a-7595ed039856",
   "metadata": {
    "tags": []
   },
   "outputs": [],
   "source": [
    "vae = VAE(encoder, decoder)\n",
    "vae.compile(optimizer=keras.optimizers.Adam())"
   ]
  },
  {
   "cell_type": "code",
   "execution_count": 10,
   "id": "1583ad7e-116d-4deb-b732-405b19c503ec",
   "metadata": {},
   "outputs": [],
   "source": [
    "V_train , V_test = train_test_split(V, test_size=0.01, shuffle=True, random_state=52)"
   ]
  },
  {
   "cell_type": "code",
   "execution_count": 11,
   "id": "3ddf6fcd-bd67-4145-ae6b-aae12f8bd27e",
   "metadata": {},
   "outputs": [
    {
     "data": {
      "text/plain": [
       "array([[0.03757839, 0.12150699, 0.08417239, ..., 0.85206869, 0.54576349,\n",
       "        0.23383388],\n",
       "       [0.02731698, 0.09298307, 0.02756802, ..., 0.7904118 , 0.56514158,\n",
       "        0.26940069],\n",
       "       [0.03601875, 0.13734994, 0.13712774, ..., 0.84374707, 0.5361958 ,\n",
       "        0.22731431],\n",
       "       ...,\n",
       "       [0.1571865 , 0.1417017 , 0.03457656, ..., 0.66115616, 0.52237877,\n",
       "        0.35074264],\n",
       "       [0.02863542, 0.09626812, 0.03385487, ..., 0.81912644, 0.56396064,\n",
       "        0.25802412],\n",
       "       [0.04455297, 0.10105546, 0.02859424, ..., 0.69852035, 0.50934142,\n",
       "        0.31805387]])"
      ]
     },
     "execution_count": 11,
     "metadata": {},
     "output_type": "execute_result"
    }
   ],
   "source": [
    "V_train"
   ]
  },
  {
   "cell_type": "code",
   "execution_count": 24,
   "id": "e6b8be77-bc0d-4bb5-98b0-e390ab739a05",
   "metadata": {},
   "outputs": [
    {
     "data": {
      "text/plain": [
       "array([[0.03757839, 0.12150699, 0.08417239, ..., 0.85206869, 0.54576349,\n",
       "        0.23383388],\n",
       "       [0.02731698, 0.09298307, 0.02756802, ..., 0.7904118 , 0.56514158,\n",
       "        0.26940069],\n",
       "       [0.03601875, 0.13734994, 0.13712774, ..., 0.84374707, 0.5361958 ,\n",
       "        0.22731431],\n",
       "       ...,\n",
       "       [0.1571865 , 0.1417017 , 0.03457656, ..., 0.66115616, 0.52237877,\n",
       "        0.35074264],\n",
       "       [0.02863542, 0.09626812, 0.03385487, ..., 0.81912644, 0.56396064,\n",
       "        0.25802412],\n",
       "       [0.04455297, 0.10105546, 0.02859424, ..., 0.69852035, 0.50934142,\n",
       "        0.31805387]])"
      ]
     },
     "execution_count": 24,
     "metadata": {},
     "output_type": "execute_result"
    }
   ],
   "source": [
    "V_train"
   ]
  },
  {
   "cell_type": "code",
   "execution_count": 21,
   "id": "fc8c8fed-4726-4243-93d6-9a3a24757a48",
   "metadata": {},
   "outputs": [
    {
     "name": "stdout",
     "output_type": "stream",
     "text": [
      "(989, 192) (10, 192)\n"
     ]
    }
   ],
   "source": [
    "print(V_train.shape, V_test.shape)"
   ]
  },
  {
   "cell_type": "code",
   "execution_count": 22,
   "id": "c9e74aef-5f0d-46d3-9047-284537147722",
   "metadata": {},
   "outputs": [
    {
     "name": "stdout",
     "output_type": "stream",
     "text": [
      "Epoch 1/50\n",
      "16/16 [==============================] - 0s 6ms/step - loss: 0.0139 - reconstruction_loss: 0.0139 - kl_loss: 5.2154e-08\n",
      "Epoch 2/50\n",
      "16/16 [==============================] - 0s 6ms/step - loss: 0.0140 - reconstruction_loss: 0.0140 - kl_loss: 6.5193e-08\n",
      "Epoch 3/50\n",
      "16/16 [==============================] - 0s 6ms/step - loss: 0.0139 - reconstruction_loss: 0.0139 - kl_loss: 6.5193e-08\n",
      "Epoch 4/50\n",
      "16/16 [==============================] - 0s 6ms/step - loss: 0.0139 - reconstruction_loss: 0.0139 - kl_loss: 6.3330e-08\n",
      "Epoch 5/50\n",
      "16/16 [==============================] - 0s 6ms/step - loss: 0.0139 - reconstruction_loss: 0.0139 - kl_loss: 7.8231e-08\n",
      "Epoch 6/50\n",
      "16/16 [==============================] - 0s 6ms/step - loss: 0.0140 - reconstruction_loss: 0.0139 - kl_loss: 3.5390e-08\n",
      "Epoch 7/50\n",
      "16/16 [==============================] - 0s 6ms/step - loss: 0.0139 - reconstruction_loss: 0.0139 - kl_loss: 7.0781e-08\n",
      "Epoch 8/50\n",
      "16/16 [==============================] - 0s 6ms/step - loss: 0.0139 - reconstruction_loss: 0.0139 - kl_loss: 5.5879e-08\n",
      "Epoch 9/50\n",
      "16/16 [==============================] - 0s 6ms/step - loss: 0.0139 - reconstruction_loss: 0.0139 - kl_loss: 5.7742e-08\n",
      "Epoch 10/50\n",
      "16/16 [==============================] - 0s 6ms/step - loss: 0.0139 - reconstruction_loss: 0.0139 - kl_loss: 5.2154e-08\n",
      "Epoch 11/50\n",
      "16/16 [==============================] - 0s 6ms/step - loss: 0.0139 - reconstruction_loss: 0.0139 - kl_loss: 5.5879e-08\n",
      "Epoch 12/50\n",
      "16/16 [==============================] - 0s 6ms/step - loss: 0.0139 - reconstruction_loss: 0.0139 - kl_loss: 3.3528e-08\n",
      "Epoch 13/50\n",
      "16/16 [==============================] - 0s 6ms/step - loss: 0.0139 - reconstruction_loss: 0.0139 - kl_loss: 3.5390e-08\n",
      "Epoch 14/50\n",
      "16/16 [==============================] - 0s 6ms/step - loss: 0.0139 - reconstruction_loss: 0.0139 - kl_loss: 3.9116e-08\n",
      "Epoch 15/50\n",
      "16/16 [==============================] - 0s 6ms/step - loss: 0.0139 - reconstruction_loss: 0.0139 - kl_loss: 5.7742e-08\n",
      "Epoch 16/50\n",
      "16/16 [==============================] - 0s 6ms/step - loss: 0.0139 - reconstruction_loss: 0.0139 - kl_loss: 5.4017e-08\n",
      "Epoch 17/50\n",
      "16/16 [==============================] - 0s 6ms/step - loss: 0.0139 - reconstruction_loss: 0.0139 - kl_loss: 5.4017e-08\n",
      "Epoch 18/50\n",
      "16/16 [==============================] - 0s 6ms/step - loss: 0.0139 - reconstruction_loss: 0.0139 - kl_loss: 6.8918e-08\n",
      "Epoch 19/50\n",
      "16/16 [==============================] - 0s 6ms/step - loss: 0.0139 - reconstruction_loss: 0.0139 - kl_loss: 6.3330e-08\n",
      "Epoch 20/50\n",
      "16/16 [==============================] - 0s 6ms/step - loss: 0.0139 - reconstruction_loss: 0.0139 - kl_loss: 6.1467e-08\n",
      "Epoch 21/50\n",
      "16/16 [==============================] - 0s 6ms/step - loss: 0.0139 - reconstruction_loss: 0.0139 - kl_loss: 5.9605e-08\n"
     ]
    },
    {
     "name": "stderr",
     "output_type": "stream",
     "text": [
      "\n",
      "KeyboardInterrupt\n",
      "\n"
     ]
    }
   ],
   "source": [
    "history = vae.fit(V_train, epochs=50, batch_size=64)"
   ]
  },
  {
   "cell_type": "code",
   "execution_count": 12,
   "id": "3df4d061-6439-4f50-8aca-596add0b0a4a",
   "metadata": {},
   "outputs": [
    {
     "data": {
      "image/png": "[encoded data removed]",
      "text/plain": [
       "<Figure size 640x480 with 1 Axes>"
      ]
     },
     "metadata": {},
     "output_type": "display_data"
    }
   ],
   "source": [
    "plt.plot(history.history[\"loss\"], label=\"loss\")\n",
    "plt.plot(history.history[\"reconstruction_loss\"], label=\"reconstruction_loss\")\n",
    "plt.xlabel(\"Epochs\")\n",
    "plt.ylabel(\"Loss\")\n",
    "plt.legend()\n",
    "plt.show()"
   ]
  },
  {
   "cell_type": "code",
   "execution_count": 13,
   "id": "eef17362-adb8-4b3f-a81b-0e25e68adcff",
   "metadata": {},
   "outputs": [],
   "source": [
    "num_samples = 1\n",
    "random_latent_points = np.random.normal(size=(num_samples, latent_dim))"
   ]
  },
  {
   "cell_type": "code",
   "execution_count": 14,
   "id": "aecae344-c480-4616-bf5e-63a9a35c1685",
   "metadata": {},
   "outputs": [
    {
     "name": "stdout",
     "output_type": "stream",
     "text": [
      "1/1 [==============================] - 0s 78ms/step\n"
     ]
    }
   ],
   "source": [
    "generated_data = vae.decoder.predict(random_latent_points)"
   ]
  },
  {
   "cell_type": "code",
   "execution_count": 15,
   "id": "630c6c5c-06e5-4af1-acbb-35ef770dfa73",
   "metadata": {},
   "outputs": [
    {
     "data": {
      "text/plain": [
       "<StemContainer object of 3 artists>"
      ]
     },
     "execution_count": 15,
     "metadata": {},
     "output_type": "execute_result"
    },
    {
     "data": {
      "image/png": "[encoded data removed]",
      "text/plain": [
       "<Figure size 640x480 with 1 Axes>"
      ]
     },
     "metadata": {},
     "output_type": "display_data"
    }
   ],
   "source": [
    "plt.stem(np.concatenate(generated_data))"
   ]
  },
  {
   "cell_type": "code",
   "execution_count": null,
   "id": "46f6e7b8-42f2-4406-ad70-fce75d72db5b",
   "metadata": {},
   "outputs": [],
   "source": []
  }
 ],
 "metadata": {
  "kernelspec": {
   "display_name": "ml-TF_2_12",
   "language": "python",
   "name": "ml-tf_2_12"
  },
  "language_info": {
   "codemirror_mode": {
    "name": "ipython",
    "version": 3
   },
   "file_extension": ".py",
   "mimetype": "text/x-python",
   "name": "python",
   "nbconvert_exporter": "python",
   "pygments_lexer": "ipython3",
   "version": "3.11.2"
  }
 },
 "nbformat": 4,
 "nbformat_minor": 5
}
