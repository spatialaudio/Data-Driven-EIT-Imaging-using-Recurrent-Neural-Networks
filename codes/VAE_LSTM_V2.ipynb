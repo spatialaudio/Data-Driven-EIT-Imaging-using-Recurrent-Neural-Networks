{
 "cells": [
  {
   "cell_type": "code",
   "execution_count": 1,
   "id": "e7d42e98-43fe-4d02-a0c0-2f2d6d00961e",
   "metadata": {
    "tags": []
   },
   "outputs": [
    {
     "name": "stderr",
     "output_type": "stream",
     "text": [
      "2023-10-23 13:50:33.374093: I tensorflow/core/platform/cpu_feature_guard.cc:182] This TensorFlow binary is optimized to use available CPU instructions in performance-critical operations.\n",
      "To enable the following instructions: AVX2 FMA, in other operations, rebuild TensorFlow with the appropriate compiler flags.\n"
     ]
    }
   ],
   "source": [
    "import os\n",
    "\n",
    "import matplotlib.pyplot as plt\n",
    "import numpy as np\n",
    "import pyeit.eit.bp as bp\n",
    "import pyeit.eit.greit as greit\n",
    "import pyeit.eit.jac as jac\n",
    "import pyeit.eit.protocol as protocol\n",
    "import pyeit.mesh as mesh\n",
    "import tensorflow as tf\n",
    "from pyeit.eit.interp2d import sim2pts\n",
    "from sciopy import norm_data\n",
    "from sklearn.model_selection import train_test_split\n",
    "from support import GREIT_sample, show_mesh\n",
    "from tensorflow import GradientTape, exp, keras, reduce_mean, reduce_sum, shape, square\n",
    "from tensorflow.keras import layers, models\n",
    "from tensorflow.keras.layers import (\n",
    "    LSTM,\n",
    "    Activation,\n",
    "    Add,\n",
    "    BatchNormalization,\n",
    "    Bidirectional,\n",
    "    Concatenate,\n",
    "    Conv1D,\n",
    "    Conv2D,\n",
    "    ConvLSTM1D,\n",
    "    Cropping1D,\n",
    "    Cropping2D,\n",
    "    Dense,\n",
    "    Dropout,\n",
    "    Flatten,\n",
    "    Input,\n",
    "    Lambda,\n",
    "    MaxPooling1D,\n",
    "    Normalization,\n",
    "    Reshape,\n",
    "    ZeroPadding1D,\n",
    ")\n",
    "from tensorflow.keras.losses import Huber, binary_crossentropy, mse\n",
    "from tensorflow.keras.metrics import Mean\n",
    "from tensorflow.keras.models import Model"
   ]
  },
  {
   "cell_type": "markdown",
   "id": "939c0434-9559-4107-9166-ccdac5d6b60f",
   "metadata": {
    "tags": []
   },
   "source": [
    "# VAE & LSTM V2 for n_el=16\n",
    "\n",
    "### Build VAE"
   ]
  },
  {
   "cell_type": "code",
   "execution_count": 2,
   "id": "5ea1fe20-3700-4ce4-8c3a-367f7522f73b",
   "metadata": {
    "tags": []
   },
   "outputs": [
    {
     "name": "stdout",
     "output_type": "stream",
     "text": [
      "This directory exists...continue\n"
     ]
    }
   ],
   "source": [
    "n_el = 16\n",
    "r_obj = 0.3\n",
    "h0 = 0.025\n",
    "dist_exc = 8\n",
    "step_meas = 4\n",
    "\n",
    "load_path_30 = f\"../data/{h0=}_{n_el=}_{r_obj=}_{dist_exc=}_{step_meas=}/\"\n",
    "\n",
    "if os.path.isdir(load_path_30):\n",
    "    print(\"This directory exists...continue\")\n",
    "else:\n",
    "    print(\"You have to generate the data...\")"
   ]
  },
  {
   "cell_type": "code",
   "execution_count": 3,
   "id": "9d709b6b-7d76-4734-b55d-2d812e4bad80",
   "metadata": {},
   "outputs": [
    {
     "name": "stdout",
     "output_type": "stream",
     "text": [
      "This directory exists...continue\n"
     ]
    }
   ],
   "source": [
    "n_el = 16\n",
    "r_obj = 0.35\n",
    "h0 = 0.025\n",
    "dist_exc = 8\n",
    "step_meas = 4\n",
    "\n",
    "load_path_35 = f\"../data/{h0=}_{n_el=}_{r_obj=}_{dist_exc=}_{step_meas=}/\"\n",
    "\n",
    "if os.path.isdir(load_path_35):\n",
    "    print(\"This directory exists...continue\")\n",
    "else:\n",
    "    print(\"You have to generate the data...\")"
   ]
  },
  {
   "cell_type": "code",
   "execution_count": 4,
   "id": "0aed01f2-db7c-4c4e-9844-af2c57b6e879",
   "metadata": {},
   "outputs": [
    {
     "name": "stdout",
     "output_type": "stream",
     "text": [
      "This directory exists...continue\n"
     ]
    }
   ],
   "source": [
    "n_el = 16\n",
    "r_obj = 0.4\n",
    "h0 = 0.025\n",
    "dist_exc = 8\n",
    "step_meas = 4\n",
    "\n",
    "load_path_40 = f\"../data/{h0=}_{n_el=}_{r_obj=}_{dist_exc=}_{step_meas=}/\"\n",
    "\n",
    "if os.path.isdir(load_path_40):\n",
    "    print(\"This directory exists...continue\")\n",
    "else:\n",
    "    print(\"You have to generate the data...\")"
   ]
  },
  {
   "cell_type": "code",
   "execution_count": 5,
   "id": "0fad37a9-b596-4d8a-b67a-6c8b948964a6",
   "metadata": {
    "tags": []
   },
   "outputs": [],
   "source": [
    "V_30 = np.load(\n",
    "    \"../saves/\" + load_path_30.split(\"/\")[2] + \"_v_data.npy\", allow_pickle=True\n",
    ")\n",
    "V_35 = np.load(\n",
    "    \"../saves/\" + load_path_35.split(\"/\")[2] + \"_v_data.npy\", allow_pickle=True\n",
    ")\n",
    "\n",
    "V_40 = np.load(\n",
    "    \"../saves/\" + load_path_40.split(\"/\")[2] + \"_v_data.npy\", allow_pickle=True\n",
    ")"
   ]
  },
  {
   "cell_type": "code",
   "execution_count": 6,
   "id": "d9ea5ad5-a1fb-4d45-acb8-35ae73d06c3f",
   "metadata": {
    "tags": []
   },
   "outputs": [
    {
     "name": "stdout",
     "output_type": "stream",
     "text": [
      "(999, 192)\n",
      "(999, 192)\n",
      "(999, 192)\n"
     ]
    }
   ],
   "source": [
    "print(V_30.shape)\n",
    "print(V_35.shape)\n",
    "print(V_40.shape)"
   ]
  },
  {
   "cell_type": "raw",
   "id": "63bbb35a-292d-4e45-8add-4f054b5a8fa9",
   "metadata": {},
   "source": [
    "V_30 = np.array([norm_data(v) for v in V_30])\n",
    "V_35 = np.array([norm_data(v) for v in V_35])\n",
    "V_40 = np.array([norm_data(v) for v in V_40])"
   ]
  },
  {
   "cell_type": "code",
   "execution_count": 7,
   "id": "f34a8309-96bd-41bc-9043-b14eb17969ce",
   "metadata": {
    "tags": []
   },
   "outputs": [],
   "source": [
    "def sampling(args):\n",
    "    z_mean, z_log_var = args\n",
    "    epsilon = keras.backend.random_normal(\n",
    "        shape=(keras.backend.shape(z_mean)[0], latent_dim)\n",
    "    )\n",
    "    return z_mean + keras.backend.exp(0.5 * z_log_var) * epsilon"
   ]
  },
  {
   "cell_type": "code",
   "execution_count": 8,
   "id": "d04f6da4-1417-4bcf-a2ba-828f33379ec3",
   "metadata": {
    "tags": []
   },
   "outputs": [
    {
     "name": "stdout",
     "output_type": "stream",
     "text": [
      "Model: \"encoder\"\n",
      "__________________________________________________________________________________________________\n",
      " Layer (type)                   Output Shape         Param #     Connected to                     \n",
      "==================================================================================================\n",
      " input_1 (InputLayer)           [(None, 192)]        0           []                               \n",
      "                                                                                                  \n",
      " dense (Dense)                  (None, 64)           12352       ['input_1[0][0]']                \n",
      "                                                                                                  \n",
      " dense_1 (Dense)                (None, 32)           2080        ['dense[0][0]']                  \n",
      "                                                                                                  \n",
      " flatten (Flatten)              (None, 32)           0           ['dense_1[0][0]']                \n",
      "                                                                                                  \n",
      " dense_2 (Dense)                (None, 16)           528         ['flatten[0][0]']                \n",
      "                                                                                                  \n",
      " z_mean (Dense)                 (None, 8)            136         ['dense_2[0][0]']                \n",
      "                                                                                                  \n",
      " z_log_var (Dense)              (None, 8)            136         ['dense_2[0][0]']                \n",
      "                                                                                                  \n",
      " z (Lambda)                     (None, 8)            0           ['z_mean[0][0]',                 \n",
      "                                                                  'z_log_var[0][0]']              \n",
      "                                                                                                  \n",
      "==================================================================================================\n",
      "Total params: 15,232\n",
      "Trainable params: 15,232\n",
      "Non-trainable params: 0\n",
      "__________________________________________________________________________________________________\n"
     ]
    },
    {
     "name": "stderr",
     "output_type": "stream",
     "text": [
      "2023-10-23 13:50:42.275180: I tensorflow/core/common_runtime/gpu/gpu_device.cc:1635] Created device /job:localhost/replica:0/task:0/device:GPU:0 with 45693 MB memory:  -> device: 0, name: NVIDIA RTX A6000, pci bus id: 0000:01:00.0, compute capability: 8.6\n",
      "2023-10-23 13:50:42.276852: I tensorflow/core/common_runtime/gpu/gpu_device.cc:1635] Created device /job:localhost/replica:0/task:0/device:GPU:1 with 46199 MB memory:  -> device: 1, name: NVIDIA RTX A6000, pci bus id: 0000:81:00.0, compute capability: 8.6\n"
     ]
    }
   ],
   "source": [
    "latent_dim = 8\n",
    "\n",
    "encoder_inputs = keras.Input(shape=(192,))\n",
    "\n",
    "x = layers.Dense(64, activation=\"relu\")(encoder_inputs)\n",
    "x = layers.Dense(32, activation=\"relu\")(x)\n",
    "x = layers.Flatten()(x)\n",
    "x = layers.Dense(16, activation=\"relu\")(x)\n",
    "\n",
    "z_mean = layers.Dense(latent_dim, name=\"z_mean\")(x)\n",
    "z_log_var = layers.Dense(latent_dim, name=\"z_log_var\")(x)\n",
    "\n",
    "\n",
    "z = layers.Lambda(sampling, output_shape=(latent_dim,), name=\"z\")([z_mean, z_log_var])\n",
    "\n",
    "encoder = keras.Model(encoder_inputs, [z_mean, z_log_var, z], name=\"encoder\")\n",
    "encoder.summary()"
   ]
  },
  {
   "cell_type": "code",
   "execution_count": 9,
   "id": "4a8ee74d-3421-4565-9d98-4ac187632b9b",
   "metadata": {
    "tags": []
   },
   "outputs": [
    {
     "name": "stdout",
     "output_type": "stream",
     "text": [
      "Model: \"decoder\"\n",
      "_________________________________________________________________\n",
      " Layer (type)                Output Shape              Param #   \n",
      "=================================================================\n",
      " z_sampling (InputLayer)     [(None, 8)]               0         \n",
      "                                                                 \n",
      " dense_3 (Dense)             (None, 16)                144       \n",
      "                                                                 \n",
      " dense_4 (Dense)             (None, 32)                544       \n",
      "                                                                 \n",
      " dense_5 (Dense)             (None, 64)                2112      \n",
      "                                                                 \n",
      " dense_6 (Dense)             (None, 192)               12480     \n",
      "                                                                 \n",
      " flatten_1 (Flatten)         (None, 192)               0         \n",
      "                                                                 \n",
      "=================================================================\n",
      "Total params: 15,280\n",
      "Trainable params: 15,280\n",
      "Non-trainable params: 0\n",
      "_________________________________________________________________\n"
     ]
    }
   ],
   "source": [
    "# Definiere den Decoder\n",
    "latent_inputs = keras.Input(shape=(latent_dim,), name=\"z_sampling\")\n",
    "x = layers.Dense(16, activation=\"relu\")(latent_inputs)\n",
    "x = layers.Dense(32, activation=\"relu\")(x)\n",
    "x = layers.Dense(64, activation=\"relu\")(x)\n",
    "x = layers.Dense(192, activation=\"relu\")(x)\n",
    "decoder_outputs = layers.Flatten()(x)\n",
    "\n",
    "decoder = keras.Model(latent_inputs, decoder_outputs, name=\"decoder\")\n",
    "decoder.summary()"
   ]
  },
  {
   "cell_type": "code",
   "execution_count": 10,
   "id": "950a3173-bf2f-4251-9c22-6513c4bc9376",
   "metadata": {
    "tags": []
   },
   "outputs": [],
   "source": [
    "class VAE(keras.Model):\n",
    "    def __init__(self, encoder, decoder, **kwargs):\n",
    "        super().__init__(**kwargs)\n",
    "        self.encoder = encoder\n",
    "        self.decoder = decoder\n",
    "        self.total_loss_tracker = keras.metrics.Mean(name=\"total_loss\")\n",
    "        self.reconstruction_loss_tracker = keras.metrics.Mean(\n",
    "            name=\"reconstruction_loss\"\n",
    "        )\n",
    "        self.kl_loss_tracker = keras.metrics.Mean(name=\"kl_loss\")\n",
    "\n",
    "    @property\n",
    "    def metrics(self):\n",
    "        return [\n",
    "            self.total_loss_tracker,\n",
    "            self.reconstruction_loss_tracker,\n",
    "            self.kl_loss_tracker,\n",
    "        ]\n",
    "\n",
    "    def train_step(self, data):\n",
    "        with tf.GradientTape() as tape:\n",
    "            z_mean, z_log_var, z = self.encoder(data)\n",
    "            reconstruction = self.decoder(z)\n",
    "\n",
    "            mse_loss = tf.keras.losses.mean_squared_error(data, reconstruction)\n",
    "            reconstruction_loss = tf.reduce_mean(mse_loss)\n",
    "\n",
    "            kl_loss = -0.5 * (1 + z_log_var - tf.square(z_mean) - tf.exp(z_log_var))\n",
    "            kl_loss = tf.reduce_mean(tf.reduce_sum(kl_loss, axis=1))\n",
    "            total_loss = reconstruction_loss + kl_loss\n",
    "        grads = tape.gradient(total_loss, self.trainable_weights)\n",
    "        self.optimizer.apply_gradients(zip(grads, self.trainable_weights))\n",
    "        self.total_loss_tracker.update_state(total_loss)\n",
    "        self.reconstruction_loss_tracker.update_state(reconstruction_loss)\n",
    "        self.kl_loss_tracker.update_state(kl_loss)\n",
    "        return {\n",
    "            \"loss\": self.total_loss_tracker.result(),\n",
    "            \"reconstruction_loss\": self.reconstruction_loss_tracker.result(),\n",
    "            \"kl_loss\": self.kl_loss_tracker.result(),\n",
    "        }"
   ]
  },
  {
   "cell_type": "code",
   "execution_count": 11,
   "id": "9d6e0f15-9276-4bc9-813a-7595ed039856",
   "metadata": {
    "tags": []
   },
   "outputs": [],
   "source": [
    "vae = VAE(encoder, decoder)\n",
    "vae.compile(optimizer=keras.optimizers.Adam())"
   ]
  },
  {
   "cell_type": "code",
   "execution_count": 12,
   "id": "273d3b0e-ce76-4874-9863-2bc8086abbf7",
   "metadata": {},
   "outputs": [],
   "source": [
    "V_all = np.concatenate((V_30, V_35, V_40))"
   ]
  },
  {
   "cell_type": "code",
   "execution_count": 13,
   "id": "7c647109-3098-4108-af59-8bc46a1465b1",
   "metadata": {},
   "outputs": [
    {
     "data": {
      "text/plain": [
       "<StemContainer object of 3 artists>"
      ]
     },
     "execution_count": 13,
     "metadata": {},
     "output_type": "execute_result"
    },
    {
     "data": {
      "image/png": "[encoded data removed]",
      "text/plain": [
       "<Figure size 640x480 with 1 Axes>"
      ]
     },
     "metadata": {},
     "output_type": "display_data"
    }
   ],
   "source": [
    "plt.stem(V_all[100, :])"
   ]
  },
  {
   "cell_type": "code",
   "execution_count": 14,
   "id": "1583ad7e-116d-4deb-b732-405b19c503ec",
   "metadata": {},
   "outputs": [],
   "source": [
    "V_vae_train, V_vae_test = train_test_split(\n",
    "    V_all, test_size=0.05, shuffle=True, random_state=52\n",
    ")"
   ]
  },
  {
   "cell_type": "code",
   "execution_count": 15,
   "id": "fc8c8fed-4726-4243-93d6-9a3a24757a48",
   "metadata": {},
   "outputs": [
    {
     "name": "stdout",
     "output_type": "stream",
     "text": [
      "(2847, 192) (150, 192)\n"
     ]
    }
   ],
   "source": [
    "print(V_vae_train.shape, V_vae_test.shape)"
   ]
  },
  {
   "cell_type": "code",
   "execution_count": 16,
   "id": "c9e74aef-5f0d-46d3-9047-284537147722",
   "metadata": {
    "scrolled": true,
    "tags": []
   },
   "outputs": [
    {
     "name": "stdout",
     "output_type": "stream",
     "text": [
      "Epoch 1/50\n"
     ]
    },
    {
     "name": "stderr",
     "output_type": "stream",
     "text": [
      "2023-10-23 13:50:45.258674: I tensorflow/compiler/xla/stream_executor/cuda/cuda_blas.cc:637] TensorFloat-32 will be used for the matrix multiplication. This will only be logged once.\n",
      "2023-10-23 13:50:45.293575: I tensorflow/compiler/xla/service/service.cc:169] XLA service 0x7f5db667b910 initialized for platform CUDA (this does not guarantee that XLA will be used). Devices:\n",
      "2023-10-23 13:50:45.293599: I tensorflow/compiler/xla/service/service.cc:177]   StreamExecutor device (0): NVIDIA RTX A6000, Compute Capability 8.6\n",
      "2023-10-23 13:50:45.293608: I tensorflow/compiler/xla/service/service.cc:177]   StreamExecutor device (1): NVIDIA RTX A6000, Compute Capability 8.6\n",
      "2023-10-23 13:50:45.297986: I tensorflow/compiler/mlir/tensorflow/utils/dump_mlir_util.cc:269] disabling MLIR crash reproducer, set env var `MLIR_CRASH_REPRODUCER_DIRECTORY` to enable.\n",
      "2023-10-23 13:50:45.432889: I tensorflow/compiler/xla/stream_executor/cuda/cuda_dnn.cc:424] Loaded cuDNN version 8600\n",
      "2023-10-23 13:50:45.565971: I ./tensorflow/compiler/jit/device_compiler.h:180] Compiled cluster using XLA!  This line is logged at most once for the lifetime of the process.\n"
     ]
    },
    {
     "name": "stdout",
     "output_type": "stream",
     "text": [
      "45/45 [==============================] - 4s 6ms/step - loss: 0.1716 - reconstruction_loss: 0.1101 - kl_loss: 0.0111\n",
      "Epoch 2/50\n",
      "45/45 [==============================] - 0s 6ms/step - loss: 0.0835 - reconstruction_loss: 0.0822 - kl_loss: 2.2826e-05\n",
      "Epoch 3/50\n",
      "45/45 [==============================] - 0s 6ms/step - loss: 0.0798 - reconstruction_loss: 0.0795 - kl_loss: 5.5267e-06\n",
      "Epoch 4/50\n",
      "45/45 [==============================] - 0s 6ms/step - loss: 0.0786 - reconstruction_loss: 0.0782 - kl_loss: 2.0868e-06\n",
      "Epoch 5/50\n",
      "45/45 [==============================] - 0s 6ms/step - loss: 0.0774 - reconstruction_loss: 0.0773 - kl_loss: 7.4506e-07\n",
      "Epoch 6/50\n",
      "45/45 [==============================] - 0s 6ms/step - loss: 0.0769 - reconstruction_loss: 0.0770 - kl_loss: 2.5696e-07\n",
      "Epoch 7/50\n",
      "45/45 [==============================] - 0s 6ms/step - loss: 0.0768 - reconstruction_loss: 0.0769 - kl_loss: 1.0663e-07\n",
      "Epoch 8/50\n",
      "45/45 [==============================] - 0s 6ms/step - loss: 0.0767 - reconstruction_loss: 0.0767 - kl_loss: 7.7486e-08\n",
      "Epoch 9/50\n",
      "45/45 [==============================] - 0s 6ms/step - loss: 0.0766 - reconstruction_loss: 0.0767 - kl_loss: 6.2916e-08\n",
      "Epoch 10/50\n",
      "45/45 [==============================] - 0s 6ms/step - loss: 0.0765 - reconstruction_loss: 0.0767 - kl_loss: 4.7021e-08\n",
      "Epoch 11/50\n",
      "45/45 [==============================] - 0s 6ms/step - loss: 0.0768 - reconstruction_loss: 0.0767 - kl_loss: 5.4306e-08\n",
      "Epoch 12/50\n",
      "45/45 [==============================] - 0s 6ms/step - loss: 0.0766 - reconstruction_loss: 0.0766 - kl_loss: 5.8942e-08\n",
      "Epoch 13/50\n",
      "45/45 [==============================] - 0s 6ms/step - loss: 0.0768 - reconstruction_loss: 0.0766 - kl_loss: 5.3644e-08\n",
      "Epoch 14/50\n",
      "45/45 [==============================] - 0s 6ms/step - loss: 0.0766 - reconstruction_loss: 0.0766 - kl_loss: 3.8412e-08\n",
      "Epoch 15/50\n",
      "45/45 [==============================] - 0s 6ms/step - loss: 0.0766 - reconstruction_loss: 0.0766 - kl_loss: 5.3644e-08\n",
      "Epoch 16/50\n",
      "45/45 [==============================] - 0s 6ms/step - loss: 0.0765 - reconstruction_loss: 0.0766 - kl_loss: 4.3048e-08\n",
      "Epoch 17/50\n",
      "45/45 [==============================] - 0s 6ms/step - loss: 0.0766 - reconstruction_loss: 0.0766 - kl_loss: 4.1061e-08\n",
      "Epoch 18/50\n",
      "45/45 [==============================] - 0s 6ms/step - loss: 0.0766 - reconstruction_loss: 0.0766 - kl_loss: 5.3644e-08\n",
      "Epoch 19/50\n",
      "45/45 [==============================] - 0s 6ms/step - loss: 0.0766 - reconstruction_loss: 0.0766 - kl_loss: 3.7087e-08\n",
      "Epoch 20/50\n",
      "45/45 [==============================] - 0s 6ms/step - loss: 0.0766 - reconstruction_loss: 0.0766 - kl_loss: 4.2386e-08\n",
      "Epoch 21/50\n",
      "45/45 [==============================] - 0s 6ms/step - loss: 0.0767 - reconstruction_loss: 0.0766 - kl_loss: 4.5035e-08\n",
      "Epoch 22/50\n",
      "45/45 [==============================] - 0s 6ms/step - loss: 0.0766 - reconstruction_loss: 0.0766 - kl_loss: 4.0399e-08\n",
      "Epoch 23/50\n",
      "45/45 [==============================] - 0s 6ms/step - loss: 0.0766 - reconstruction_loss: 0.0766 - kl_loss: 3.9074e-08\n",
      "Epoch 24/50\n",
      "45/45 [==============================] - 0s 6ms/step - loss: 0.0767 - reconstruction_loss: 0.0766 - kl_loss: 3.7087e-08\n",
      "Epoch 25/50\n",
      "45/45 [==============================] - 0s 6ms/step - loss: 0.0767 - reconstruction_loss: 0.0765 - kl_loss: 3.9074e-08\n",
      "Epoch 26/50\n",
      "45/45 [==============================] - 0s 6ms/step - loss: 0.0766 - reconstruction_loss: 0.0766 - kl_loss: 3.2451e-08\n",
      "Epoch 27/50\n",
      "45/45 [==============================] - 0s 6ms/step - loss: 0.0766 - reconstruction_loss: 0.0766 - kl_loss: 2.9802e-08\n",
      "Epoch 28/50\n",
      "45/45 [==============================] - 0s 6ms/step - loss: 0.0766 - reconstruction_loss: 0.0766 - kl_loss: 4.8346e-08\n",
      "Epoch 29/50\n",
      "45/45 [==============================] - 0s 6ms/step - loss: 0.0767 - reconstruction_loss: 0.0766 - kl_loss: 2.2517e-08\n",
      "Epoch 30/50\n",
      "45/45 [==============================] - 0s 6ms/step - loss: 0.0768 - reconstruction_loss: 0.0766 - kl_loss: 5.4306e-08\n",
      "Epoch 31/50\n",
      "45/45 [==============================] - 0s 6ms/step - loss: 0.0766 - reconstruction_loss: 0.0766 - kl_loss: 2.9802e-08\n",
      "Epoch 32/50\n",
      "45/45 [==============================] - 0s 6ms/step - loss: 0.0767 - reconstruction_loss: 0.0766 - kl_loss: 3.4438e-08\n",
      "Epoch 33/50\n",
      "45/45 [==============================] - 0s 6ms/step - loss: 0.0764 - reconstruction_loss: 0.0766 - kl_loss: 1.5232e-08\n",
      "Epoch 34/50\n",
      "45/45 [==============================] - 0s 6ms/step - loss: 0.0764 - reconstruction_loss: 0.0766 - kl_loss: 2.1193e-08\n",
      "Epoch 35/50\n",
      "45/45 [==============================] - 0s 6ms/step - loss: 0.0765 - reconstruction_loss: 0.0766 - kl_loss: 3.1789e-08\n",
      "Epoch 36/50\n",
      "45/45 [==============================] - 0s 6ms/step - loss: 0.0765 - reconstruction_loss: 0.0766 - kl_loss: 2.7816e-08\n",
      "Epoch 37/50\n",
      "45/45 [==============================] - 0s 6ms/step - loss: 0.0765 - reconstruction_loss: 0.0766 - kl_loss: 9.2718e-09\n",
      "Epoch 38/50\n",
      "45/45 [==============================] - 0s 6ms/step - loss: 0.0766 - reconstruction_loss: 0.0765 - kl_loss: 2.0530e-08\n",
      "Epoch 39/50\n",
      "45/45 [==============================] - 0s 6ms/step - loss: 0.0765 - reconstruction_loss: 0.0766 - kl_loss: -1.9868e-09\n",
      "Epoch 40/50\n",
      "45/45 [==============================] - 0s 6ms/step - loss: 0.0765 - reconstruction_loss: 0.0766 - kl_loss: 2.9140e-08\n",
      "Epoch 41/50\n",
      "45/45 [==============================] - 0s 6ms/step - loss: 0.0765 - reconstruction_loss: 0.0766 - kl_loss: 3.7087e-08\n",
      "Epoch 42/50\n",
      "45/45 [==============================] - 0s 6ms/step - loss: 0.0765 - reconstruction_loss: 0.0766 - kl_loss: 2.9140e-08\n",
      "Epoch 43/50\n",
      "45/45 [==============================] - 0s 6ms/step - loss: 0.0766 - reconstruction_loss: 0.0766 - kl_loss: 2.5166e-08\n",
      "Epoch 44/50\n",
      "45/45 [==============================] - 0s 6ms/step - loss: 0.0767 - reconstruction_loss: 0.0766 - kl_loss: 2.1193e-08\n",
      "Epoch 45/50\n",
      "45/45 [==============================] - 0s 6ms/step - loss: 0.0766 - reconstruction_loss: 0.0766 - kl_loss: -2.6491e-09\n",
      "Epoch 46/50\n",
      "45/45 [==============================] - 0s 6ms/step - loss: 0.0766 - reconstruction_loss: 0.0766 - kl_loss: 3.3114e-08\n",
      "Epoch 47/50\n",
      "45/45 [==============================] - 0s 6ms/step - loss: 0.0766 - reconstruction_loss: 0.0766 - kl_loss: 2.5829e-08\n",
      "Epoch 48/50\n",
      "45/45 [==============================] - 0s 6ms/step - loss: 0.0767 - reconstruction_loss: 0.0766 - kl_loss: 1.2583e-08\n",
      "Epoch 49/50\n",
      "45/45 [==============================] - 0s 6ms/step - loss: 0.0766 - reconstruction_loss: 0.0765 - kl_loss: 2.4504e-08\n",
      "Epoch 50/50\n",
      "45/45 [==============================] - 0s 6ms/step - loss: 0.0765 - reconstruction_loss: 0.0766 - kl_loss: -2.6491e-09\n"
     ]
    }
   ],
   "source": [
    "history = vae.fit(V_vae_train, epochs=50, batch_size=64)"
   ]
  },
  {
   "cell_type": "code",
   "execution_count": 17,
   "id": "3df4d061-6439-4f50-8aca-596add0b0a4a",
   "metadata": {},
   "outputs": [
    {
     "data": {
      "image/png": "[encoded data removed]",
      "text/plain": [
       "<Figure size 640x480 with 1 Axes>"
      ]
     },
     "metadata": {},
     "output_type": "display_data"
    }
   ],
   "source": [
    "plt.plot(history.history[\"loss\"], label=\"loss\")\n",
    "plt.plot(history.history[\"reconstruction_loss\"], label=\"reconstruction_loss\")\n",
    "plt.xlabel(\"Epochs\")\n",
    "plt.ylabel(\"Loss\")\n",
    "plt.legend()\n",
    "plt.show()"
   ]
  },
  {
   "cell_type": "code",
   "execution_count": 18,
   "id": "1084547f-902c-42f4-a77e-d023784b7299",
   "metadata": {},
   "outputs": [
    {
     "data": {
      "text/plain": [
       "(150, 192)"
      ]
     },
     "execution_count": 18,
     "metadata": {},
     "output_type": "execute_result"
    }
   ],
   "source": [
    "V_vae_test.shape"
   ]
  },
  {
   "cell_type": "code",
   "execution_count": 19,
   "id": "4e5c3541-d2c5-400e-addf-e5dbe68104b5",
   "metadata": {},
   "outputs": [
    {
     "name": "stdout",
     "output_type": "stream",
     "text": [
      "5/5 [==============================] - 0s 1ms/step\n"
     ]
    }
   ],
   "source": [
    "_, _, latent_data = vae.encoder.predict(V_vae_test)"
   ]
  },
  {
   "cell_type": "code",
   "execution_count": 20,
   "id": "b31447c2-3105-4ffb-9459-908d144fb018",
   "metadata": {},
   "outputs": [
    {
     "data": {
      "image/png": "[encoded data removed]",
      "text/plain": [
       "<Figure size 600x600 with 1 Axes>"
      ]
     },
     "metadata": {},
     "output_type": "display_data"
    }
   ],
   "source": [
    "plt.figure(figsize=(6, 6))\n",
    "plt.title(\"latent space\")\n",
    "for ele in latent_data:\n",
    "    plt.scatter(ele[0], ele[1], c=\"C0\")\n",
    "plt.xlabel(\"latent dimention 1\")\n",
    "plt.ylabel(\"latent dimention 2\")\n",
    "plt.grid()\n",
    "plt.tight_layout()\n",
    "plt.show()"
   ]
  },
  {
   "cell_type": "markdown",
   "id": "9344c241-5d4f-4062-ac3a-3ccf4dcdd5b1",
   "metadata": {},
   "source": [
    "### Build LSTM"
   ]
  },
  {
   "cell_type": "code",
   "execution_count": 21,
   "id": "ed0ab48e-d31c-49fd-ad6b-181be425323a",
   "metadata": {},
   "outputs": [
    {
     "name": "stdout",
     "output_type": "stream",
     "text": [
      "32/32 [==============================] - 0s 916us/step\n",
      "32/32 [==============================] - 0s 812us/step\n",
      "32/32 [==============================] - 0s 830us/step\n"
     ]
    }
   ],
   "source": [
    "V_z_mean_30, V_z_log_var_30, V_z_30 = vae.encoder.predict(V_30)\n",
    "V_z_mean_35, V_z_log_var_35, V_z_35 = vae.encoder.predict(V_35)\n",
    "V_z_mean_40, V_z_log_var_40, V_z_40 = vae.encoder.predict(V_40)"
   ]
  },
  {
   "cell_type": "code",
   "execution_count": 22,
   "id": "af3d1e9d-9a92-42bd-9fdb-b7934a86161c",
   "metadata": {
    "scrolled": true,
    "tags": []
   },
   "outputs": [],
   "source": [
    "# creates overlapping segments with a length of nseg\n",
    "nseg = 4\n",
    "\n",
    "X0_30 = [V_z_30[n : n + nseg, :] for n in range(V_z_30.shape[0] - nseg + 1)]\n",
    "X0_30 = np.array(X0_30)\n",
    "\n",
    "X0_35 = [V_z_35[n : n + nseg, :] for n in range(V_z_35.shape[0] - nseg + 1)]\n",
    "X0_35 = np.array(X0_35)\n",
    "\n",
    "X0_40 = [V_z_40[n : n + nseg, :] for n in range(V_z_40.shape[0] - nseg + 1)]\n",
    "X0_40 = np.array(X0_40)\n",
    "\n",
    "Y0_30 = np.array(V_z_30[nseg - 1 :])\n",
    "Y0_35 = np.array(V_z_35[nseg - 1 :])\n",
    "Y0_40 = np.array(V_z_40[nseg - 1 :])"
   ]
  },
  {
   "cell_type": "code",
   "execution_count": 23,
   "id": "6561db6c-bcac-42a2-b5e5-d01608853162",
   "metadata": {},
   "outputs": [
    {
     "name": "stdout",
     "output_type": "stream",
     "text": [
      "(996, 4, 8) (996, 8)\n",
      "(996, 4, 8) (996, 8)\n",
      "(996, 4, 8) (996, 8)\n"
     ]
    }
   ],
   "source": [
    "print(X0_30.shape, Y0_30.shape)\n",
    "print(X0_35.shape, Y0_35.shape)\n",
    "print(X0_40.shape, Y0_40.shape)"
   ]
  },
  {
   "cell_type": "code",
   "execution_count": 24,
   "id": "6ac60bb3-b5c7-4869-916b-87959c823d83",
   "metadata": {},
   "outputs": [
    {
     "name": "stdout",
     "output_type": "stream",
     "text": [
      "(2988, 4, 8) (2988, 8)\n"
     ]
    }
   ],
   "source": [
    "X0_30_35_40 = np.concatenate((X0_30, X0_35, X0_40))\n",
    "Y0_30_35_40 = np.concatenate((Y0_30, Y0_35, Y0_40))\n",
    "print(X0_30_35_40.shape, Y0_30_35_40.shape)"
   ]
  },
  {
   "cell_type": "code",
   "execution_count": 25,
   "id": "d31dedb1-157a-4eb5-b77a-7074b55cf5b5",
   "metadata": {},
   "outputs": [],
   "source": [
    "X_lstm_train, X_lstm_test, Y_lstm_train, Y_lstm_test = train_test_split(\n",
    "    X0_30_35_40,Y0_30_35_40, test_size=0.05, shuffle=True, random_state=52\n",
    ")"
   ]
  },
  {
   "cell_type": "code",
   "execution_count": 26,
   "id": "bce8205e-e2f9-4801-b3fa-75dc94914c8c",
   "metadata": {},
   "outputs": [
    {
     "name": "stdout",
     "output_type": "stream",
     "text": [
      "(2838, 4, 8) (2838, 8)\n",
      "(150, 4, 8) (150, 8)\n"
     ]
    }
   ],
   "source": [
    "print(X_lstm_train.shape, Y_lstm_train.shape)\n",
    "print(X_lstm_test.shape, Y_lstm_test.shape)"
   ]
  },
  {
   "cell_type": "code",
   "execution_count": 27,
   "id": "d66b3586-815c-4be6-90f8-c4f5515cea6d",
   "metadata": {},
   "outputs": [],
   "source": [
    "def lstm_split(input_shape, nseg, v_shape):\n",
    "    def Slice(s):\n",
    "        # function for slicing x\n",
    "        def func(x):\n",
    "            return x[:, s, :]\n",
    "\n",
    "        return func\n",
    "\n",
    "    # define shared layers\n",
    "    dense = Dense(v_shape, activation=\"relu\")\n",
    "    inputs = Input(shape=input_shape)\n",
    "    con_list = []\n",
    "    for s in range(nseg):\n",
    "        # slicing x\n",
    "        x = Lambda(Slice(s))(inputs)\n",
    "        # shared layers\n",
    "        x = dense(x)\n",
    "        con_list.append(x)\n",
    "\n",
    "    # concat and reshape for LSTM\n",
    "    x = Concatenate(axis=1)(con_list)\n",
    "    x = Reshape((nseg, int(x.shape[1] / nseg)))(x)\n",
    "\n",
    "    x = LSTM(v_shape)(x)\n",
    "    x = Activation(\"softmax\")(x)\n",
    "\n",
    "    return Model(inputs, x)"
   ]
  },
  {
   "cell_type": "code",
   "execution_count": 28,
   "id": "cd9dff4e-e45e-4e2a-a42a-621449510e3d",
   "metadata": {},
   "outputs": [
    {
     "name": "stdout",
     "output_type": "stream",
     "text": [
      "Model: \"model\"\n",
      "__________________________________________________________________________________________________\n",
      " Layer (type)                   Output Shape         Param #     Connected to                     \n",
      "==================================================================================================\n",
      " input_2 (InputLayer)           [(None, 4, 8)]       0           []                               \n",
      "                                                                                                  \n",
      " lambda (Lambda)                (None, 8)            0           ['input_2[0][0]']                \n",
      "                                                                                                  \n",
      " lambda_1 (Lambda)              (None, 8)            0           ['input_2[0][0]']                \n",
      "                                                                                                  \n",
      " lambda_2 (Lambda)              (None, 8)            0           ['input_2[0][0]']                \n",
      "                                                                                                  \n",
      " lambda_3 (Lambda)              (None, 8)            0           ['input_2[0][0]']                \n",
      "                                                                                                  \n",
      " dense_7 (Dense)                (None, 8)            72          ['lambda[0][0]',                 \n",
      "                                                                  'lambda_1[0][0]',               \n",
      "                                                                  'lambda_2[0][0]',               \n",
      "                                                                  'lambda_3[0][0]']               \n",
      "                                                                                                  \n",
      " concatenate (Concatenate)      (None, 32)           0           ['dense_7[0][0]',                \n",
      "                                                                  'dense_7[1][0]',                \n",
      "                                                                  'dense_7[2][0]',                \n",
      "                                                                  'dense_7[3][0]']                \n",
      "                                                                                                  \n",
      " reshape (Reshape)              (None, 4, 8)         0           ['concatenate[0][0]']            \n",
      "                                                                                                  \n",
      " lstm (LSTM)                    (None, 8)            544         ['reshape[0][0]']                \n",
      "                                                                                                  \n",
      " activation (Activation)        (None, 8)            0           ['lstm[0][0]']                   \n",
      "                                                                                                  \n",
      "==================================================================================================\n",
      "Total params: 616\n",
      "Trainable params: 616\n",
      "Non-trainable params: 0\n",
      "__________________________________________________________________________________________________\n",
      "None\n"
     ]
    },
    {
     "name": "stderr",
     "output_type": "stream",
     "text": [
      "2023-10-23 13:51:03.038888: I tensorflow/core/common_runtime/executor.cc:1197] [/device:CPU:0] (DEBUG INFO) Executor start aborting (this does not indicate an error and you can ignore this message): INVALID_ARGUMENT: You must feed a value for placeholder tensor 'gradients/split_2_grad/concat/split_2/split_dim' with dtype int32\n",
      "\t [[{{node gradients/split_2_grad/concat/split_2/split_dim}}]]\n",
      "2023-10-23 13:51:03.040270: I tensorflow/core/common_runtime/executor.cc:1197] [/device:CPU:0] (DEBUG INFO) Executor start aborting (this does not indicate an error and you can ignore this message): INVALID_ARGUMENT: You must feed a value for placeholder tensor 'gradients/split_grad/concat/split/split_dim' with dtype int32\n",
      "\t [[{{node gradients/split_grad/concat/split/split_dim}}]]\n",
      "2023-10-23 13:51:03.041189: I tensorflow/core/common_runtime/executor.cc:1197] [/device:CPU:0] (DEBUG INFO) Executor start aborting (this does not indicate an error and you can ignore this message): INVALID_ARGUMENT: You must feed a value for placeholder tensor 'gradients/split_1_grad/concat/split_1/split_dim' with dtype int32\n",
      "\t [[{{node gradients/split_1_grad/concat/split_1/split_dim}}]]\n"
     ]
    }
   ],
   "source": [
    "model = lstm_split(\n",
    "    input_shape=(nseg, latent_dim), nseg=nseg, v_shape=Y0_30_35_40.shape[1]\n",
    ")\n",
    "model.compile(optimizer=\"adam\", loss=\"MeanSquaredError\")\n",
    "print(model.summary())"
   ]
  },
  {
   "cell_type": "code",
   "execution_count": 29,
   "id": "79df85b3-11b3-4c79-afd8-a81c2c0b4ef3",
   "metadata": {
    "scrolled": true,
    "tags": []
   },
   "outputs": [
    {
     "name": "stdout",
     "output_type": "stream",
     "text": [
      "Epoch 1/100\n"
     ]
    },
    {
     "name": "stderr",
     "output_type": "stream",
     "text": [
      "2023-10-23 13:51:03.399126: I tensorflow/core/common_runtime/executor.cc:1197] [/device:CPU:0] (DEBUG INFO) Executor start aborting (this does not indicate an error and you can ignore this message): INVALID_ARGUMENT: You must feed a value for placeholder tensor 'gradients/split_2_grad/concat/split_2/split_dim' with dtype int32\n",
      "\t [[{{node gradients/split_2_grad/concat/split_2/split_dim}}]]\n",
      "2023-10-23 13:51:03.400627: I tensorflow/core/common_runtime/executor.cc:1197] [/device:CPU:0] (DEBUG INFO) Executor start aborting (this does not indicate an error and you can ignore this message): INVALID_ARGUMENT: You must feed a value for placeholder tensor 'gradients/split_grad/concat/split/split_dim' with dtype int32\n",
      "\t [[{{node gradients/split_grad/concat/split/split_dim}}]]\n",
      "2023-10-23 13:51:03.401687: I tensorflow/core/common_runtime/executor.cc:1197] [/device:CPU:0] (DEBUG INFO) Executor start aborting (this does not indicate an error and you can ignore this message): INVALID_ARGUMENT: You must feed a value for placeholder tensor 'gradients/split_1_grad/concat/split_1/split_dim' with dtype int32\n",
      "\t [[{{node gradients/split_1_grad/concat/split_1/split_dim}}]]\n",
      "2023-10-23 13:51:03.965755: I tensorflow/core/common_runtime/executor.cc:1197] [/device:CPU:0] (DEBUG INFO) Executor start aborting (this does not indicate an error and you can ignore this message): INVALID_ARGUMENT: You must feed a value for placeholder tensor 'gradients/split_2_grad/concat/split_2/split_dim' with dtype int32\n",
      "\t [[{{node gradients/split_2_grad/concat/split_2/split_dim}}]]\n",
      "2023-10-23 13:51:03.967242: I tensorflow/core/common_runtime/executor.cc:1197] [/device:CPU:0] (DEBUG INFO) Executor start aborting (this does not indicate an error and you can ignore this message): INVALID_ARGUMENT: You must feed a value for placeholder tensor 'gradients/split_grad/concat/split/split_dim' with dtype int32\n",
      "\t [[{{node gradients/split_grad/concat/split/split_dim}}]]\n",
      "2023-10-23 13:51:03.968321: I tensorflow/core/common_runtime/executor.cc:1197] [/device:CPU:0] (DEBUG INFO) Executor start aborting (this does not indicate an error and you can ignore this message): INVALID_ARGUMENT: You must feed a value for placeholder tensor 'gradients/split_1_grad/concat/split_1/split_dim' with dtype int32\n",
      "\t [[{{node gradients/split_1_grad/concat/split_1/split_dim}}]]\n",
      "2023-10-23 13:51:04.325391: W tensorflow/core/grappler/costs/op_level_cost_estimator.cc:690] Error in PredictCost() for the op: op: \"Softmax\" attr { key: \"T\" value { type: DT_FLOAT } } inputs { dtype: DT_FLOAT shape { unknown_rank: true } } device { type: \"GPU\" vendor: \"NVIDIA\" model: \"NVIDIA RTX A6000\" frequency: 1800 num_cores: 84 environment { key: \"architecture\" value: \"8.6\" } environment { key: \"cuda\" value: \"11080\" } environment { key: \"cudnn\" value: \"8600\" } num_registers: 65536 l1_cache_size: 24576 l2_cache_size: 6291456 shared_memory_size_per_multiprocessor: 102400 memory_size: 47913369600 bandwidth: 768096000 } outputs { dtype: DT_FLOAT shape { unknown_rank: true } }\n"
     ]
    },
    {
     "name": "stdout",
     "output_type": "stream",
     "text": [
      "355/355 [==============================] - 4s 6ms/step - loss: 1.0039 - val_loss: 0.9234\n",
      "Epoch 2/100\n"
     ]
    },
    {
     "name": "stderr",
     "output_type": "stream",
     "text": [
      "2023-10-23 13:51:06.854404: I tensorflow/core/common_runtime/executor.cc:1197] [/device:CPU:0] (DEBUG INFO) Executor start aborting (this does not indicate an error and you can ignore this message): INVALID_ARGUMENT: You must feed a value for placeholder tensor 'gradients/split_2_grad/concat/split_2/split_dim' with dtype int32\n",
      "\t [[{{node gradients/split_2_grad/concat/split_2/split_dim}}]]\n",
      "2023-10-23 13:51:06.856008: I tensorflow/core/common_runtime/executor.cc:1197] [/device:CPU:0] (DEBUG INFO) Executor start aborting (this does not indicate an error and you can ignore this message): INVALID_ARGUMENT: You must feed a value for placeholder tensor 'gradients/split_grad/concat/split/split_dim' with dtype int32\n",
      "\t [[{{node gradients/split_grad/concat/split/split_dim}}]]\n",
      "2023-10-23 13:51:06.857084: I tensorflow/core/common_runtime/executor.cc:1197] [/device:CPU:0] (DEBUG INFO) Executor start aborting (this does not indicate an error and you can ignore this message): INVALID_ARGUMENT: You must feed a value for placeholder tensor 'gradients/split_1_grad/concat/split_1/split_dim' with dtype int32\n",
      "\t [[{{node gradients/split_1_grad/concat/split_1/split_dim}}]]\n",
      "2023-10-23 13:51:06.920809: W tensorflow/core/grappler/costs/op_level_cost_estimator.cc:690] Error in PredictCost() for the op: op: \"Softmax\" attr { key: \"T\" value { type: DT_FLOAT } } inputs { dtype: DT_FLOAT shape { unknown_rank: true } } device { type: \"GPU\" vendor: \"NVIDIA\" model: \"NVIDIA RTX A6000\" frequency: 1800 num_cores: 84 environment { key: \"architecture\" value: \"8.6\" } environment { key: \"cuda\" value: \"11080\" } environment { key: \"cudnn\" value: \"8600\" } num_registers: 65536 l1_cache_size: 24576 l2_cache_size: 6291456 shared_memory_size_per_multiprocessor: 102400 memory_size: 47913369600 bandwidth: 768096000 } outputs { dtype: DT_FLOAT shape { unknown_rank: true } }\n"
     ]
    },
    {
     "name": "stdout",
     "output_type": "stream",
     "text": [
      "355/355 [==============================] - 2s 5ms/step - loss: 0.9707 - val_loss: 0.8922\n",
      "Epoch 3/100\n",
      "355/355 [==============================] - 2s 5ms/step - loss: 0.9449 - val_loss: 0.8731\n",
      "Epoch 4/100\n",
      "355/355 [==============================] - 2s 5ms/step - loss: 0.9308 - val_loss: 0.8633\n",
      "Epoch 5/100\n",
      "254/355 [====================>.........] - ETA: 0s - loss: 0.9243"
     ]
    },
    {
     "ename": "KeyboardInterrupt",
     "evalue": "",
     "output_type": "error",
     "traceback": [
      "\u001b[0;31m---------------------------------------------------------------------------\u001b[0m",
      "\u001b[0;31mKeyboardInterrupt\u001b[0m                         Traceback (most recent call last)",
      "Cell \u001b[0;32mIn[29], line 4\u001b[0m\n\u001b[1;32m      1\u001b[0m epochs \u001b[38;5;241m=\u001b[39m \u001b[38;5;241m100\u001b[39m\n\u001b[1;32m      2\u001b[0m batch_size \u001b[38;5;241m=\u001b[39m \u001b[38;5;241m8\u001b[39m\n\u001b[0;32m----> 4\u001b[0m history \u001b[38;5;241m=\u001b[39m \u001b[43mmodel\u001b[49m\u001b[38;5;241;43m.\u001b[39;49m\u001b[43mfit\u001b[49m\u001b[43m(\u001b[49m\n\u001b[1;32m      5\u001b[0m \u001b[43m    \u001b[49m\u001b[43mX_lstm_train\u001b[49m\u001b[43m,\u001b[49m\n\u001b[1;32m      6\u001b[0m \u001b[43m    \u001b[49m\u001b[43mY_lstm_train\u001b[49m\u001b[43m,\u001b[49m\n\u001b[1;32m      7\u001b[0m \u001b[43m    \u001b[49m\u001b[43mepochs\u001b[49m\u001b[38;5;241;43m=\u001b[39;49m\u001b[43mepochs\u001b[49m\u001b[43m,\u001b[49m\n\u001b[1;32m      8\u001b[0m \u001b[43m    \u001b[49m\u001b[43mbatch_size\u001b[49m\u001b[38;5;241;43m=\u001b[39;49m\u001b[43mbatch_size\u001b[49m\u001b[43m,\u001b[49m\n\u001b[1;32m      9\u001b[0m \u001b[43m    \u001b[49m\u001b[43mvalidation_data\u001b[49m\u001b[38;5;241;43m=\u001b[39;49m\u001b[43m(\u001b[49m\u001b[43mX_lstm_test\u001b[49m\u001b[43m,\u001b[49m\u001b[43m \u001b[49m\u001b[43mY_lstm_test\u001b[49m\u001b[43m)\u001b[49m\u001b[43m,\u001b[49m\n\u001b[1;32m     10\u001b[0m \u001b[43m)\u001b[49m\n",
      "File \u001b[0;32m~/.conda/envs/TF2_12/lib/python3.11/site-packages/keras/utils/traceback_utils.py:65\u001b[0m, in \u001b[0;36mfilter_traceback.<locals>.error_handler\u001b[0;34m(*args, **kwargs)\u001b[0m\n\u001b[1;32m     63\u001b[0m filtered_tb \u001b[38;5;241m=\u001b[39m \u001b[38;5;28;01mNone\u001b[39;00m\n\u001b[1;32m     64\u001b[0m \u001b[38;5;28;01mtry\u001b[39;00m:\n\u001b[0;32m---> 65\u001b[0m     \u001b[38;5;28;01mreturn\u001b[39;00m \u001b[43mfn\u001b[49m\u001b[43m(\u001b[49m\u001b[38;5;241;43m*\u001b[39;49m\u001b[43margs\u001b[49m\u001b[43m,\u001b[49m\u001b[43m \u001b[49m\u001b[38;5;241;43m*\u001b[39;49m\u001b[38;5;241;43m*\u001b[39;49m\u001b[43mkwargs\u001b[49m\u001b[43m)\u001b[49m\n\u001b[1;32m     66\u001b[0m \u001b[38;5;28;01mexcept\u001b[39;00m \u001b[38;5;167;01mException\u001b[39;00m \u001b[38;5;28;01mas\u001b[39;00m e:\n\u001b[1;32m     67\u001b[0m     filtered_tb \u001b[38;5;241m=\u001b[39m _process_traceback_frames(e\u001b[38;5;241m.\u001b[39m__traceback__)\n",
      "File \u001b[0;32m~/.conda/envs/TF2_12/lib/python3.11/site-packages/keras/engine/training.py:1685\u001b[0m, in \u001b[0;36mModel.fit\u001b[0;34m(self, x, y, batch_size, epochs, verbose, callbacks, validation_split, validation_data, shuffle, class_weight, sample_weight, initial_epoch, steps_per_epoch, validation_steps, validation_batch_size, validation_freq, max_queue_size, workers, use_multiprocessing)\u001b[0m\n\u001b[1;32m   1677\u001b[0m \u001b[38;5;28;01mwith\u001b[39;00m tf\u001b[38;5;241m.\u001b[39mprofiler\u001b[38;5;241m.\u001b[39mexperimental\u001b[38;5;241m.\u001b[39mTrace(\n\u001b[1;32m   1678\u001b[0m     \u001b[38;5;124m\"\u001b[39m\u001b[38;5;124mtrain\u001b[39m\u001b[38;5;124m\"\u001b[39m,\n\u001b[1;32m   1679\u001b[0m     epoch_num\u001b[38;5;241m=\u001b[39mepoch,\n\u001b[0;32m   (...)\u001b[0m\n\u001b[1;32m   1682\u001b[0m     _r\u001b[38;5;241m=\u001b[39m\u001b[38;5;241m1\u001b[39m,\n\u001b[1;32m   1683\u001b[0m ):\n\u001b[1;32m   1684\u001b[0m     callbacks\u001b[38;5;241m.\u001b[39mon_train_batch_begin(step)\n\u001b[0;32m-> 1685\u001b[0m     tmp_logs \u001b[38;5;241m=\u001b[39m \u001b[38;5;28;43mself\u001b[39;49m\u001b[38;5;241;43m.\u001b[39;49m\u001b[43mtrain_function\u001b[49m\u001b[43m(\u001b[49m\u001b[43miterator\u001b[49m\u001b[43m)\u001b[49m\n\u001b[1;32m   1686\u001b[0m     \u001b[38;5;28;01mif\u001b[39;00m data_handler\u001b[38;5;241m.\u001b[39mshould_sync:\n\u001b[1;32m   1687\u001b[0m         context\u001b[38;5;241m.\u001b[39masync_wait()\n",
      "File \u001b[0;32m~/.conda/envs/TF2_12/lib/python3.11/site-packages/tensorflow/python/util/traceback_utils.py:150\u001b[0m, in \u001b[0;36mfilter_traceback.<locals>.error_handler\u001b[0;34m(*args, **kwargs)\u001b[0m\n\u001b[1;32m    148\u001b[0m filtered_tb \u001b[38;5;241m=\u001b[39m \u001b[38;5;28;01mNone\u001b[39;00m\n\u001b[1;32m    149\u001b[0m \u001b[38;5;28;01mtry\u001b[39;00m:\n\u001b[0;32m--> 150\u001b[0m   \u001b[38;5;28;01mreturn\u001b[39;00m \u001b[43mfn\u001b[49m\u001b[43m(\u001b[49m\u001b[38;5;241;43m*\u001b[39;49m\u001b[43margs\u001b[49m\u001b[43m,\u001b[49m\u001b[43m \u001b[49m\u001b[38;5;241;43m*\u001b[39;49m\u001b[38;5;241;43m*\u001b[39;49m\u001b[43mkwargs\u001b[49m\u001b[43m)\u001b[49m\n\u001b[1;32m    151\u001b[0m \u001b[38;5;28;01mexcept\u001b[39;00m \u001b[38;5;167;01mException\u001b[39;00m \u001b[38;5;28;01mas\u001b[39;00m e:\n\u001b[1;32m    152\u001b[0m   filtered_tb \u001b[38;5;241m=\u001b[39m _process_traceback_frames(e\u001b[38;5;241m.\u001b[39m__traceback__)\n",
      "File \u001b[0;32m~/.conda/envs/TF2_12/lib/python3.11/site-packages/tensorflow/python/eager/polymorphic_function/polymorphic_function.py:894\u001b[0m, in \u001b[0;36mFunction.__call__\u001b[0;34m(self, *args, **kwds)\u001b[0m\n\u001b[1;32m    891\u001b[0m compiler \u001b[38;5;241m=\u001b[39m \u001b[38;5;124m\"\u001b[39m\u001b[38;5;124mxla\u001b[39m\u001b[38;5;124m\"\u001b[39m \u001b[38;5;28;01mif\u001b[39;00m \u001b[38;5;28mself\u001b[39m\u001b[38;5;241m.\u001b[39m_jit_compile \u001b[38;5;28;01melse\u001b[39;00m \u001b[38;5;124m\"\u001b[39m\u001b[38;5;124mnonXla\u001b[39m\u001b[38;5;124m\"\u001b[39m\n\u001b[1;32m    893\u001b[0m \u001b[38;5;28;01mwith\u001b[39;00m OptionalXlaContext(\u001b[38;5;28mself\u001b[39m\u001b[38;5;241m.\u001b[39m_jit_compile):\n\u001b[0;32m--> 894\u001b[0m   result \u001b[38;5;241m=\u001b[39m \u001b[38;5;28;43mself\u001b[39;49m\u001b[38;5;241;43m.\u001b[39;49m\u001b[43m_call\u001b[49m\u001b[43m(\u001b[49m\u001b[38;5;241;43m*\u001b[39;49m\u001b[43margs\u001b[49m\u001b[43m,\u001b[49m\u001b[43m \u001b[49m\u001b[38;5;241;43m*\u001b[39;49m\u001b[38;5;241;43m*\u001b[39;49m\u001b[43mkwds\u001b[49m\u001b[43m)\u001b[49m\n\u001b[1;32m    896\u001b[0m new_tracing_count \u001b[38;5;241m=\u001b[39m \u001b[38;5;28mself\u001b[39m\u001b[38;5;241m.\u001b[39mexperimental_get_tracing_count()\n\u001b[1;32m    897\u001b[0m without_tracing \u001b[38;5;241m=\u001b[39m (tracing_count \u001b[38;5;241m==\u001b[39m new_tracing_count)\n",
      "File \u001b[0;32m~/.conda/envs/TF2_12/lib/python3.11/site-packages/tensorflow/python/eager/polymorphic_function/polymorphic_function.py:926\u001b[0m, in \u001b[0;36mFunction._call\u001b[0;34m(self, *args, **kwds)\u001b[0m\n\u001b[1;32m    923\u001b[0m   \u001b[38;5;28mself\u001b[39m\u001b[38;5;241m.\u001b[39m_lock\u001b[38;5;241m.\u001b[39mrelease()\n\u001b[1;32m    924\u001b[0m   \u001b[38;5;66;03m# In this case we have created variables on the first call, so we run the\u001b[39;00m\n\u001b[1;32m    925\u001b[0m   \u001b[38;5;66;03m# defunned version which is guaranteed to never create variables.\u001b[39;00m\n\u001b[0;32m--> 926\u001b[0m   \u001b[38;5;28;01mreturn\u001b[39;00m \u001b[38;5;28;43mself\u001b[39;49m\u001b[38;5;241;43m.\u001b[39;49m\u001b[43m_no_variable_creation_fn\u001b[49m\u001b[43m(\u001b[49m\u001b[38;5;241;43m*\u001b[39;49m\u001b[43margs\u001b[49m\u001b[43m,\u001b[49m\u001b[43m \u001b[49m\u001b[38;5;241;43m*\u001b[39;49m\u001b[38;5;241;43m*\u001b[39;49m\u001b[43mkwds\u001b[49m\u001b[43m)\u001b[49m  \u001b[38;5;66;03m# pylint: disable=not-callable\u001b[39;00m\n\u001b[1;32m    927\u001b[0m \u001b[38;5;28;01melif\u001b[39;00m \u001b[38;5;28mself\u001b[39m\u001b[38;5;241m.\u001b[39m_variable_creation_fn \u001b[38;5;129;01mis\u001b[39;00m \u001b[38;5;129;01mnot\u001b[39;00m \u001b[38;5;28;01mNone\u001b[39;00m:\n\u001b[1;32m    928\u001b[0m   \u001b[38;5;66;03m# Release the lock early so that multiple threads can perform the call\u001b[39;00m\n\u001b[1;32m    929\u001b[0m   \u001b[38;5;66;03m# in parallel.\u001b[39;00m\n\u001b[1;32m    930\u001b[0m   \u001b[38;5;28mself\u001b[39m\u001b[38;5;241m.\u001b[39m_lock\u001b[38;5;241m.\u001b[39mrelease()\n",
      "File \u001b[0;32m~/.conda/envs/TF2_12/lib/python3.11/site-packages/tensorflow/python/eager/polymorphic_function/tracing_compiler.py:143\u001b[0m, in \u001b[0;36mTracingCompiler.__call__\u001b[0;34m(self, *args, **kwargs)\u001b[0m\n\u001b[1;32m    140\u001b[0m \u001b[38;5;28;01mwith\u001b[39;00m \u001b[38;5;28mself\u001b[39m\u001b[38;5;241m.\u001b[39m_lock:\n\u001b[1;32m    141\u001b[0m   (concrete_function,\n\u001b[1;32m    142\u001b[0m    filtered_flat_args) \u001b[38;5;241m=\u001b[39m \u001b[38;5;28mself\u001b[39m\u001b[38;5;241m.\u001b[39m_maybe_define_function(args, kwargs)\n\u001b[0;32m--> 143\u001b[0m \u001b[38;5;28;01mreturn\u001b[39;00m \u001b[43mconcrete_function\u001b[49m\u001b[38;5;241;43m.\u001b[39;49m\u001b[43m_call_flat\u001b[49m\u001b[43m(\u001b[49m\n\u001b[1;32m    144\u001b[0m \u001b[43m    \u001b[49m\u001b[43mfiltered_flat_args\u001b[49m\u001b[43m,\u001b[49m\u001b[43m \u001b[49m\u001b[43mcaptured_inputs\u001b[49m\u001b[38;5;241;43m=\u001b[39;49m\u001b[43mconcrete_function\u001b[49m\u001b[38;5;241;43m.\u001b[39;49m\u001b[43mcaptured_inputs\u001b[49m\u001b[43m)\u001b[49m\n",
      "File \u001b[0;32m~/.conda/envs/TF2_12/lib/python3.11/site-packages/tensorflow/python/eager/polymorphic_function/monomorphic_function.py:1757\u001b[0m, in \u001b[0;36mConcreteFunction._call_flat\u001b[0;34m(self, args, captured_inputs, cancellation_manager)\u001b[0m\n\u001b[1;32m   1753\u001b[0m possible_gradient_type \u001b[38;5;241m=\u001b[39m gradients_util\u001b[38;5;241m.\u001b[39mPossibleTapeGradientTypes(args)\n\u001b[1;32m   1754\u001b[0m \u001b[38;5;28;01mif\u001b[39;00m (possible_gradient_type \u001b[38;5;241m==\u001b[39m gradients_util\u001b[38;5;241m.\u001b[39mPOSSIBLE_GRADIENT_TYPES_NONE\n\u001b[1;32m   1755\u001b[0m     \u001b[38;5;129;01mand\u001b[39;00m executing_eagerly):\n\u001b[1;32m   1756\u001b[0m   \u001b[38;5;66;03m# No tape is watching; skip to running the function.\u001b[39;00m\n\u001b[0;32m-> 1757\u001b[0m   \u001b[38;5;28;01mreturn\u001b[39;00m \u001b[38;5;28mself\u001b[39m\u001b[38;5;241m.\u001b[39m_build_call_outputs(\u001b[38;5;28;43mself\u001b[39;49m\u001b[38;5;241;43m.\u001b[39;49m\u001b[43m_inference_function\u001b[49m\u001b[38;5;241;43m.\u001b[39;49m\u001b[43mcall\u001b[49m\u001b[43m(\u001b[49m\n\u001b[1;32m   1758\u001b[0m \u001b[43m      \u001b[49m\u001b[43mctx\u001b[49m\u001b[43m,\u001b[49m\u001b[43m \u001b[49m\u001b[43margs\u001b[49m\u001b[43m,\u001b[49m\u001b[43m \u001b[49m\u001b[43mcancellation_manager\u001b[49m\u001b[38;5;241;43m=\u001b[39;49m\u001b[43mcancellation_manager\u001b[49m\u001b[43m)\u001b[49m)\n\u001b[1;32m   1759\u001b[0m forward_backward \u001b[38;5;241m=\u001b[39m \u001b[38;5;28mself\u001b[39m\u001b[38;5;241m.\u001b[39m_select_forward_and_backward_functions(\n\u001b[1;32m   1760\u001b[0m     args,\n\u001b[1;32m   1761\u001b[0m     possible_gradient_type,\n\u001b[1;32m   1762\u001b[0m     executing_eagerly)\n\u001b[1;32m   1763\u001b[0m forward_function, args_with_tangents \u001b[38;5;241m=\u001b[39m forward_backward\u001b[38;5;241m.\u001b[39mforward()\n",
      "File \u001b[0;32m~/.conda/envs/TF2_12/lib/python3.11/site-packages/tensorflow/python/eager/polymorphic_function/monomorphic_function.py:381\u001b[0m, in \u001b[0;36m_EagerDefinedFunction.call\u001b[0;34m(self, ctx, args, cancellation_manager)\u001b[0m\n\u001b[1;32m    379\u001b[0m \u001b[38;5;28;01mwith\u001b[39;00m _InterpolateFunctionError(\u001b[38;5;28mself\u001b[39m):\n\u001b[1;32m    380\u001b[0m   \u001b[38;5;28;01mif\u001b[39;00m cancellation_manager \u001b[38;5;129;01mis\u001b[39;00m \u001b[38;5;28;01mNone\u001b[39;00m:\n\u001b[0;32m--> 381\u001b[0m     outputs \u001b[38;5;241m=\u001b[39m \u001b[43mexecute\u001b[49m\u001b[38;5;241;43m.\u001b[39;49m\u001b[43mexecute\u001b[49m\u001b[43m(\u001b[49m\n\u001b[1;32m    382\u001b[0m \u001b[43m        \u001b[49m\u001b[38;5;28;43mstr\u001b[39;49m\u001b[43m(\u001b[49m\u001b[38;5;28;43mself\u001b[39;49m\u001b[38;5;241;43m.\u001b[39;49m\u001b[43msignature\u001b[49m\u001b[38;5;241;43m.\u001b[39;49m\u001b[43mname\u001b[49m\u001b[43m)\u001b[49m\u001b[43m,\u001b[49m\n\u001b[1;32m    383\u001b[0m \u001b[43m        \u001b[49m\u001b[43mnum_outputs\u001b[49m\u001b[38;5;241;43m=\u001b[39;49m\u001b[38;5;28;43mself\u001b[39;49m\u001b[38;5;241;43m.\u001b[39;49m\u001b[43m_num_outputs\u001b[49m\u001b[43m,\u001b[49m\n\u001b[1;32m    384\u001b[0m \u001b[43m        \u001b[49m\u001b[43minputs\u001b[49m\u001b[38;5;241;43m=\u001b[39;49m\u001b[43margs\u001b[49m\u001b[43m,\u001b[49m\n\u001b[1;32m    385\u001b[0m \u001b[43m        \u001b[49m\u001b[43mattrs\u001b[49m\u001b[38;5;241;43m=\u001b[39;49m\u001b[43mattrs\u001b[49m\u001b[43m,\u001b[49m\n\u001b[1;32m    386\u001b[0m \u001b[43m        \u001b[49m\u001b[43mctx\u001b[49m\u001b[38;5;241;43m=\u001b[39;49m\u001b[43mctx\u001b[49m\u001b[43m)\u001b[49m\n\u001b[1;32m    387\u001b[0m   \u001b[38;5;28;01melse\u001b[39;00m:\n\u001b[1;32m    388\u001b[0m     outputs \u001b[38;5;241m=\u001b[39m execute\u001b[38;5;241m.\u001b[39mexecute_with_cancellation(\n\u001b[1;32m    389\u001b[0m         \u001b[38;5;28mstr\u001b[39m(\u001b[38;5;28mself\u001b[39m\u001b[38;5;241m.\u001b[39msignature\u001b[38;5;241m.\u001b[39mname),\n\u001b[1;32m    390\u001b[0m         num_outputs\u001b[38;5;241m=\u001b[39m\u001b[38;5;28mself\u001b[39m\u001b[38;5;241m.\u001b[39m_num_outputs,\n\u001b[0;32m   (...)\u001b[0m\n\u001b[1;32m    393\u001b[0m         ctx\u001b[38;5;241m=\u001b[39mctx,\n\u001b[1;32m    394\u001b[0m         cancellation_manager\u001b[38;5;241m=\u001b[39mcancellation_manager)\n",
      "File \u001b[0;32m~/.conda/envs/TF2_12/lib/python3.11/site-packages/tensorflow/python/eager/execute.py:52\u001b[0m, in \u001b[0;36mquick_execute\u001b[0;34m(op_name, num_outputs, inputs, attrs, ctx, name)\u001b[0m\n\u001b[1;32m     50\u001b[0m \u001b[38;5;28;01mtry\u001b[39;00m:\n\u001b[1;32m     51\u001b[0m   ctx\u001b[38;5;241m.\u001b[39mensure_initialized()\n\u001b[0;32m---> 52\u001b[0m   tensors \u001b[38;5;241m=\u001b[39m \u001b[43mpywrap_tfe\u001b[49m\u001b[38;5;241;43m.\u001b[39;49m\u001b[43mTFE_Py_Execute\u001b[49m\u001b[43m(\u001b[49m\u001b[43mctx\u001b[49m\u001b[38;5;241;43m.\u001b[39;49m\u001b[43m_handle\u001b[49m\u001b[43m,\u001b[49m\u001b[43m \u001b[49m\u001b[43mdevice_name\u001b[49m\u001b[43m,\u001b[49m\u001b[43m \u001b[49m\u001b[43mop_name\u001b[49m\u001b[43m,\u001b[49m\n\u001b[1;32m     53\u001b[0m \u001b[43m                                      \u001b[49m\u001b[43minputs\u001b[49m\u001b[43m,\u001b[49m\u001b[43m \u001b[49m\u001b[43mattrs\u001b[49m\u001b[43m,\u001b[49m\u001b[43m \u001b[49m\u001b[43mnum_outputs\u001b[49m\u001b[43m)\u001b[49m\n\u001b[1;32m     54\u001b[0m \u001b[38;5;28;01mexcept\u001b[39;00m core\u001b[38;5;241m.\u001b[39m_NotOkStatusException \u001b[38;5;28;01mas\u001b[39;00m e:\n\u001b[1;32m     55\u001b[0m   \u001b[38;5;28;01mif\u001b[39;00m name \u001b[38;5;129;01mis\u001b[39;00m \u001b[38;5;129;01mnot\u001b[39;00m \u001b[38;5;28;01mNone\u001b[39;00m:\n",
      "\u001b[0;31mKeyboardInterrupt\u001b[0m: "
     ]
    }
   ],
   "source": [
    "epochs = 100\n",
    "batch_size = 8\n",
    "\n",
    "history = model.fit(\n",
    "    X_lstm_train,\n",
    "    Y_lstm_train,\n",
    "    epochs=epochs,\n",
    "    batch_size=batch_size,\n",
    "    validation_data=(X_lstm_test, Y_lstm_test),\n",
    ")"
   ]
  },
  {
   "cell_type": "code",
   "execution_count": null,
   "id": "df9daeab-bd67-4716-b5e3-36dbdff1b4aa",
   "metadata": {},
   "outputs": [],
   "source": [
    "plt.plot(history.history[\"loss\"])\n",
    "plt.xlabel(\"Epochs\")\n",
    "plt.ylabel(\"Loss\")\n",
    "plt.show()"
   ]
  },
  {
   "cell_type": "code",
   "execution_count": null,
   "id": "197abb7c-a445-4f79-b4e7-ff5f4b7fca4c",
   "metadata": {},
   "outputs": [],
   "source": [
    "# 1. Vae -> komprimieren der nsegs\n",
    "# 2. lstm vorhersage"
   ]
  },
  {
   "cell_type": "code",
   "execution_count": null,
   "id": "3dd0ed89-4c80-45d1-84f0-20cf5004020a",
   "metadata": {},
   "outputs": [],
   "source": [
    "pred_40 = model.predict(X0_40)"
   ]
  },
  {
   "cell_type": "code",
   "execution_count": null,
   "id": "b28e7d77-2ba9-451a-8f50-3ed9dc66ea96",
   "metadata": {},
   "outputs": [],
   "source": [
    "V_dec_40 = np.array(vae.decoder(pred_40))"
   ]
  },
  {
   "cell_type": "code",
   "execution_count": null,
   "id": "da1d438b-6752-49a5-8d6c-709d08a860cb",
   "metadata": {},
   "outputs": [],
   "source": [
    "plt.stem(abs(V_40[14, :]))"
   ]
  },
  {
   "cell_type": "code",
   "execution_count": null,
   "id": "7c2de490-a1d6-4869-af71-5c356f74d25d",
   "metadata": {},
   "outputs": [],
   "source": [
    "plt.stem(V_dec_40[14, :])"
   ]
  },
  {
   "cell_type": "code",
   "execution_count": null,
   "id": "3b64b2e7-0cd6-420e-b1b8-a68fbed5a96d",
   "metadata": {},
   "outputs": [],
   "source": [
    "tmp = np.load(load_path_40 + \"sample_000014.npz\", allow_pickle=True)"
   ]
  },
  {
   "cell_type": "code",
   "execution_count": null,
   "id": "3c43cbca-03e7-46a4-8636-0a74c5ce75e4",
   "metadata": {},
   "outputs": [],
   "source": [
    "plt.stem(tmp[\"v_obj\"])"
   ]
  },
  {
   "cell_type": "code",
   "execution_count": null,
   "id": "c99833d8-66ae-457f-a024-2dc467c0edd7",
   "metadata": {},
   "outputs": [],
   "source": [
    "tmp.files"
   ]
  },
  {
   "cell_type": "code",
   "execution_count": null,
   "id": "97ddc884-aa77-41e8-86a3-ce51f5930c20",
   "metadata": {},
   "outputs": [],
   "source": [
    "tmp_s = {\n",
    "    \"anomaly\": tmp[\"anomaly\"],\n",
    "    \"perm_array\": tmp[\"perm_array\"],\n",
    "    \"n_el\": tmp[\"n_el\"],\n",
    "    \"h0\": tmp[\"h0\"],\n",
    "    \"v_empty\": norm_data(tmp[\"v_empty\"]),\n",
    "    \"v_obj\": V_dec_40[14, :],\n",
    "    \"dist_exc\": tmp[\"dist_exc\"],\n",
    "    \"step_meas\": tmp[\"step_meas\"],\n",
    "}"
   ]
  },
  {
   "cell_type": "code",
   "execution_count": null,
   "id": "712d9b3a-7934-4ad0-9366-7704bafb9419",
   "metadata": {},
   "outputs": [],
   "source": [
    "GREIT_sample(tmp_s, rec_only=False)"
   ]
  },
  {
   "cell_type": "code",
   "execution_count": null,
   "id": "f71543e2-da91-415b-9c75-4b3d7d43ef6b",
   "metadata": {},
   "outputs": [],
   "source": [
    "plt.stem(tmp_s[\"v_empty\"])\n",
    "plt.show()\n",
    "plt.stem(tmp_s[\"v_obj\"])"
   ]
  },
  {
   "cell_type": "code",
   "execution_count": null,
   "id": "7eedfb8e-0260-4d89-8cec-0cd56323abb9",
   "metadata": {},
   "outputs": [],
   "source": [
    "plt.stem(tmp[\"v_empty\"])\n",
    "plt.show()\n",
    "plt.stem(tmp[\"v_obj\"])"
   ]
  },
  {
   "cell_type": "code",
   "execution_count": null,
   "id": "cf07398b-fe9f-402a-99cf-ca82bf5e51cc",
   "metadata": {},
   "outputs": [],
   "source": []
  }
 ],
 "metadata": {
  "kernelspec": {
   "display_name": "ml-TF_2_12",
   "language": "python",
   "name": "ml-tf_2_12"
  },
  "language_info": {
   "codemirror_mode": {
    "name": "ipython",
    "version": 3
   },
   "file_extension": ".py",
   "mimetype": "text/x-python",
   "name": "python",
   "nbconvert_exporter": "python",
   "pygments_lexer": "ipython3",
   "version": "3.11.2"
  }
 },
 "nbformat": 4,
 "nbformat_minor": 5
}
