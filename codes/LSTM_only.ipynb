{
 "cells": [
  {
   "cell_type": "code",
   "execution_count": 1,
   "id": "d8131acf-1eaf-4bbd-b11b-8f435d225b04",
   "metadata": {},
   "outputs": [
    {
     "name": "stderr",
     "output_type": "stream",
     "text": [
      "2023-10-23 14:12:37.406688: I tensorflow/core/platform/cpu_feature_guard.cc:182] This TensorFlow binary is optimized to use available CPU instructions in performance-critical operations.\n",
      "To enable the following instructions: AVX2 FMA, in other operations, rebuild TensorFlow with the appropriate compiler flags.\n"
     ]
    }
   ],
   "source": [
    "import os\n",
    "\n",
    "import matplotlib.pyplot as plt\n",
    "import numpy as np\n",
    "import pyeit.eit.bp as bp\n",
    "import pyeit.eit.greit as greit\n",
    "import pyeit.eit.jac as jac\n",
    "import pyeit.eit.protocol as protocol\n",
    "import pyeit.mesh as mesh\n",
    "import tensorflow as tf\n",
    "from pyeit.eit.interp2d import sim2pts\n",
    "from sciopy import norm_data\n",
    "from sklearn.model_selection import train_test_split\n",
    "from support import GREIT_sample, show_mesh\n",
    "from tensorflow import GradientTape, exp, keras, reduce_mean, reduce_sum, shape, square\n",
    "from tensorflow.keras import layers, models\n",
    "from tensorflow.keras.layers import (\n",
    "    LSTM,\n",
    "    Activation,\n",
    "    Add,\n",
    "    BatchNormalization,\n",
    "    Bidirectional,\n",
    "    Concatenate,\n",
    "    Conv1D,\n",
    "    Conv2D,\n",
    "    ConvLSTM1D,\n",
    "    Cropping1D,\n",
    "    Cropping2D,\n",
    "    Dense,\n",
    "    Dropout,\n",
    "    Flatten,\n",
    "    Input,\n",
    "    Lambda,\n",
    "    MaxPooling1D,\n",
    "    Normalization,\n",
    "    Reshape,\n",
    "    ZeroPadding1D,\n",
    ")\n",
    "from tensorflow.keras.losses import Huber, binary_crossentropy, mse\n",
    "from tensorflow.keras.metrics import Mean\n",
    "from tensorflow.keras.models import Model"
   ]
  },
  {
   "cell_type": "code",
   "execution_count": 2,
   "id": "5f1038af-11dc-4e6c-bee3-b442bf811083",
   "metadata": {
    "tags": []
   },
   "outputs": [
    {
     "name": "stdout",
     "output_type": "stream",
     "text": [
      "This directory exists...continue\n"
     ]
    }
   ],
   "source": [
    "n_el = 16\n",
    "r_obj = 0.3\n",
    "h0 = 0.025\n",
    "dist_exc = 8\n",
    "step_meas = 4\n",
    "\n",
    "load_path_30 = f\"../data/{h0=}_{n_el=}_{r_obj=}_{dist_exc=}_{step_meas=}/\"\n",
    "\n",
    "if os.path.isdir(load_path_30):\n",
    "    print(\"This directory exists...continue\")\n",
    "else:\n",
    "    print(\"You have to generate the data...\")"
   ]
  },
  {
   "cell_type": "code",
   "execution_count": 3,
   "id": "7664de05-38af-44d3-a021-defb5a3eed92",
   "metadata": {},
   "outputs": [
    {
     "name": "stdout",
     "output_type": "stream",
     "text": [
      "This directory exists...continue\n"
     ]
    }
   ],
   "source": [
    "n_el = 16\n",
    "r_obj = 0.35\n",
    "h0 = 0.025\n",
    "dist_exc = 8\n",
    "step_meas = 4\n",
    "\n",
    "load_path_35 = f\"../data/{h0=}_{n_el=}_{r_obj=}_{dist_exc=}_{step_meas=}/\"\n",
    "\n",
    "if os.path.isdir(load_path_35):\n",
    "    print(\"This directory exists...continue\")\n",
    "else:\n",
    "    print(\"You have to generate the data...\")"
   ]
  },
  {
   "cell_type": "code",
   "execution_count": 4,
   "id": "3ae8d804-f810-4f06-9c22-4e2ebd82ed54",
   "metadata": {},
   "outputs": [
    {
     "name": "stdout",
     "output_type": "stream",
     "text": [
      "This directory exists...continue\n"
     ]
    }
   ],
   "source": [
    "n_el = 16\n",
    "r_obj = 0.4\n",
    "h0 = 0.025\n",
    "dist_exc = 8\n",
    "step_meas = 4\n",
    "\n",
    "load_path_40 = f\"../data/{h0=}_{n_el=}_{r_obj=}_{dist_exc=}_{step_meas=}/\"\n",
    "\n",
    "if os.path.isdir(load_path_40):\n",
    "    print(\"This directory exists...continue\")\n",
    "else:\n",
    "    print(\"You have to generate the data...\")"
   ]
  },
  {
   "cell_type": "code",
   "execution_count": 5,
   "id": "3d5e233b-d063-4bc9-a0ef-df0a8fe34dc3",
   "metadata": {
    "tags": []
   },
   "outputs": [],
   "source": [
    "V_30 = np.load(\n",
    "    \"../saves/\" + load_path_30.split(\"/\")[2] + \"_v_data.npy\", allow_pickle=True\n",
    ")\n",
    "V_35 = np.load(\n",
    "    \"../saves/\" + load_path_35.split(\"/\")[2] + \"_v_data.npy\", allow_pickle=True\n",
    ")\n",
    "\n",
    "V_40 = np.load(\n",
    "    \"../saves/\" + load_path_40.split(\"/\")[2] + \"_v_data.npy\", allow_pickle=True\n",
    ")"
   ]
  },
  {
   "cell_type": "code",
   "execution_count": 6,
   "id": "9bb08cea-b370-4fef-bc20-70289a55b34a",
   "metadata": {
    "tags": []
   },
   "outputs": [
    {
     "name": "stdout",
     "output_type": "stream",
     "text": [
      "(999, 192)\n",
      "(999, 192)\n",
      "(999, 192)\n"
     ]
    }
   ],
   "source": [
    "print(V_30.shape)\n",
    "print(V_35.shape)\n",
    "print(V_40.shape)"
   ]
  },
  {
   "cell_type": "code",
   "execution_count": 7,
   "id": "9d998a4f-932e-4ccd-a62c-596a4fec4ae8",
   "metadata": {},
   "outputs": [
    {
     "data": {
      "text/plain": [
       "(999, 192)"
      ]
     },
     "execution_count": 7,
     "metadata": {},
     "output_type": "execute_result"
    }
   ],
   "source": [
    "V_30.shape"
   ]
  },
  {
   "cell_type": "code",
   "execution_count": 8,
   "id": "af3d1e9d-9a92-42bd-9fdb-b7934a86161c",
   "metadata": {
    "scrolled": true,
    "tags": []
   },
   "outputs": [],
   "source": [
    "# creates overlapping segments with a length of nseg\n",
    "nseg = 4\n",
    "norm = True\n",
    "\n",
    "if norm:\n",
    "    V_30 = np.array([norm_data(v) for v in V_30])\n",
    "    V_35 = np.array([norm_data(v) for v in V_35])\n",
    "    V_40 = np.array([norm_data(v) for v in V_40])\n",
    "\n",
    "\n",
    "X0_30 = [V_30[n : n + nseg, :] for n in range(V_30.shape[0] - nseg + 1)]\n",
    "X0_30 = np.array(X0_30)\n",
    "\n",
    "X0_35 = [V_35[n : n + nseg, :] for n in range(V_35.shape[0] - nseg + 1)]\n",
    "X0_35 = np.array(X0_35)\n",
    "\n",
    "X0_40 = [V_40[n : n + nseg, :] for n in range(V_40.shape[0] - nseg + 1)]\n",
    "X0_40 = np.array(X0_40)\n",
    "\n",
    "Y0_30 = np.array(V_30[nseg - 1 :])\n",
    "Y0_35 = np.array(V_35[nseg - 1 :])\n",
    "Y0_40 = np.array(V_40[nseg - 1 :])"
   ]
  },
  {
   "cell_type": "code",
   "execution_count": 9,
   "id": "6561db6c-bcac-42a2-b5e5-d01608853162",
   "metadata": {},
   "outputs": [
    {
     "name": "stdout",
     "output_type": "stream",
     "text": [
      "(996, 4, 192) (996, 192)\n",
      "(996, 4, 192) (996, 192)\n",
      "(996, 4, 192) (996, 192)\n"
     ]
    }
   ],
   "source": [
    "print(X0_30.shape, Y0_30.shape)\n",
    "print(X0_35.shape, Y0_35.shape)\n",
    "print(X0_40.shape, Y0_40.shape)"
   ]
  },
  {
   "cell_type": "code",
   "execution_count": 10,
   "id": "6ac60bb3-b5c7-4869-916b-87959c823d83",
   "metadata": {},
   "outputs": [
    {
     "name": "stdout",
     "output_type": "stream",
     "text": [
      "(2988, 4, 192) (2988, 192)\n"
     ]
    }
   ],
   "source": [
    "X0_30_35_40 = np.concatenate((X0_30, X0_35, X0_40))\n",
    "Y0_30_35_40 = np.concatenate((Y0_30, Y0_35, Y0_40))\n",
    "print(X0_30_35_40.shape, Y0_30_35_40.shape)"
   ]
  },
  {
   "cell_type": "code",
   "execution_count": 11,
   "id": "d31dedb1-157a-4eb5-b77a-7074b55cf5b5",
   "metadata": {},
   "outputs": [],
   "source": [
    "X_lstm_train, X_lstm_test, Y_lstm_train, Y_lstm_test = train_test_split(\n",
    "    X0_30_35_40, Y0_30_35_40, test_size=0.05, shuffle=True, random_state=52\n",
    ")"
   ]
  },
  {
   "cell_type": "code",
   "execution_count": 12,
   "id": "6c79f9ce-ccf5-4563-aa75-b0eff9f8bf21",
   "metadata": {},
   "outputs": [
    {
     "data": {
      "text/plain": [
       "<StemContainer object of 3 artists>"
      ]
     },
     "execution_count": 12,
     "metadata": {},
     "output_type": "execute_result"
    },
    {
     "data": {
      "image/png": "[encoded data removed]",
      "text/plain": [
       "<Figure size 640x480 with 1 Axes>"
      ]
     },
     "metadata": {},
     "output_type": "display_data"
    }
   ],
   "source": [
    "plt.stem(Y_lstm_test[10,:])"
   ]
  },
  {
   "cell_type": "code",
   "execution_count": 13,
   "id": "bce8205e-e2f9-4801-b3fa-75dc94914c8c",
   "metadata": {},
   "outputs": [
    {
     "name": "stdout",
     "output_type": "stream",
     "text": [
      "(2838, 4, 192) (2838, 192)\n",
      "(150, 4, 192) (150, 192)\n"
     ]
    }
   ],
   "source": [
    "print(X_lstm_train.shape, Y_lstm_train.shape)\n",
    "print(X_lstm_test.shape, Y_lstm_test.shape)"
   ]
  },
  {
   "cell_type": "code",
   "execution_count": 14,
   "id": "d66b3586-815c-4be6-90f8-c4f5515cea6d",
   "metadata": {},
   "outputs": [],
   "source": [
    "latent_dim = 192\n",
    "\n",
    "def lstm_split(input_shape, nseg, v_shape):\n",
    "    def Slice(s):\n",
    "        # function for slicing x\n",
    "        def func(x):\n",
    "            return x[:, s, :]\n",
    "\n",
    "        return func\n",
    "\n",
    "    # define shared layers\n",
    "    dense = Dense(v_shape, activation=\"relu\")\n",
    "    inputs = Input(shape=input_shape)\n",
    "    con_list = []\n",
    "    for s in range(nseg):\n",
    "        # slicing x\n",
    "        x = Lambda(Slice(s))(inputs)\n",
    "        # shared layers\n",
    "        x = dense(x)\n",
    "        con_list.append(x)\n",
    "\n",
    "    # concat and reshape for LSTM\n",
    "    x = Concatenate(axis=1)(con_list)\n",
    "    x = Reshape((nseg, int(x.shape[1] / nseg)))(x)\n",
    "\n",
    "    x = LSTM(v_shape)(x)\n",
    "    x = Activation(\"softmax\")(x)\n",
    "\n",
    "    return Model(inputs, x)"
   ]
  },
  {
   "cell_type": "code",
   "execution_count": 15,
   "id": "cd9dff4e-e45e-4e2a-a42a-621449510e3d",
   "metadata": {},
   "outputs": [
    {
     "name": "stderr",
     "output_type": "stream",
     "text": [
      "2023-10-23 14:12:53.171937: I tensorflow/core/common_runtime/gpu/gpu_device.cc:1635] Created device /job:localhost/replica:0/task:0/device:GPU:0 with 46672 MB memory:  -> device: 0, name: NVIDIA RTX A6000, pci bus id: 0000:01:00.0, compute capability: 8.6\n",
      "2023-10-23 14:12:53.173830: I tensorflow/core/common_runtime/gpu/gpu_device.cc:1635] Created device /job:localhost/replica:0/task:0/device:GPU:1 with 46672 MB memory:  -> device: 1, name: NVIDIA RTX A6000, pci bus id: 0000:81:00.0, compute capability: 8.6\n"
     ]
    },
    {
     "name": "stdout",
     "output_type": "stream",
     "text": [
      "Model: \"model\"\n",
      "__________________________________________________________________________________________________\n",
      " Layer (type)                   Output Shape         Param #     Connected to                     \n",
      "==================================================================================================\n",
      " input_1 (InputLayer)           [(None, 4, 192)]     0           []                               \n",
      "                                                                                                  \n",
      " lambda (Lambda)                (None, 192)          0           ['input_1[0][0]']                \n",
      "                                                                                                  \n",
      " lambda_1 (Lambda)              (None, 192)          0           ['input_1[0][0]']                \n",
      "                                                                                                  \n",
      " lambda_2 (Lambda)              (None, 192)          0           ['input_1[0][0]']                \n",
      "                                                                                                  \n",
      " lambda_3 (Lambda)              (None, 192)          0           ['input_1[0][0]']                \n",
      "                                                                                                  \n",
      " dense (Dense)                  (None, 192)          37056       ['lambda[0][0]',                 \n",
      "                                                                  'lambda_1[0][0]',               \n",
      "                                                                  'lambda_2[0][0]',               \n",
      "                                                                  'lambda_3[0][0]']               \n",
      "                                                                                                  \n",
      " concatenate (Concatenate)      (None, 768)          0           ['dense[0][0]',                  \n",
      "                                                                  'dense[1][0]',                  \n",
      "                                                                  'dense[2][0]',                  \n",
      "                                                                  'dense[3][0]']                  \n",
      "                                                                                                  \n",
      " reshape (Reshape)              (None, 4, 192)       0           ['concatenate[0][0]']            \n",
      "                                                                                                  \n",
      " lstm (LSTM)                    (None, 192)          295680      ['reshape[0][0]']                \n",
      "                                                                                                  \n",
      " activation (Activation)        (None, 192)          0           ['lstm[0][0]']                   \n",
      "                                                                                                  \n",
      "==================================================================================================\n",
      "Total params: 332,736\n",
      "Trainable params: 332,736\n",
      "Non-trainable params: 0\n",
      "__________________________________________________________________________________________________\n",
      "None\n"
     ]
    },
    {
     "name": "stderr",
     "output_type": "stream",
     "text": [
      "2023-10-23 14:12:53.768832: I tensorflow/core/common_runtime/executor.cc:1197] [/device:CPU:0] (DEBUG INFO) Executor start aborting (this does not indicate an error and you can ignore this message): INVALID_ARGUMENT: You must feed a value for placeholder tensor 'gradients/split_2_grad/concat/split_2/split_dim' with dtype int32\n",
      "\t [[{{node gradients/split_2_grad/concat/split_2/split_dim}}]]\n",
      "2023-10-23 14:12:53.770117: I tensorflow/core/common_runtime/executor.cc:1197] [/device:CPU:0] (DEBUG INFO) Executor start aborting (this does not indicate an error and you can ignore this message): INVALID_ARGUMENT: You must feed a value for placeholder tensor 'gradients/split_grad/concat/split/split_dim' with dtype int32\n",
      "\t [[{{node gradients/split_grad/concat/split/split_dim}}]]\n",
      "2023-10-23 14:12:53.770977: I tensorflow/core/common_runtime/executor.cc:1197] [/device:CPU:0] (DEBUG INFO) Executor start aborting (this does not indicate an error and you can ignore this message): INVALID_ARGUMENT: You must feed a value for placeholder tensor 'gradients/split_1_grad/concat/split_1/split_dim' with dtype int32\n",
      "\t [[{{node gradients/split_1_grad/concat/split_1/split_dim}}]]\n"
     ]
    }
   ],
   "source": [
    "model = lstm_split(\n",
    "    input_shape=(nseg, latent_dim), nseg=nseg, v_shape=Y0_30_35_40.shape[1]\n",
    ")\n",
    "model.compile(optimizer=\"adam\", loss=\"MeanSquaredError\")\n",
    "print(model.summary())"
   ]
  },
  {
   "cell_type": "code",
   "execution_count": null,
   "id": "79df85b3-11b3-4c79-afd8-a81c2c0b4ef3",
   "metadata": {
    "scrolled": true,
    "tags": []
   },
   "outputs": [
    {
     "name": "stdout",
     "output_type": "stream",
     "text": [
      "Epoch 1/100\n"
     ]
    },
    {
     "name": "stderr",
     "output_type": "stream",
     "text": [
      "2023-10-23 14:12:54.248378: I tensorflow/core/common_runtime/executor.cc:1197] [/device:CPU:0] (DEBUG INFO) Executor start aborting (this does not indicate an error and you can ignore this message): INVALID_ARGUMENT: You must feed a value for placeholder tensor 'gradients/split_2_grad/concat/split_2/split_dim' with dtype int32\n",
      "\t [[{{node gradients/split_2_grad/concat/split_2/split_dim}}]]\n",
      "2023-10-23 14:12:54.249902: I tensorflow/core/common_runtime/executor.cc:1197] [/device:CPU:0] (DEBUG INFO) Executor start aborting (this does not indicate an error and you can ignore this message): INVALID_ARGUMENT: You must feed a value for placeholder tensor 'gradients/split_grad/concat/split/split_dim' with dtype int32\n",
      "\t [[{{node gradients/split_grad/concat/split/split_dim}}]]\n",
      "2023-10-23 14:12:54.250942: I tensorflow/core/common_runtime/executor.cc:1197] [/device:CPU:0] (DEBUG INFO) Executor start aborting (this does not indicate an error and you can ignore this message): INVALID_ARGUMENT: You must feed a value for placeholder tensor 'gradients/split_1_grad/concat/split_1/split_dim' with dtype int32\n",
      "\t [[{{node gradients/split_1_grad/concat/split_1/split_dim}}]]\n",
      "2023-10-23 14:12:54.970838: I tensorflow/core/common_runtime/executor.cc:1197] [/device:CPU:0] (DEBUG INFO) Executor start aborting (this does not indicate an error and you can ignore this message): INVALID_ARGUMENT: You must feed a value for placeholder tensor 'gradients/split_2_grad/concat/split_2/split_dim' with dtype int32\n",
      "\t [[{{node gradients/split_2_grad/concat/split_2/split_dim}}]]\n",
      "2023-10-23 14:12:54.972386: I tensorflow/core/common_runtime/executor.cc:1197] [/device:CPU:0] (DEBUG INFO) Executor start aborting (this does not indicate an error and you can ignore this message): INVALID_ARGUMENT: You must feed a value for placeholder tensor 'gradients/split_grad/concat/split/split_dim' with dtype int32\n",
      "\t [[{{node gradients/split_grad/concat/split/split_dim}}]]\n",
      "2023-10-23 14:12:54.973402: I tensorflow/core/common_runtime/executor.cc:1197] [/device:CPU:0] (DEBUG INFO) Executor start aborting (this does not indicate an error and you can ignore this message): INVALID_ARGUMENT: You must feed a value for placeholder tensor 'gradients/split_1_grad/concat/split_1/split_dim' with dtype int32\n",
      "\t [[{{node gradients/split_1_grad/concat/split_1/split_dim}}]]\n",
      "2023-10-23 14:12:55.333520: W tensorflow/core/grappler/costs/op_level_cost_estimator.cc:690] Error in PredictCost() for the op: op: \"Softmax\" attr { key: \"T\" value { type: DT_FLOAT } } inputs { dtype: DT_FLOAT shape { unknown_rank: true } } device { type: \"GPU\" vendor: \"NVIDIA\" model: \"NVIDIA RTX A6000\" frequency: 1800 num_cores: 84 environment { key: \"architecture\" value: \"8.6\" } environment { key: \"cuda\" value: \"11080\" } environment { key: \"cudnn\" value: \"8600\" } num_registers: 65536 l1_cache_size: 24576 l2_cache_size: 6291456 shared_memory_size_per_multiprocessor: 102400 memory_size: 48939925504 bandwidth: 768096000 } outputs { dtype: DT_FLOAT shape { unknown_rank: true } }\n",
      "2023-10-23 14:12:56.220463: I tensorflow/compiler/xla/stream_executor/cuda/cuda_blas.cc:637] TensorFloat-32 will be used for the matrix multiplication. This will only be logged once.\n",
      "2023-10-23 14:12:56.430159: I tensorflow/compiler/xla/stream_executor/cuda/cuda_dnn.cc:424] Loaded cuDNN version 8600\n",
      "2023-10-23 14:12:56.778825: I tensorflow/compiler/xla/service/service.cc:169] XLA service 0x55f82492b1f0 initialized for platform CUDA (this does not guarantee that XLA will be used). Devices:\n",
      "2023-10-23 14:12:56.778924: I tensorflow/compiler/xla/service/service.cc:177]   StreamExecutor device (0): NVIDIA RTX A6000, Compute Capability 8.6\n",
      "2023-10-23 14:12:56.778934: I tensorflow/compiler/xla/service/service.cc:177]   StreamExecutor device (1): NVIDIA RTX A6000, Compute Capability 8.6\n",
      "2023-10-23 14:12:56.810416: I tensorflow/compiler/mlir/tensorflow/utils/dump_mlir_util.cc:269] disabling MLIR crash reproducer, set env var `MLIR_CRASH_REPRODUCER_DIRECTORY` to enable.\n"
     ]
    },
    {
     "name": "stdout",
     "output_type": "stream",
     "text": [
      "  1/178 [..............................] - ETA: 9:16 - loss: 0.3426"
     ]
    },
    {
     "name": "stderr",
     "output_type": "stream",
     "text": [
      "2023-10-23 14:12:57.033197: I ./tensorflow/compiler/jit/device_compiler.h:180] Compiled cluster using XLA!  This line is logged at most once for the lifetime of the process.\n"
     ]
    },
    {
     "name": "stdout",
     "output_type": "stream",
     "text": [
      "178/178 [==============================] - 4s 8ms/step - loss: 0.3413 - val_loss: 0.3413\n",
      "Epoch 2/100\n",
      "  1/178 [..............................] - ETA: 1s - loss: 0.3392"
     ]
    },
    {
     "name": "stderr",
     "output_type": "stream",
     "text": [
      "2023-10-23 14:12:58.371930: I tensorflow/core/common_runtime/executor.cc:1197] [/device:CPU:0] (DEBUG INFO) Executor start aborting (this does not indicate an error and you can ignore this message): INVALID_ARGUMENT: You must feed a value for placeholder tensor 'gradients/split_2_grad/concat/split_2/split_dim' with dtype int32\n",
      "\t [[{{node gradients/split_2_grad/concat/split_2/split_dim}}]]\n",
      "2023-10-23 14:12:58.373496: I tensorflow/core/common_runtime/executor.cc:1197] [/device:CPU:0] (DEBUG INFO) Executor start aborting (this does not indicate an error and you can ignore this message): INVALID_ARGUMENT: You must feed a value for placeholder tensor 'gradients/split_grad/concat/split/split_dim' with dtype int32\n",
      "\t [[{{node gradients/split_grad/concat/split/split_dim}}]]\n",
      "2023-10-23 14:12:58.374603: I tensorflow/core/common_runtime/executor.cc:1197] [/device:CPU:0] (DEBUG INFO) Executor start aborting (this does not indicate an error and you can ignore this message): INVALID_ARGUMENT: You must feed a value for placeholder tensor 'gradients/split_1_grad/concat/split_1/split_dim' with dtype int32\n",
      "\t [[{{node gradients/split_1_grad/concat/split_1/split_dim}}]]\n",
      "2023-10-23 14:12:58.437806: W tensorflow/core/grappler/costs/op_level_cost_estimator.cc:690] Error in PredictCost() for the op: op: \"Softmax\" attr { key: \"T\" value { type: DT_FLOAT } } inputs { dtype: DT_FLOAT shape { unknown_rank: true } } device { type: \"GPU\" vendor: \"NVIDIA\" model: \"NVIDIA RTX A6000\" frequency: 1800 num_cores: 84 environment { key: \"architecture\" value: \"8.6\" } environment { key: \"cuda\" value: \"11080\" } environment { key: \"cudnn\" value: \"8600\" } num_registers: 65536 l1_cache_size: 24576 l2_cache_size: 6291456 shared_memory_size_per_multiprocessor: 102400 memory_size: 48939925504 bandwidth: 768096000 } outputs { dtype: DT_FLOAT shape { unknown_rank: true } }\n"
     ]
    },
    {
     "name": "stdout",
     "output_type": "stream",
     "text": [
      "178/178 [==============================] - 1s 5ms/step - loss: 0.3411 - val_loss: 0.3413\n",
      "Epoch 3/100\n",
      "178/178 [==============================] - 1s 6ms/step - loss: 0.3411 - val_loss: 0.3412\n",
      "Epoch 4/100\n",
      "178/178 [==============================] - 1s 5ms/step - loss: 0.3411 - val_loss: 0.3412\n",
      "Epoch 5/100\n",
      "178/178 [==============================] - 1s 5ms/step - loss: 0.3411 - val_loss: 0.3412\n",
      "Epoch 6/100\n",
      "178/178 [==============================] - 1s 5ms/step - loss: 0.3411 - val_loss: 0.3412\n",
      "Epoch 7/100\n",
      "178/178 [==============================] - 1s 5ms/step - loss: 0.3411 - val_loss: 0.3412\n",
      "Epoch 8/100\n",
      "178/178 [==============================] - 1s 5ms/step - loss: 0.3411 - val_loss: 0.3412\n",
      "Epoch 9/100\n",
      "178/178 [==============================] - 1s 5ms/step - loss: 0.3411 - val_loss: 0.3412\n",
      "Epoch 10/100\n",
      "178/178 [==============================] - 1s 5ms/step - loss: 0.3411 - val_loss: 0.3412\n",
      "Epoch 11/100\n",
      "178/178 [==============================] - 1s 5ms/step - loss: 0.3411 - val_loss: 0.3412\n",
      "Epoch 12/100\n",
      "178/178 [==============================] - 1s 5ms/step - loss: 0.3411 - val_loss: 0.3412\n",
      "Epoch 13/100\n",
      "178/178 [==============================] - 1s 5ms/step - loss: 0.3411 - val_loss: 0.3412\n",
      "Epoch 14/100\n",
      "178/178 [==============================] - 1s 5ms/step - loss: 0.3411 - val_loss: 0.3412\n",
      "Epoch 15/100\n",
      "178/178 [==============================] - 1s 5ms/step - loss: 0.3411 - val_loss: 0.3412\n",
      "Epoch 16/100\n",
      "178/178 [==============================] - 1s 5ms/step - loss: 0.3411 - val_loss: 0.3412\n",
      "Epoch 17/100\n",
      "178/178 [==============================] - 1s 5ms/step - loss: 0.3411 - val_loss: 0.3412\n",
      "Epoch 18/100\n",
      "178/178 [==============================] - 1s 5ms/step - loss: 0.3411 - val_loss: 0.3412\n",
      "Epoch 19/100\n",
      "178/178 [==============================] - 1s 5ms/step - loss: 0.3411 - val_loss: 0.3412\n",
      "Epoch 20/100\n",
      "178/178 [==============================] - 1s 5ms/step - loss: 0.3411 - val_loss: 0.3412\n",
      "Epoch 21/100\n",
      "178/178 [==============================] - 1s 5ms/step - loss: 0.3411 - val_loss: 0.3412\n",
      "Epoch 22/100\n",
      "178/178 [==============================] - 1s 5ms/step - loss: 0.3411 - val_loss: 0.3412\n",
      "Epoch 23/100\n",
      "178/178 [==============================] - 1s 5ms/step - loss: 0.3411 - val_loss: 0.3412\n",
      "Epoch 24/100\n",
      "178/178 [==============================] - 1s 5ms/step - loss: 0.3411 - val_loss: 0.3412\n",
      "Epoch 25/100\n",
      "178/178 [==============================] - 1s 5ms/step - loss: 0.3411 - val_loss: 0.3412\n",
      "Epoch 26/100\n",
      "178/178 [==============================] - 1s 6ms/step - loss: 0.3411 - val_loss: 0.3412\n",
      "Epoch 27/100\n",
      "178/178 [==============================] - 1s 5ms/step - loss: 0.3411 - val_loss: 0.3412\n",
      "Epoch 28/100\n",
      "178/178 [==============================] - 1s 5ms/step - loss: 0.3411 - val_loss: 0.3412\n",
      "Epoch 29/100\n",
      "178/178 [==============================] - 1s 5ms/step - loss: 0.3411 - val_loss: 0.3412\n",
      "Epoch 30/100\n",
      "178/178 [==============================] - 1s 5ms/step - loss: 0.3411 - val_loss: 0.3412\n",
      "Epoch 31/100\n",
      "178/178 [==============================] - 1s 5ms/step - loss: 0.3411 - val_loss: 0.3412\n",
      "Epoch 32/100\n",
      "178/178 [==============================] - 1s 5ms/step - loss: 0.3411 - val_loss: 0.3412\n",
      "Epoch 33/100\n",
      "178/178 [==============================] - 1s 5ms/step - loss: 0.3411 - val_loss: 0.3412\n",
      "Epoch 34/100\n",
      "178/178 [==============================] - 1s 5ms/step - loss: 0.3411 - val_loss: 0.3412\n",
      "Epoch 35/100\n",
      "178/178 [==============================] - 1s 5ms/step - loss: 0.3411 - val_loss: 0.3412\n",
      "Epoch 36/100\n",
      "178/178 [==============================] - 1s 5ms/step - loss: 0.3411 - val_loss: 0.3412\n",
      "Epoch 37/100\n",
      "178/178 [==============================] - 1s 5ms/step - loss: 0.3411 - val_loss: 0.3412\n",
      "Epoch 38/100\n",
      "178/178 [==============================] - 1s 5ms/step - loss: 0.3411 - val_loss: 0.3412\n",
      "Epoch 39/100\n",
      "178/178 [==============================] - 1s 5ms/step - loss: 0.3411 - val_loss: 0.3412\n",
      "Epoch 40/100\n",
      "178/178 [==============================] - 1s 5ms/step - loss: 0.3411 - val_loss: 0.3412\n",
      "Epoch 41/100\n",
      "178/178 [==============================] - 1s 5ms/step - loss: 0.3411 - val_loss: 0.3412\n",
      "Epoch 42/100\n",
      "178/178 [==============================] - 1s 5ms/step - loss: 0.3411 - val_loss: 0.3412\n",
      "Epoch 43/100\n",
      "178/178 [==============================] - 1s 5ms/step - loss: 0.3411 - val_loss: 0.3412\n",
      "Epoch 44/100\n",
      "178/178 [==============================] - 1s 5ms/step - loss: 0.3411 - val_loss: 0.3412\n",
      "Epoch 45/100\n",
      "178/178 [==============================] - 1s 5ms/step - loss: 0.3411 - val_loss: 0.3412\n",
      "Epoch 46/100\n",
      "178/178 [==============================] - 1s 5ms/step - loss: 0.3411 - val_loss: 0.3412\n",
      "Epoch 47/100\n",
      "178/178 [==============================] - 1s 5ms/step - loss: 0.3411 - val_loss: 0.3412\n",
      "Epoch 48/100\n",
      "178/178 [==============================] - 1s 5ms/step - loss: 0.3411 - val_loss: 0.3412\n",
      "Epoch 49/100\n",
      "178/178 [==============================] - 1s 5ms/step - loss: 0.3411 - val_loss: 0.3412\n",
      "Epoch 50/100\n",
      "178/178 [==============================] - 1s 5ms/step - loss: 0.3411 - val_loss: 0.3412\n",
      "Epoch 51/100\n",
      "178/178 [==============================] - 1s 5ms/step - loss: 0.3411 - val_loss: 0.3412\n",
      "Epoch 52/100\n",
      "178/178 [==============================] - 1s 4ms/step - loss: 0.3411 - val_loss: 0.3412\n",
      "Epoch 53/100\n",
      "178/178 [==============================] - 1s 5ms/step - loss: 0.3411 - val_loss: 0.3412\n",
      "Epoch 54/100\n",
      "178/178 [==============================] - 1s 5ms/step - loss: 0.3411 - val_loss: 0.3412\n",
      "Epoch 55/100\n",
      "178/178 [==============================] - 1s 5ms/step - loss: 0.3411 - val_loss: 0.3412\n",
      "Epoch 56/100\n",
      "178/178 [==============================] - 1s 5ms/step - loss: 0.3411 - val_loss: 0.3412\n",
      "Epoch 57/100\n",
      "178/178 [==============================] - 1s 5ms/step - loss: 0.3411 - val_loss: 0.3412\n",
      "Epoch 58/100\n",
      "178/178 [==============================] - 1s 5ms/step - loss: 0.3411 - val_loss: 0.3412\n",
      "Epoch 59/100\n",
      "178/178 [==============================] - 1s 5ms/step - loss: 0.3411 - val_loss: 0.3412\n",
      "Epoch 60/100\n",
      "178/178 [==============================] - 1s 5ms/step - loss: 0.3411 - val_loss: 0.3412\n",
      "Epoch 61/100\n",
      "178/178 [==============================] - 1s 5ms/step - loss: 0.3411 - val_loss: 0.3412\n",
      "Epoch 62/100\n",
      "178/178 [==============================] - 1s 5ms/step - loss: 0.3411 - val_loss: 0.3412\n",
      "Epoch 63/100\n",
      "178/178 [==============================] - 1s 5ms/step - loss: 0.3411 - val_loss: 0.3412\n",
      "Epoch 64/100\n",
      "178/178 [==============================] - 1s 5ms/step - loss: 0.3411 - val_loss: 0.3412\n",
      "Epoch 65/100\n",
      "178/178 [==============================] - 1s 5ms/step - loss: 0.3411 - val_loss: 0.3412\n",
      "Epoch 66/100\n",
      "178/178 [==============================] - 1s 5ms/step - loss: 0.3411 - val_loss: 0.3412\n",
      "Epoch 67/100\n",
      "178/178 [==============================] - 1s 5ms/step - loss: 0.3411 - val_loss: 0.3412\n",
      "Epoch 68/100\n",
      "178/178 [==============================] - 1s 5ms/step - loss: 0.3411 - val_loss: 0.3412\n",
      "Epoch 69/100\n",
      "178/178 [==============================] - 1s 5ms/step - loss: 0.3411 - val_loss: 0.3412\n",
      "Epoch 70/100\n",
      "178/178 [==============================] - 1s 5ms/step - loss: 0.3411 - val_loss: 0.3412\n",
      "Epoch 71/100\n",
      "178/178 [==============================] - 1s 5ms/step - loss: 0.3411 - val_loss: 0.3412\n",
      "Epoch 72/100\n",
      "178/178 [==============================] - 1s 5ms/step - loss: 0.3411 - val_loss: 0.3412\n",
      "Epoch 73/100\n",
      "178/178 [==============================] - 1s 5ms/step - loss: 0.3411 - val_loss: 0.3412\n",
      "Epoch 74/100\n",
      "178/178 [==============================] - 1s 5ms/step - loss: 0.3411 - val_loss: 0.3412\n",
      "Epoch 75/100\n",
      "178/178 [==============================] - 1s 5ms/step - loss: 0.3411 - val_loss: 0.3412\n",
      "Epoch 76/100\n",
      "143/178 [=======================>......] - ETA: 0s - loss: 0.3412"
     ]
    }
   ],
   "source": [
    "epochs = 100\n",
    "batch_size = 16\n",
    "\n",
    "history = model.fit(\n",
    "    X_lstm_train,\n",
    "    Y_lstm_train,\n",
    "    epochs=epochs,\n",
    "    batch_size=batch_size,\n",
    "    validation_data=(X_lstm_test, Y_lstm_test),\n",
    ")"
   ]
  },
  {
   "cell_type": "code",
   "execution_count": null,
   "id": "df9daeab-bd67-4716-b5e3-36dbdff1b4aa",
   "metadata": {},
   "outputs": [],
   "source": [
    "plt.plot(history.history[\"loss\"])\n",
    "plt.xlabel(\"Epochs\")\n",
    "plt.ylabel(\"Loss\")\n",
    "plt.show()"
   ]
  },
  {
   "cell_type": "code",
   "execution_count": null,
   "id": "d7b2d8e6-6072-4340-8961-5d5d61137dd7",
   "metadata": {},
   "outputs": [],
   "source": [
    "preds = model.predict(X_lstm_test)"
   ]
  },
  {
   "cell_type": "code",
   "execution_count": null,
   "id": "e4c3e882-489a-43c3-b397-f1e02272fdd9",
   "metadata": {},
   "outputs": [],
   "source": [
    "plt.stem(preds[10,:])"
   ]
  },
  {
   "cell_type": "code",
   "execution_count": null,
   "id": "bd80acc0-1020-4d05-943c-d12325e4c01f",
   "metadata": {},
   "outputs": [],
   "source": [
    "plt.stem(Y_lstm_test[15,:])"
   ]
  },
  {
   "cell_type": "code",
   "execution_count": null,
   "id": "2b67e75a-75c9-41e2-bc93-8317d93d734f",
   "metadata": {},
   "outputs": [],
   "source": []
  }
 ],
 "metadata": {
  "kernelspec": {
   "display_name": "ml-TF_2_12",
   "language": "python",
   "name": "ml-tf_2_12"
  },
  "language_info": {
   "codemirror_mode": {
    "name": "ipython",
    "version": 3
   },
   "file_extension": ".py",
   "mimetype": "text/x-python",
   "name": "python",
   "nbconvert_exporter": "python",
   "pygments_lexer": "ipython3",
   "version": "3.11.2"
  }
 },
 "nbformat": 4,
 "nbformat_minor": 5
}
