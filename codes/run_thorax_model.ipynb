{
 "cells": [
  {
   "cell_type": "code",
   "execution_count": 19,
   "id": "994ad5ee-9304-4ca5-999f-45dca0e7220a",
   "metadata": {},
   "outputs": [],
   "source": [
    "from tensorflow.keras.optimizers import Adam\n",
    "import numpy as np\n",
    "from support import plot_reconstruction, plot_mesh\n",
    "import pyeit.mesh as mesh\n",
    "from pyeit.mesh.shape import thorax"
   ]
  },
  {
   "cell_type": "code",
   "execution_count": 16,
   "id": "ed7805b7-e716-4051-b072-43732bd34510",
   "metadata": {},
   "outputs": [],
   "source": [
    "l_path = \"../data_thorax/h0=0.05_n_el=16_r_min=0.1_r_max=0.4_dist_exc=8_step_meas=4noise=Truendiv=2/\""
   ]
  },
  {
   "cell_type": "code",
   "execution_count": 17,
   "id": "21980259-bcc6-4b86-88c1-35b6df3f1672",
   "metadata": {},
   "outputs": [
    {
     "data": {
      "text/plain": [
       "['anomaly',\n",
       " 'perm_array',\n",
       " 'n_el',\n",
       " 'h0',\n",
       " 'v_empty',\n",
       " 'v_obj',\n",
       " 'dist_exc',\n",
       " 'step_meas']"
      ]
     },
     "execution_count": 17,
     "metadata": {},
     "output_type": "execute_result"
    }
   ],
   "source": [
    "tmp = np.load(l_path + \"sample_000000.npz\", allow_pickle=True)\n",
    "tmp.files"
   ]
  },
  {
   "cell_type": "markdown",
   "id": "274e389d-f5f4-4c02-b0d2-d0f34a9afba5",
   "metadata": {},
   "source": [
    "# Load Data"
   ]
  },
  {
   "cell_type": "code",
   "execution_count": null,
   "id": "68821509-80e1-456e-9243-9d8a9520b97b",
   "metadata": {},
   "outputs": [],
   "source": [
    "# create empty mesh:\n",
    "mesh_obj = mesh.create(tmp[\"n_el\"], h0=tmp[\"h0\"], fd=thorax)\n",
    "mesh_obj.perm = tmp[\"perm_array\"]\n",
    "plot_mesh(mesh_obj)"
   ]
  },
  {
   "cell_type": "code",
   "execution_count": null,
   "id": "5562e24f-d4b1-492b-b762-4d15176eec6f",
   "metadata": {},
   "outputs": [],
   "source": [
    "V = np.load(\"../data_thorax/V.npy\", allow_pickle=True)\n",
    "perms = np.load(\"../data_thorax/perms.npy\", allow_pickle=True)\n",
    "radii = np.load(\"../data_thorax/radii.npy\", allow_pickle=True)"
   ]
  },
  {
   "cell_type": "markdown",
   "id": "55bd82f5-dcc4-45b3-a142-c98e6cf91af9",
   "metadata": {},
   "source": [
    "# Load VAE"
   ]
  },
  {
   "cell_type": "code",
   "execution_count": 23,
   "id": "ee681f53-8a12-4584-b7b2-2c12b6a9544b",
   "metadata": {},
   "outputs": [],
   "source": [
    "from VAE_thorax import vae\n",
    "\n",
    "vae.build(input_shape=())\n",
    "vae.load_weights(\"../data_thorax/vae_w.h5\")"
   ]
  },
  {
   "cell_type": "code",
   "execution_count": null,
   "id": "62a3424b-135d-491d-b373-7ea175993849",
   "metadata": {},
   "outputs": [],
   "source": [
    "# test VAE\n",
    "tt_spl = 4_000\n",
    "perms_train = perms[:tt_spl]\n",
    "_, _, z0 = vae.encoder.predict(np.expand_dims(perms_train[0, :], 0))\n",
    "_, _, z50 = vae.encoder.predict(np.expand_dims(perms_train[50, :], 0))\n",
    "\n",
    "plot_reconstruction(mesh_obj, perms_train[0, :], title=\"true\")\n",
    "plot_reconstruction(mesh_obj, np.concatenate(vae.decoder.predict(z0)))\n",
    "plot_reconstruction(mesh_obj, perms_train[50, :], title=\"true\")\n",
    "plot_reconstruction(mesh_obj, np.concatenate(vae.decoder.predict(z50)))"
   ]
  },
  {
   "cell_type": "markdown",
   "id": "fc0e126d-d035-4336-a32a-dcba2018c38d",
   "metadata": {},
   "source": [
    "# Load different Mappers"
   ]
  },
  {
   "cell_type": "code",
   "execution_count": null,
   "id": "955045ed-7682-4891-93b4-264d9b5159f6",
   "metadata": {},
   "outputs": [],
   "source": []
  }
 ],
 "metadata": {
  "kernelspec": {
   "display_name": "ml-TF_2_12",
   "language": "python",
   "name": "ml-tf_2_12"
  },
  "language_info": {
   "codemirror_mode": {
    "name": "ipython",
    "version": 3
   },
   "file_extension": ".py",
   "mimetype": "text/x-python",
   "name": "python",
   "nbconvert_exporter": "python",
   "pygments_lexer": "ipython3",
   "version": "3.11.2"
  }
 },
 "nbformat": 4,
 "nbformat_minor": 5
}
