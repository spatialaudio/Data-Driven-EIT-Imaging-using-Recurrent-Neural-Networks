{
 "cells": [
  {
   "cell_type": "code",
   "execution_count": 1,
   "id": "5cda461c-7879-4eff-a80c-292b0f1c3b1f",
   "metadata": {
    "tags": []
   },
   "outputs": [
    {
     "name": "stderr",
     "output_type": "stream",
     "text": [
      "2023-10-09 12:52:54.670860: I tensorflow/tsl/cuda/cudart_stub.cc:28] Could not find cuda drivers on your machine, GPU will not be used.\n",
      "2023-10-09 12:52:54.698509: I tensorflow/tsl/cuda/cudart_stub.cc:28] Could not find cuda drivers on your machine, GPU will not be used.\n",
      "2023-10-09 12:52:54.699156: I tensorflow/core/platform/cpu_feature_guard.cc:182] This TensorFlow binary is optimized to use available CPU instructions in performance-critical operations.\n",
      "To enable the following instructions: AVX2 FMA, in other operations, rebuild TensorFlow with the appropriate compiler flags.\n",
      "2023-10-09 12:52:55.309985: W tensorflow/compiler/tf2tensorrt/utils/py_utils.cc:38] TF-TRT Warning: Could not find TensorRT\n"
     ]
    }
   ],
   "source": [
    "import os\n",
    "\n",
    "import matplotlib.pyplot as plt\n",
    "import numpy as np\n",
    "import tensorflow as tf\n",
    "from sklearn.model_selection import train_test_split\n",
    "from tensorflow import keras\n",
    "from tensorflow.keras import layers\n",
    "from tensorflow.keras.layers import (\n",
    "    LSTM,\n",
    "    Activation,\n",
    "    Add,\n",
    "    BatchNormalization,\n",
    "    Bidirectional,\n",
    "    Concatenate,\n",
    "    Conv1D,\n",
    "    Conv2D,\n",
    "    ConvLSTM1D,\n",
    "    Dense,\n",
    "    Dropout,\n",
    "    Flatten,\n",
    "    Input,\n",
    "    Lambda,\n",
    "    MaxPooling1D,\n",
    "    Normalization,\n",
    "    Reshape,\n",
    "    ZeroPadding1D,\n",
    ")\n",
    "from tensorflow.keras.models import Model"
   ]
  },
  {
   "cell_type": "code",
   "execution_count": 2,
   "id": "6a460485-2e3c-46ad-89bb-72702f81762c",
   "metadata": {
    "tags": []
   },
   "outputs": [],
   "source": [
    "# load data"
   ]
  },
  {
   "cell_type": "code",
   "execution_count": 3,
   "id": "2b663384-cc3b-4407-92a4-d9a7fc5116e7",
   "metadata": {
    "tags": []
   },
   "outputs": [
    {
     "name": "stdout",
     "output_type": "stream",
     "text": [
      "You have to generate the data...\n"
     ]
    }
   ],
   "source": [
    "n_el = 16\n",
    "r_obj = 0.4\n",
    "dist_exc = 8\n",
    "step_meas = 4\n",
    "\n",
    "load_path = f\"saves/{n_el=}_{r_obj=}_{dist_exc=}_{step_meas=}/\"\n",
    "\n",
    "if os.path.isdir(load_path):\n",
    "    print(\"This directory exists...continue\")\n",
    "else:\n",
    "    print(\"You have to generate the data...\")"
   ]
  },
  {
   "cell_type": "code",
   "execution_count": 4,
   "id": "3838ff11-7fb6-4d7b-b1cf-a29ad2bf3eb3",
   "metadata": {
    "tags": []
   },
   "outputs": [],
   "source": [
    "V = np.load(\"saves/\" + load_path.split(\"/\")[1] + \"_v_data.npy\", allow_pickle=True)"
   ]
  },
  {
   "cell_type": "code",
   "execution_count": 5,
   "id": "43d412df-beda-453b-bfc5-9a6a31232df9",
   "metadata": {
    "tags": []
   },
   "outputs": [
    {
     "data": {
      "text/plain": [
       "False"
      ]
     },
     "execution_count": 5,
     "metadata": {},
     "output_type": "execute_result"
    }
   ],
   "source": [
    "np.allclose(V[0], V[248])"
   ]
  },
  {
   "cell_type": "code",
   "execution_count": 6,
   "id": "33676b00-4134-45e6-8368-f38a4fd18fe4",
   "metadata": {
    "tags": []
   },
   "outputs": [],
   "source": [
    "# creates overlapping segments with a length of nseg\n",
    "nseg = 2\n",
    "X0 = [V[n : n + nseg, :] for n in range(V.shape[0] - nseg + 1)]  # is this nseg+1 right?\n",
    "X0 = np.array(X0)\n",
    "\n",
    "Y0 = np.array(V[nseg - 1 :])  # is this -1 right?"
   ]
  },
  {
   "cell_type": "code",
   "execution_count": 7,
   "id": "3516a0dd-18d3-4fd4-95b8-e63ba1f77ae4",
   "metadata": {
    "tags": []
   },
   "outputs": [
    {
     "name": "stdout",
     "output_type": "stream",
     "text": [
      "True\n",
      "True\n"
     ]
    }
   ],
   "source": [
    "# proof that the shift is right\n",
    "print(np.allclose(X0[0], V[0:nseg, :]))\n",
    "print(np.allclose(X0[244], V[244 : 244 + nseg, :]))"
   ]
  },
  {
   "cell_type": "code",
   "execution_count": 8,
   "id": "09b16100-153c-4fb6-9025-7e0f4bd60026",
   "metadata": {
    "tags": []
   },
   "outputs": [],
   "source": [
    "x_train, x_val, y_train, y_val = train_test_split(X0, Y0, test_size=0.2, shuffle=False)\n",
    "# x_val, y_val = train_test_split(Y0, test_size=0.2, shuffle=False)"
   ]
  },
  {
   "cell_type": "code",
   "execution_count": 9,
   "id": "94d095e3-570b-4df1-8580-e124de72dbfc",
   "metadata": {
    "tags": []
   },
   "outputs": [
    {
     "name": "stdout",
     "output_type": "stream",
     "text": [
      "(198, 2, 192) (50, 2, 192)\n",
      "(198, 192) (50, 192)\n"
     ]
    }
   ],
   "source": [
    "print(x_train.shape, x_val.shape)\n",
    "print(y_train.shape, y_val.shape)"
   ]
  },
  {
   "cell_type": "code",
   "execution_count": 10,
   "id": "487bd00f-7e90-4046-89b4-d041e12fb1b6",
   "metadata": {
    "tags": []
   },
   "outputs": [
    {
     "data": {
      "text/plain": [
       "(248, 2, 192)"
      ]
     },
     "execution_count": 10,
     "metadata": {},
     "output_type": "execute_result"
    }
   ],
   "source": [
    "X0.shape"
   ]
  },
  {
   "cell_type": "code",
   "execution_count": 11,
   "id": "f1a2c1bf-a920-42be-885e-bdd6a0e8304b",
   "metadata": {
    "tags": []
   },
   "outputs": [],
   "source": [
    "def lstm_split(input_shape, nseg):\n",
    "    def Slice(s):\n",
    "        # function for slicing x\n",
    "        def func(x):\n",
    "            return x[:, s, :]\n",
    "\n",
    "        return func\n",
    "\n",
    "    # define shared layers\n",
    "    dense = Dense(192, activation=\"relu\")\n",
    "\n",
    "    inputs = Input(shape=input_shape)\n",
    "\n",
    "    con_list = []\n",
    "    for s in range(nseg):\n",
    "        # slicing x\n",
    "        x = Lambda(Slice(s))(inputs)\n",
    "\n",
    "        # shared layers\n",
    "        x = dense(x)\n",
    "\n",
    "        con_list.append(x)\n",
    "\n",
    "    # concat and reshape for LSTM\n",
    "    x = Concatenate(axis=1)(con_list)\n",
    "    x = Reshape((nseg, int(x.shape[1] / nseg)))(x)\n",
    "\n",
    "    x = LSTM(192)(x)\n",
    "    x = Activation(\"softmax\")(x)\n",
    "\n",
    "    return Model(inputs, x)"
   ]
  },
  {
   "cell_type": "code",
   "execution_count": 12,
   "id": "10630f23-638f-48bd-889e-2f2a3df5e178",
   "metadata": {
    "tags": []
   },
   "outputs": [
    {
     "name": "stdout",
     "output_type": "stream",
     "text": [
      "Model: \"model\"\n",
      "__________________________________________________________________________________________________\n",
      " Layer (type)                Output Shape                 Param #   Connected to                  \n",
      "==================================================================================================\n",
      " input_1 (InputLayer)        [(None, 2, 192)]             0         []                            \n",
      "                                                                                                  \n",
      " lambda (Lambda)             (None, 192)                  0         ['input_1[0][0]']             \n",
      "                                                                                                  \n",
      " lambda_1 (Lambda)           (None, 192)                  0         ['input_1[0][0]']             \n",
      "                                                                                                  \n",
      " dense (Dense)               (None, 192)                  37056     ['lambda[0][0]',              \n",
      "                                                                     'lambda_1[0][0]']            \n",
      "                                                                                                  \n",
      " concatenate (Concatenate)   (None, 384)                  0         ['dense[0][0]',               \n",
      "                                                                     'dense[1][0]']               \n",
      "                                                                                                  \n",
      " reshape (Reshape)           (None, 2, 192)               0         ['concatenate[0][0]']         \n",
      "                                                                                                  \n",
      " lstm (LSTM)                 (None, 192)                  295680    ['reshape[0][0]']             \n",
      "                                                                                                  \n",
      " activation (Activation)     (None, 192)                  0         ['lstm[0][0]']                \n",
      "                                                                                                  \n",
      "==================================================================================================\n",
      "Total params: 332736 (1.27 MB)\n",
      "Trainable params: 332736 (1.27 MB)\n",
      "Non-trainable params: 0 (0.00 Byte)\n",
      "__________________________________________________________________________________________________\n",
      "None\n"
     ]
    },
    {
     "name": "stderr",
     "output_type": "stream",
     "text": [
      "2023-10-09 12:52:56.393475: E tensorflow/compiler/xla/stream_executor/cuda/cuda_driver.cc:268] failed call to cuInit: CUDA_ERROR_NO_DEVICE: no CUDA-capable device is detected\n"
     ]
    }
   ],
   "source": [
    "model = lstm_split(input_shape=(X0.shape[1], X0.shape[2]), nseg=nseg)\n",
    "model.compile(optimizer=\"adam\", loss=\"MeanSquaredError\")\n",
    "print(model.summary())"
   ]
  },
  {
   "cell_type": "code",
   "execution_count": 13,
   "id": "3199447a-717f-41de-8d33-f9d2d87bb10a",
   "metadata": {
    "tags": []
   },
   "outputs": [
    {
     "name": "stdout",
     "output_type": "stream",
     "text": [
      "Epoch 1/10\n"
     ]
    },
    {
     "name": "stderr",
     "output_type": "stream",
     "text": [
      "2023-10-09 12:52:57.680251: W tensorflow/core/grappler/costs/op_level_cost_estimator.cc:693] Error in PredictCost() for the op: op: \"Softmax\" attr { key: \"T\" value { type: DT_FLOAT } } inputs { dtype: DT_FLOAT shape { unknown_rank: true } } device { type: \"CPU\" vendor: \"AuthenticAMD\" model: \"240\" frequency: 1996 num_cores: 16 environment { key: \"cpu_instruction_set\" value: \"AVX SSE, SSE2, SSE3, SSSE3, SSE4.1, SSE4.2\" } environment { key: \"eigen\" value: \"3.4.90\" } l1_cache_size: 32768 l2_cache_size: 524288 l3_cache_size: 16777216 memory_size: 268435456 } outputs { dtype: DT_FLOAT shape { unknown_rank: true } }\n"
     ]
    },
    {
     "name": "stdout",
     "output_type": "stream",
     "text": [
      "13/13 [==============================] - 2s 29ms/step - loss: 0.3355 - val_loss: 0.3348\n",
      "Epoch 2/10\n",
      "13/13 [==============================] - 0s 6ms/step - loss: 0.3344 - val_loss: 0.3337\n",
      "Epoch 3/10\n",
      " 1/13 [=>............................] - ETA: 0s - loss: 0.3337"
     ]
    },
    {
     "name": "stderr",
     "output_type": "stream",
     "text": [
      "2023-10-09 12:52:58.224594: W tensorflow/core/grappler/costs/op_level_cost_estimator.cc:693] Error in PredictCost() for the op: op: \"Softmax\" attr { key: \"T\" value { type: DT_FLOAT } } inputs { dtype: DT_FLOAT shape { unknown_rank: true } } device { type: \"CPU\" vendor: \"AuthenticAMD\" model: \"240\" frequency: 1996 num_cores: 16 environment { key: \"cpu_instruction_set\" value: \"AVX SSE, SSE2, SSE3, SSSE3, SSE4.1, SSE4.2\" } environment { key: \"eigen\" value: \"3.4.90\" } l1_cache_size: 32768 l2_cache_size: 524288 l3_cache_size: 16777216 memory_size: 268435456 } outputs { dtype: DT_FLOAT shape { unknown_rank: true } }\n"
     ]
    },
    {
     "name": "stdout",
     "output_type": "stream",
     "text": [
      "13/13 [==============================] - 0s 7ms/step - loss: 0.3337 - val_loss: 0.3335\n",
      "Epoch 4/10\n",
      "13/13 [==============================] - 0s 6ms/step - loss: 0.3336 - val_loss: 0.3334\n",
      "Epoch 5/10\n",
      "13/13 [==============================] - 0s 6ms/step - loss: 0.3335 - val_loss: 0.3334\n",
      "Epoch 6/10\n",
      "13/13 [==============================] - 0s 6ms/step - loss: 0.3335 - val_loss: 0.3334\n",
      "Epoch 7/10\n",
      "13/13 [==============================] - 0s 6ms/step - loss: 0.3335 - val_loss: 0.3334\n",
      "Epoch 8/10\n",
      "13/13 [==============================] - 0s 6ms/step - loss: 0.3335 - val_loss: 0.3334\n",
      "Epoch 9/10\n",
      "13/13 [==============================] - 0s 7ms/step - loss: 0.3335 - val_loss: 0.3334\n",
      "Epoch 10/10\n",
      "13/13 [==============================] - 0s 6ms/step - loss: 0.3335 - val_loss: 0.3334\n"
     ]
    }
   ],
   "source": [
    "epochs = 10\n",
    "batch_size = 16\n",
    "history = model.fit(\n",
    "    x_train,\n",
    "    y_train,\n",
    "    epochs=epochs,\n",
    "    batch_size=batch_size,\n",
    "    validation_data=(x_val, y_val),\n",
    ")"
   ]
  },
  {
   "cell_type": "code",
   "execution_count": 14,
   "id": "703434bb-1cf4-4141-b7d4-cc69386b0436",
   "metadata": {
    "tags": []
   },
   "outputs": [
    {
     "name": "stdout",
     "output_type": "stream",
     "text": [
      "2/2 [==============================] - 0s 3ms/step\n"
     ]
    },
    {
     "name": "stderr",
     "output_type": "stream",
     "text": [
      "2023-10-09 12:52:59.239385: W tensorflow/core/grappler/costs/op_level_cost_estimator.cc:693] Error in PredictCost() for the op: op: \"Softmax\" attr { key: \"T\" value { type: DT_FLOAT } } attr { key: \"_has_manual_control_dependencies\" value { b: true } } inputs { dtype: DT_FLOAT shape { unknown_rank: true } } device { type: \"CPU\" vendor: \"AuthenticAMD\" model: \"240\" frequency: 1996 num_cores: 16 environment { key: \"cpu_instruction_set\" value: \"AVX SSE, SSE2, SSE3, SSSE3, SSE4.1, SSE4.2\" } environment { key: \"eigen\" value: \"3.4.90\" } l1_cache_size: 32768 l2_cache_size: 524288 l3_cache_size: 16777216 memory_size: 268435456 } outputs { dtype: DT_FLOAT shape { unknown_rank: true } }\n"
     ]
    }
   ],
   "source": [
    "predictions = model.predict(x_val)"
   ]
  },
  {
   "cell_type": "code",
   "execution_count": 15,
   "id": "d3615df7-2545-4ba2-b00a-4e9dd93a08e9",
   "metadata": {
    "tags": []
   },
   "outputs": [
    {
     "data": {
      "text/plain": [
       "<StemContainer object of 3 artists>"
      ]
     },
     "execution_count": 15,
     "metadata": {},
     "output_type": "execute_result"
    },
    {
     "data": {
      "image/png": "[encoded data removed]",
      "text/plain": [
       "<Figure size 640x480 with 1 Axes>"
      ]
     },
     "metadata": {},
     "output_type": "display_data"
    }
   ],
   "source": [
    "plt.stem(predictions[0])"
   ]
  },
  {
   "cell_type": "code",
   "execution_count": 16,
   "id": "bc16d34d-9409-4087-bb1d-c9abc5cce888",
   "metadata": {
    "tags": []
   },
   "outputs": [
    {
     "data": {
      "text/plain": [
       "<StemContainer object of 3 artists>"
      ]
     },
     "execution_count": 16,
     "metadata": {},
     "output_type": "execute_result"
    },
    {
     "data": {
      "image/png": "[encoded data removed]",
      "text/plain": [
       "<Figure size 640x480 with 1 Axes>"
      ]
     },
     "metadata": {},
     "output_type": "display_data"
    }
   ],
   "source": [
    "plt.stem(y_val[0])"
   ]
  },
  {
   "cell_type": "code",
   "execution_count": null,
   "id": "47f8d3f4-e394-458e-aeef-cd653f20fc33",
   "metadata": {},
   "outputs": [],
   "source": []
  }
 ],
 "metadata": {
  "kernelspec": {
   "display_name": "Python 3 (ipykernel)",
   "language": "python",
   "name": "python3"
  },
  "language_info": {
   "codemirror_mode": {
    "name": "ipython",
    "version": 3
   },
   "file_extension": ".py",
   "mimetype": "text/x-python",
   "name": "python",
   "nbconvert_exporter": "python",
   "pygments_lexer": "ipython3",
   "version": "3.10.12"
  }
 },
 "nbformat": 4,
 "nbformat_minor": 5
}
