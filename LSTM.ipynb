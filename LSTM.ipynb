{
 "cells": [
  {
   "cell_type": "code",
   "execution_count": 1,
   "id": "5cda461c-7879-4eff-a80c-292b0f1c3b1f",
   "metadata": {
    "tags": []
   },
   "outputs": [
    {
     "name": "stderr",
     "output_type": "stream",
     "text": [
      "2023-10-06 14:03:51.492583: I tensorflow/tsl/cuda/cudart_stub.cc:28] Could not find cuda drivers on your machine, GPU will not be used.\n",
      "2023-10-06 14:03:51.520438: I tensorflow/tsl/cuda/cudart_stub.cc:28] Could not find cuda drivers on your machine, GPU will not be used.\n",
      "2023-10-06 14:03:51.521271: I tensorflow/core/platform/cpu_feature_guard.cc:182] This TensorFlow binary is optimized to use available CPU instructions in performance-critical operations.\n",
      "To enable the following instructions: AVX2 FMA, in other operations, rebuild TensorFlow with the appropriate compiler flags.\n",
      "2023-10-06 14:03:52.197891: W tensorflow/compiler/tf2tensorrt/utils/py_utils.cc:38] TF-TRT Warning: Could not find TensorRT\n"
     ]
    }
   ],
   "source": [
    "import os\n",
    "\n",
    "import matplotlib.pyplot as plt\n",
    "import numpy as np\n",
    "import tensorflow as tf\n",
    "from sklearn.model_selection import train_test_split\n",
    "from tensorflow import keras\n",
    "from tensorflow.keras import layers\n",
    "from tensorflow.keras.layers import (\n",
    "    LSTM,\n",
    "    Activation,\n",
    "    Add,\n",
    "    BatchNormalization,\n",
    "    Bidirectional,\n",
    "    Concatenate,\n",
    "    Conv1D,\n",
    "    Conv2D,\n",
    "    ConvLSTM1D,\n",
    "    Dense,\n",
    "    Dropout,\n",
    "    Flatten,\n",
    "    Input,\n",
    "    Lambda,\n",
    "    MaxPooling1D,\n",
    "    Normalization,\n",
    "    Reshape,\n",
    "    ZeroPadding1D,\n",
    ")\n",
    "from tensorflow.keras.models import Model"
   ]
  },
  {
   "cell_type": "code",
   "execution_count": 2,
   "id": "6a460485-2e3c-46ad-89bb-72702f81762c",
   "metadata": {
    "tags": []
   },
   "outputs": [],
   "source": [
    "# load data"
   ]
  },
  {
   "cell_type": "code",
   "execution_count": 3,
   "id": "2b663384-cc3b-4407-92a4-d9a7fc5116e7",
   "metadata": {
    "tags": []
   },
   "outputs": [
    {
     "name": "stdout",
     "output_type": "stream",
     "text": [
      "This directory exists...continue\n"
     ]
    }
   ],
   "source": [
    "n_el = 16\n",
    "r_obj = 0.4\n",
    "dist_exc = 8\n",
    "step_meas = 4\n",
    "\n",
    "load_path = f\"data/{n_el=}_{r_obj=}_{dist_exc=}_{step_meas=}/\"\n",
    "\n",
    "if os.path.isdir(load_path):\n",
    "    print(\"This directory exists...continue\")\n",
    "else:\n",
    "    print(\"You have to generate the data...\")"
   ]
  },
  {
   "cell_type": "code",
   "execution_count": 4,
   "id": "3838ff11-7fb6-4d7b-b1cf-a29ad2bf3eb3",
   "metadata": {
    "tags": []
   },
   "outputs": [],
   "source": [
    "V = np.load(\"saves/\" + load_path.split(\"/\")[1] + \"_v_data.npy\", allow_pickle=True)"
   ]
  },
  {
   "cell_type": "code",
   "execution_count": 5,
   "id": "33676b00-4134-45e6-8368-f38a4fd18fe4",
   "metadata": {
    "tags": []
   },
   "outputs": [],
   "source": [
    "# creates overlapping segments with a length of nseg\n",
    "nseg = 2\n",
    "X0 = [V[n : n + nseg, :] for n in range(V.shape[0] - nseg + 1)]  # is this nseg+1 right?\n",
    "X0 = np.array(X0)\n",
    "\n",
    "Y0 = np.array(V[nseg - 1 :])  # is this -1 right?"
   ]
  },
  {
   "cell_type": "code",
   "execution_count": 6,
   "id": "3516a0dd-18d3-4fd4-95b8-e63ba1f77ae4",
   "metadata": {
    "tags": []
   },
   "outputs": [
    {
     "name": "stdout",
     "output_type": "stream",
     "text": [
      "True\n",
      "True\n"
     ]
    }
   ],
   "source": [
    "# proof that the shift is right\n",
    "print(np.allclose(X0[0], V[0:nseg, :]))\n",
    "print(np.allclose(X0[244], V[244 : 244 + nseg, :]))"
   ]
  },
  {
   "cell_type": "code",
   "execution_count": 7,
   "id": "09b16100-153c-4fb6-9025-7e0f4bd60026",
   "metadata": {
    "tags": []
   },
   "outputs": [],
   "source": [
    "x_train, y_train = train_test_split(X0, test_size=0.2, shuffle=False)\n",
    "x_val, y_val = train_test_split(Y0, test_size=0.2, shuffle=False)"
   ]
  },
  {
   "cell_type": "code",
   "execution_count": 8,
   "id": "94d095e3-570b-4df1-8580-e124de72dbfc",
   "metadata": {
    "tags": []
   },
   "outputs": [
    {
     "name": "stdout",
     "output_type": "stream",
     "text": [
      "(198, 2, 192) (198, 192)\n",
      "(50, 2, 192) (50, 192)\n"
     ]
    }
   ],
   "source": [
    "print(x_train.shape, x_val.shape)\n",
    "print(y_train.shape, y_val.shape)"
   ]
  },
  {
   "cell_type": "code",
   "execution_count": null,
   "id": "d2513482-dc9a-493e-bf13-f6095bb0e124",
   "metadata": {},
   "outputs": [],
   "source": []
  }
 ],
 "metadata": {
  "kernelspec": {
   "display_name": "Python 3 (ipykernel)",
   "language": "python",
   "name": "python3"
  },
  "language_info": {
   "codemirror_mode": {
    "name": "ipython",
    "version": 3
   },
   "file_extension": ".py",
   "mimetype": "text/x-python",
   "name": "python",
   "nbconvert_exporter": "python",
   "pygments_lexer": "ipython3",
   "version": "3.10.12"
  }
 },
 "nbformat": 4,
 "nbformat_minor": 5
}
